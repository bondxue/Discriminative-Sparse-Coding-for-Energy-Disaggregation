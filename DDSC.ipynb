{
 "cells": [
  {
   "cell_type": "markdown",
   "metadata": {},
   "source": [
    "# Discriminative Sparse Coding"
   ]
  },
  {
   "cell_type": "markdown",
   "metadata": {},
   "source": [
    "### import libraries"
   ]
  },
  {
   "cell_type": "code",
   "execution_count": 4,
   "metadata": {},
   "outputs": [],
   "source": [
    "from __future__ import division\n",
    "import numpy as np\n",
    "import pandas as pd\n",
    "import time\n",
    "import librosa\n",
    "import pickle\n",
    "from sklearn.model_selection import GridSearchCV\n",
    "from sklearn.decomposition import SparseCoder,DictionaryLearning\n",
    "from sklearn import cluster\n",
    "# from lightning.regression import CDRegressor\n",
    "import matplotlib.pyplot as plt\n"
   ]
  },
  {
   "cell_type": "code",
   "execution_count": 57,
   "metadata": {},
   "outputs": [],
   "source": [
    "class DDSC():\n",
    "    def __init__(self,train_set,train_sum,gradient_step_size,epsilon,regularization_parameter,steps,n_components,m,T,k):\n",
    "        \"\"\"\n",
    "        Either form is acceptable, but the two should not be mixed. Choose one\n",
    "        convention to document the __init__ method and be consistent with it.\n",
    "\n",
    "        Args:\n",
    "          gradient_step_size (float): gradiant rate for the convergence step for DD (4b).\n",
    "          epsilon (float) : the gradient stepsize of the pre-training (2b).\n",
    "          regularization_parameter (float) : weight of penalty function.\n",
    "          steps (int) : interations to be performed for the convergence part\n",
    "          param2 (list of str): Description of `param2`. Multiple\n",
    "            lines are supported.\n",
    "          param3 (int, optional): Description of `param3`, defaults to 0.\n",
    "\n",
    "        \"\"\"\n",
    "        self.train_set = train_set\n",
    "        self.train_sum = train_sum\n",
    "        self.alpha = gradient_step_size\n",
    "        self.epsilon = epsilon\n",
    "        self.rp = regularization_parameter\n",
    "        self.steps = steps\n",
    "        self.n = n_components\n",
    "        self.m = m\n",
    "        self.T = T\n",
    "        self.k = k\n",
    "\n",
    "        '''\n",
    "        Instances that can be used for plotting\n",
    "        '''\n",
    "        self.acc_nnsc = None\n",
    "        self.err_nnsc = None\n",
    "        self.acc_ddsc = None\n",
    "        self.err_ddsc = None\n",
    "        self.a_nnsc = None\n",
    "        self.b_nnsc = None\n",
    "        self.a_ddsc = None\n",
    "        self.b_ddsc = None\n",
    "\n",
    "\n",
    "################################################################\n",
    "# will initiualize the matrices A,B with positive values and scale\n",
    "# columns of B s.t b(j) = 1\n",
    "    def _initialization(self):\n",
    "\n",
    "        a = np.random.random((self.n,self.m))\n",
    "        b = np.random.random((self.T,self.n))\n",
    "\n",
    "        # scale columns s.t. b_i^(j) = 1\n",
    "        b /= sum(b)\n",
    "        return a,b\n",
    "\n",
    "    # add random positive number to A,B\n",
    "    # scale columns of b(j)\n",
    "\n",
    "#################################################################\n",
    "    def accuracy(self,x,x_sum,B,A):\n",
    "        '''\n",
    "        Everything needs to be in lists of ndarrays\n",
    "        of the components\n",
    "        '''\n",
    "        B_cat = np.hstack(B)\n",
    "        A_cat = np.vstack(A)\n",
    "\n",
    "        A_prime = self.F(x_sum.values,B_cat,A=A_cat)\n",
    "        A_last = np.split(A_prime,self.k,axis=0)\n",
    "        x_predict = self.predict(A_last,B)\n",
    "        acc_numerator = (map(lambda i: (np.minimum( (B[i].dot(A_last[i])).sum() ,\n",
    "                        (sum(list(x)[i].sum())))) ,\n",
    "                        range(len(B))))\n",
    "        acc_denominator = sum(x_predict).sum()\n",
    "        acc = sum(acc_numerator) / acc_denominator\n",
    "        acc_numerator = (map(lambda i: (np.minimum( (B[i].dot(A_last[i])).sum() ,\n",
    "                        (sum(list(x)[i].sum())))) ,\n",
    "                        range(len(B))))\n",
    "        acc_denominator = x_sum.values.sum()\n",
    "        acc_star = sum(acc_numerator) / acc_denominator\n",
    "        return acc, acc_star\n",
    "\n",
    "    def get_accuracy_plot(self):\n",
    "        return self.acc_nnsc, self.acc_ddsc\n",
    "\n",
    "    def get_error_plot(self):\n",
    "        return self.err_nnsc, self.err_ddsc\n",
    "\n",
    "    def get_a(self):\n",
    "        return self.a_nnsc, self.a_ddsc\n",
    "\n",
    "    def get_b(self):\n",
    "        return self.b_nnsc, self.b_ddsc\n",
    "\n",
    "    def error(self,x,x_sum,B,A):\n",
    "        '''\n",
    "        Error for the whole disaggregation part within list, sum the list to get\n",
    "        the resulting disaggregation\n",
    "        Parameters : must have x_train as x\n",
    "        '''\n",
    "        B_cat = np.hstack(B)\n",
    "        A_cat = np.vstack(A)\n",
    "\n",
    "        error = (map(lambda i: ((1.0/2.0)*np.linalg.norm( (x[i]\n",
    "                       - B[i].dot(A[i]))**2)),range(len(B))))\n",
    "        A_last_error = self.F(x_sum.values,B_cat,A_cat)\n",
    "        A_last_error_list = np.split(A_last_error,self.k,axis=0)\n",
    "        error_star = (map(lambda i: ((1.0/2.0)*np.linalg.norm( (x[i]\n",
    "                       - B[i].dot(A_last_error_list[i]))**2)),range(len(B))))\n",
    "        return error, error_star\n",
    "\n",
    "    def pre_training(self,x):\n",
    "        # TODO : implement s.t. conditions and frobenius norm to the options\n",
    "        tic = time.time()\n",
    "        #the NON NEGATIVE SPARSE CODING\n",
    "        A_list,B_list = self.nnsc(x)\n",
    "\n",
    "        tac = time.time()\n",
    "        t = tac - tic\n",
    "        print('time of computations for Dictionary Learning with m: %s and T: %s took: %f' %(self.m,self.T,t))\n",
    "        return A_list,B_list\n",
    "################################################################\n",
    "    # using only the positive values\n",
    "    @staticmethod\n",
    "    def _pos_constraint(a):\n",
    "        indices = np.where(a < 0.0)\n",
    "        a[indices] = 0.0\n",
    "        return a\n",
    "#################################################################\n",
    "    def nnsc(self,appliances):\n",
    "        '''\n",
    "        Method as in NNSC from nonnegative sparse coding finland.\n",
    "        from P.Hoyer\n",
    "        TODO:\n",
    "        implement the coordinate descent algorithm, as of now we are using         gradient descent (not as efficient)\n",
    "        Also create multiple ndarrays that we take the argmin for.\n",
    "        '''\n",
    "        epsilon = 0.01\n",
    "        acc_nnsc = []\n",
    "        err_nnsc = []\n",
    "        a_nnsc = []\n",
    "        b_nnsc = []\n",
    "        # used for F\n",
    "        x_train_sum = self.train_set.values()\n",
    "        A_list = []\n",
    "        B_list = []\n",
    "        for x in appliances:\n",
    "            A,B = self._initialization()\n",
    "            Ap = A\n",
    "            Bp = B\n",
    "            Ap1 = Ap\n",
    "            Bp1 = Bp\n",
    "            t = 0\n",
    "            change = 1\n",
    "            while t <= self.steps and self.epsilon <= change:\n",
    "                # 2a\n",
    "                Bp = Bp - self.alpha*np.dot((np.dot(Bp,Ap) - x),Ap.T)\n",
    "                # 2b\n",
    "                Bp = self._pos_constraint(Bp)\n",
    "                # 2c\n",
    "                Bp /= sum(Bp)\n",
    "                # element wise division\n",
    "                dot2 = np.divide(np.dot(Bp.T,x),(np.dot(np.dot(Bp.T,Bp),Ap) + self.rp))\n",
    "                # 2d\n",
    "                Ap = np.multiply(Ap,dot2)\n",
    "\n",
    "\n",
    "                change = np.linalg.norm(Ap - Ap1)\n",
    "                change2 = np.linalg.norm(Bp - Bp1)\n",
    "                Ap1 = Ap\n",
    "                Bp1 = Bp\n",
    "                t += 1\n",
    "                print(\"NNSC change is %s for iter %s, and B change is %s\" %(change,t,change2))\n",
    "\n",
    "            print(\"Gone through one appliance\")\n",
    "            A_list.append(Ap)\n",
    "            B_list.append(Bp)\n",
    "\n",
    "\n",
    "        # for thesis\n",
    "        acc_iter = self.accuracy(x_train_sum,self.train_sum,B_list,A_list)\n",
    "        err_iter = self.error(x_train_sum,self.train_sum,B_list,A_list)\n",
    "        acc_nnsc.append(acc_iter)\n",
    "        err_nnsc.append(err_iter)\n",
    "        # append norm of matrices\n",
    "        a_nnsc.append(np.linalg.norm(sum(A_list)))\n",
    "        b_nnsc.append(np.linalg.norm(sum(B_list)))\n",
    "\n",
    "        self.acc_nnsc = acc_nnsc\n",
    "        self.err_nnsc = err_nnsc\n",
    "        self.a_nnsc = a_nnsc\n",
    "        self.b_nnsc = b_nnsc\n",
    "        return A_list,B_list\n",
    "#################################################################\n",
    "    def F(self,x,B,x_train=None,A=None,rp_tep=False,rp_gl=False):\n",
    "        '''\n",
    "        input is lists of the elements\n",
    "        output list of elements\n",
    "        '''\n",
    "        # 4b\n",
    "        B = np.asarray(B)\n",
    "        A = np.asarray(A)\n",
    "        coder = SparseCoder(dictionary=B.T,\n",
    "                            transform_alpha=self.rp, transform_algorithm='lasso_cd')\n",
    "        comps, acts = librosa.decompose.decompose(x,transformer=coder)\n",
    "        acts = self._pos_constraint(acts)\n",
    "\n",
    "        return acts\n",
    "#################################################################\n",
    "    def DD(self,x,B,A):\n",
    "        '''\n",
    "        Taking the parameters as x_train_use and discriminate over the\n",
    "        entire region\n",
    "        '''\n",
    "        # 3.\n",
    "        A_star = np.vstack(A)\n",
    "        B_cat = np.hstack(B)\n",
    "        change = 1\n",
    "        t = 0\n",
    "        acc_ddsc = []\n",
    "        err_ddsc = []\n",
    "        a_ddsc = []\n",
    "        b_ddsc = []\n",
    "        x_train_sum = self.train_set.values()\n",
    "        while t <= self.steps and self.epsilon <= change:\n",
    "            B_cat_p = B_cat\n",
    "            # 4a\n",
    "            acts = self.F(x,B_cat,A=A_star)\n",
    "            # 4b\n",
    "            B_cat = (B_cat-self.alpha*((x-B_cat.dot(acts))\n",
    "                     .dot(acts.T) - (x-B_cat.dot(A_star)).dot(A_star.T)))\n",
    "            # 4c\n",
    "            # scale columns s.t. b_i^(j) = 1\n",
    "            B_cat = self._pos_constraint(B_cat)\n",
    "            B_cat /= sum(B_cat)\n",
    "\n",
    "            # convergence check\n",
    "            acts_split = np.split(acts,self.k,axis=0)\n",
    "            B_split = np.split(B_cat,self.k,axis=1)\n",
    "            acc_iter = self.accuracy(x_train_sum,self.train_sum,B,acts_split)\n",
    "            acc_iter = self.accuracy(x_train_sum,self.train_sum,B_split,A)\n",
    "            err_iter = self.error(x_train_sum,self.train_sum,B,acts_split)\n",
    "            acc_ddsc.append(acc_iter)\n",
    "            err_ddsc.append(err_iter)\n",
    "            a_ddsc.append(np.linalg.norm(acts))\n",
    "            b_ddsc.append(np.linalg.norm(B_cat))\n",
    "\n",
    "            change = np.linalg.norm(B_cat - B_cat_p)\n",
    "            t += 1\n",
    "            print(\"DD change is %f and step is %d\" %(change,t))\n",
    "\n",
    "        self.acc_ddsc = acc_ddsc\n",
    "        self.err_ddsc = err_ddsc\n",
    "        self.a_ddsc = a_ddsc\n",
    "        self.b_ddsc = b_ddsc\n",
    "        return B_cat\n",
    "\n",
    "#################################################################\n",
    "    def predict(self,A,B):\n",
    "        x = map(lambda x,y: x.dot(y),B,A)\n",
    "        return x"
   ]
  },
  {
   "cell_type": "code",
   "execution_count": 44,
   "metadata": {},
   "outputs": [
    {
     "data": {
      "text/plain": [
       "array([], shape=(0, 2), dtype=float64)"
      ]
     },
     "execution_count": 44,
     "metadata": {},
     "output_type": "execute_result"
    }
   ],
   "source": [
    "np.random.random((0, 2))"
   ]
  },
  {
   "cell_type": "code",
   "execution_count": 9,
   "metadata": {},
   "outputs": [],
   "source": [
    "from __future__ import division\n",
    "import numpy as np\n",
    "import pandas as pd\n",
    "import time\n",
    "import librosa\n",
    "import pickle\n",
    "from sklearn.model_selection import GridSearchCV\n",
    "from sklearn.decomposition import SparseCoder,DictionaryLearning\n",
    "from sklearn import cluster\n",
    "# from lightning.regression import CDRegressor\n",
    "import matplotlib.pyplot as plt\n",
    "\n",
    "import os\n",
    "import sys\n",
    "import pandas as pd\n",
    "from collections import defaultdict"
   ]
  },
  {
   "cell_type": "code",
   "execution_count": 10,
   "metadata": {},
   "outputs": [
    {
     "name": "stdout",
     "output_type": "stream",
     "text": [
      "8759\n",
      "8759\n",
      "8759\n",
      "8759\n"
     ]
    }
   ],
   "source": [
    "def read_data():\n",
    "    \n",
    "    houses = [135, 275, 580, 898]\n",
    "    df = pd.DataFrame()\n",
    "    for house in houses:\n",
    "        house_df = pd.read_csv('datasets/{}.csv'.format(str(house)))\n",
    "        house_df['DateTime'] = pd.to_datetime(house_df['DateTime'])\n",
    "        house_df = house_df.set_index('DateTime')\n",
    "        house_df = house_df.resample('1H').first()  # resample from 15 mins to 1 hour \n",
    "        house_df = house_df.reset_index(drop=False) \n",
    "        print(len(house_df))\n",
    "               \n",
    "        house_df.columns = ['localhour', 'use', 'air1', 'furnace1', 'dishwasher1', 'regrigerator1']  \n",
    "        appliances_sum = house_df[['air1', 'furnace1', 'dishwasher1', 'regrigerator1']].sum(axis=1)\n",
    "        house_df['other'] = house_df['use'].subtract(appliances_sum)\n",
    "        house_df['house'] = house\n",
    "        house_df = house_df.set_index('house')\n",
    "        df = pd.concat([df, house_df])\n",
    "                               \n",
    "    return df\n",
    "\n",
    "df = read_data()"
   ]
  },
  {
   "cell_type": "code",
   "execution_count": 14,
   "metadata": {},
   "outputs": [],
   "source": [
    "def format_data(df):\n",
    "    '''\n",
    "    Parameters: dataframe of the apppliacnes\n",
    "    Return: dictionary contains all X^T x m\n",
    "    '''\n",
    "    d = {}\n",
    "    houses = [135, 275, 580,  898]\n",
    "    for appliance in df.columns.tolist():\n",
    "        started = 0\n",
    "        for i in houses:\n",
    "\n",
    "            if started == 0:\n",
    "\n",
    "                d[str(appliance)] = df[[str(appliance)]][df[str(appliance)].index == i]\n",
    "                started = 1\n",
    "                dfindex = d[str(appliance)].index\n",
    "            else:\n",
    "\n",
    "                d[str(appliance)][str(i)] = pd.Series(df[str(appliance)][df[str(appliance)].index == i].values,index=dfindex)\n",
    "\n",
    "        d[str(appliance)]=d[str(appliance)].rename(columns = {str(appliance):str(dfindex[0])})\n",
    "        d[str(appliance)].reset_index(drop=True, inplace=True)\n",
    "    return d\n",
    "    \n",
    "d = format_data(df)"
   ]
  },
  {
   "cell_type": "code",
   "execution_count": 19,
   "metadata": {},
   "outputs": [],
   "source": [
    "def split(d,portion,timeframe, portion_houses=None, option=None):\n",
    "    '''\n",
    "    Parameters: d = dictionary, portion 0.5 - 0.9, timeframe 1-8760\n",
    "\n",
    "    Return: x_train,x_test dictionarys containing dataframes of all the appliances within the timeframe.\n",
    "    '''\n",
    "\n",
    "    x_train = {}\n",
    "    x_test = {}\n",
    "    timeframe = range(timeframe)\n",
    "    columns = list(d.keys())\n",
    "    train_list  = timeframe[int(len(timeframe) * 0.0):int(len(timeframe) * portion)]\n",
    "    test_list = timeframe[int(len(timeframe) * portion):int(len(timeframe) * 1.0)]\n",
    "    '''\n",
    "    start_day_2014 = 3 # thursday\n",
    "    if option == 'week':\n",
    "        for key in d.keys():\n",
    "            x_train[key] = d[key].loc\n",
    "    '''\n",
    "    if portion_houses != None:\n",
    "        houses  = columns[int(len(columns) * 0.0): int(len(columns) * portion_houses)]\n",
    "\n",
    "    for key in d.keys():\n",
    "\n",
    "        if portion_houses != None:\n",
    "            x_train[key] = d[key].loc[train_list,houses]\n",
    "            x_test[key] = d[key].loc[test_list,houses]\n",
    "        else:\n",
    "            x_train[key] = d[key].loc[train_list,:]\n",
    "            x_test[key] = d[key].loc[test_list,:]\n",
    "\n",
    "    return x_train,x_test"
   ]
  },
  {
   "cell_type": "code",
   "execution_count": 58,
   "metadata": {},
   "outputs": [
    {
     "name": "stdout",
     "output_type": "stream",
     "text": [
      "started the pre-training\n",
      "NNSC change is 17.845527471279354 for iter 1, and B change is 0.046027881890159356\n",
      "NNSC change is 0.060777730500173814 for iter 2, and B change is 3.348111048303727e-05\n",
      "NNSC change is 0.06302848225987516 for iter 3, and B change is 3.721203092658786e-05\n",
      "NNSC change is 0.06557547765826789 for iter 4, and B change is 4.178574085626322e-05\n",
      "NNSC change is 0.06782349660191296 for iter 5, and B change is 4.6957374578524446e-05\n",
      "NNSC change is 0.06932193817640576 for iter 6, and B change is 5.259914320297707e-05\n",
      "NNSC change is 0.06993610030669317 for iter 7, and B change is 5.856438886813623e-05\n",
      "NNSC change is 0.06972876942457189 for iter 8, and B change is 6.470391762811883e-05\n",
      "NNSC change is 0.06886817943697607 for iter 9, and B change is 7.088399881900308e-05\n",
      "NNSC change is 0.06755550553406663 for iter 10, and B change is 7.699776645021159e-05\n",
      "NNSC change is 0.06597529409684884 for iter 11, and B change is 8.296898509300373e-05\n",
      "NNSC change is 0.06426920992545117 for iter 12, and B change is 8.87500130379789e-05\n",
      "NNSC change is 0.06252908936089657 for iter 13, and B change is 9.431651391406099e-05\n",
      "NNSC change is 0.06080278619574417 for iter 14, and B change is 9.966109652978538e-05\n",
      "NNSC change is 0.059106115421323824 for iter 15, and B change is 0.00010478732512369943\n",
      "NNSC change is 0.05743568454898137 for iter 16, and B change is 0.00010970483676136471\n",
      "NNSC change is 0.05577954277013786 for iter 17, and B change is 0.0001144257862955656\n",
      "NNSC change is 0.05412451033904386 for iter 18, and B change is 0.00011896252977731676\n",
      "NNSC change is 0.05246033109907682 for iter 19, and B change is 0.00012332631177811205\n",
      "NNSC change is 0.050781389662597945 for iter 20, and B change is 0.00012752668463755792\n",
      "NNSC change is 0.04908684883223748 for iter 21, and B change is 0.0001315714101474208\n",
      "NNSC change is 0.04737992794779629 for iter 22, and B change is 0.00013546664280067444\n",
      "NNSC change is 0.04566683152282619 for iter 23, and B change is 0.00013921724783358562\n",
      "NNSC change is 0.04395564162798408 for iter 24, and B change is 0.00014282715605214543\n",
      "NNSC change is 0.04225533997129797 for iter 25, and B change is 0.0001462996964508251\n",
      "NNSC change is 0.04057502817123429 for iter 26, and B change is 0.00014963787619766107\n",
      "NNSC change is 0.03892335698623426 for iter 27, and B change is 0.00015284459685804938\n",
      "NNSC change is 0.03730814503652623 for iter 28, and B change is 0.000155922807648761\n",
      "NNSC change is 0.03573615466643949 for iter 29, and B change is 0.00015887560302822252\n",
      "NNSC change is 0.03421298977005051 for iter 30, and B change is 0.0001617062747579154\n",
      "NNSC change is 0.03274308286965177 for iter 31, and B change is 0.0001644183290785584\n",
      "NNSC change is 0.031329743565819704 for iter 32, and B change is 0.00016701547882899743\n",
      "NNSC change is 0.029975245977113128 for iter 33, and B change is 0.00016950161888604526\n",
      "NNSC change is 0.028680938050701058 for iter 34, and B change is 0.00017188079164776526\n",
      "NNSC change is 0.027447360225064606 for iter 35, and B change is 0.00017415714768847344\n",
      "NNSC change is 0.026274364714451905 for iter 36, and B change is 0.000176334905303612\n",
      "NNSC change is 0.02516122966730494 for iter 37, and B change is 0.00017841831149455816\n",
      "NNSC change is 0.02410676470968793 for iter 38, and B change is 0.00018041160602127844\n",
      "NNSC change is 0.023109406033013282 for iter 39, and B change is 0.0001823189894504736\n",
      "NNSC change is 0.02216730034137122 for iter 40, and B change is 0.00018414459561647974\n",
      "NNSC change is 0.021278377747274972 for iter 41, and B change is 0.00018589246855853518\n",
      "NNSC change is 0.020440414190592157 for iter 42, and B change is 0.0001875665437616413\n",
      "NNSC change is 0.019651084232177044 for iter 43, and B change is 0.0001891706333842433\n",
      "NNSC change is 0.01890800520351105 for iter 44, and B change is 0.0001907084150771174\n",
      "NNSC change is 0.018208773724491596 for iter 45, and B change is 0.00019218342396642944\n",
      "NNSC change is 0.017550995569313596 for iter 46, and B change is 0.0001935990473712989\n",
      "NNSC change is 0.016932309791188618 for iter 47, and B change is 0.00019495852184763613\n",
      "NNSC change is 0.016350407928907865 for iter 48, and B change is 0.00019626493217899638\n",
      "NNSC change is 0.01580304902428745 for iter 49, and B change is 0.0001975212119732196\n",
      "NNSC change is 0.01528807108732068 for iter 50, and B change is 0.00019873014556321818\n",
      "NNSC change is 0.014803399560142443 for iter 51, and B change is 0.00019989437094737624\n",
      "NNSC change is 0.014347053253961935 for iter 52, and B change is 0.00020101638354405493\n",
      "NNSC change is 0.013917148165917995 for iter 53, and B change is 0.0002020985405659899\n",
      "NNSC change is 0.013511899525017529 for iter 54, and B change is 0.00020314306585189745\n",
      "NNSC change is 0.013129622367219752 for iter 55, and B change is 0.0002041520550198277\n",
      "NNSC change is 0.01276873089825931 for iter 56, and B change is 0.0002051274808287552\n",
      "NNSC change is 0.012427736867674764 for iter 57, and B change is 0.00020607119865583936\n",
      "NNSC change is 0.01210524714769711 for iter 58, and B change is 0.00020698495201474398\n",
      "NNSC change is 0.011799960685078539 for iter 59, and B change is 0.00020787037805305975\n",
      "NNSC change is 0.011510664971706481 for iter 60, and B change is 0.00020872901298228335\n",
      "NNSC change is 0.011236232160389976 for iter 61, and B change is 0.00020956229740045135\n",
      "NNSC change is 0.010975614934832316 for iter 62, and B change is 0.00021037158147989572\n",
      "NNSC change is 0.01072784222727438 for iter 63, and B change is 0.0002111581299971776\n",
      "NNSC change is 0.010492014863278696 for iter 64, and B change is 0.00021192312718910022\n",
      "NNSC change is 0.010267301200396733 for iter 65, and B change is 0.00021266768142453975\n",
      "NNSC change is 0.01005293281601823 for iter 66, and B change is 0.0002133928296835442\n",
      "NNSC change is 0.009848200289356297 for iter 67, and B change is 0.00021409954184109333\n",
      "NNSC change is 0.009651160594480297 for iter 68, and B change is 0.0002142953086503899\n",
      "NNSC change is 0.009461822439181044 for iter 69, and B change is 0.0002146101081215568\n",
      "NNSC change is 0.009281538503335853 for iter 70, and B change is 0.00021526103131556127\n",
      "NNSC change is 0.009108612763477552 for iter 71, and B change is 0.00021589698587604308\n",
      "NNSC change is 0.008942567716626769 for iter 72, and B change is 0.00021651866112976865\n",
      "NNSC change is 0.008782966154904173 for iter 73, and B change is 0.00021712670042630053\n",
      "NNSC change is 0.008629405480658664 for iter 74, and B change is 0.00021772170459904606\n",
      "NNSC change is 0.00848151489804342 for iter 75, and B change is 0.00021830423478293355\n",
      "NNSC change is 0.008338952812269849 for iter 76, and B change is 0.00021887481506909656\n",
      "NNSC change is 0.008201404423565761 for iter 77, and B change is 0.00021943393500440056\n",
      "NNSC change is 0.008068579507462191 for iter 78, and B change is 0.00021998205194309405\n",
      "NNSC change is 0.007940210371984101 for iter 79, and B change is 0.00022051959325707234\n",
      "NNSC change is 0.00781604998165395 for iter 80, and B change is 0.0002210469584121068\n",
      "NNSC change is 0.007695870237842382 for iter 81, and B change is 0.00022156452091599398\n",
      "NNSC change is 0.007579460404905369 for iter 82, and B change is 0.00022207263014604932\n",
      "NNSC change is 0.007466625671636325 for iter 83, and B change is 0.00022257161306130457\n",
      "NNSC change is 0.00735718583779999 for iter 84, and B change is 0.0002230617758070278\n",
      "NNSC change is 0.007250974115921969 for iter 85, and B change is 0.0002235434052155197\n",
      "NNSC change is 0.007147836038930335 for iter 86, and B change is 0.000224016770210716\n",
      "NNSC change is 0.007047628464772338 for iter 87, and B change is 0.0002244821231210723\n",
      "NNSC change is 0.006950218669693951 for iter 88, and B change is 0.0002249397009061432\n",
      "NNSC change is 0.0068554835224174365 for iter 89, and B change is 0.000225389726301828\n",
      "NNSC change is 0.006763308732036071 for iter 90, and B change is 0.00022583240888931087\n",
      "NNSC change is 0.0066735881629952165 for iter 91, and B change is 0.0002262679460917546\n",
      "NNSC change is 0.006586223211065015 for iter 92, and B change is 0.00022669652410322577\n",
      "NNSC change is 0.006501122234744586 for iter 93, and B change is 0.00022711831875422059\n",
      "NNSC change is 0.006418200036999891 for iter 94, and B change is 0.00022753349631687356\n",
      "NNSC change is 0.0063373773926957006 for iter 95, and B change is 0.0002279422142548291\n",
      "NNSC change is 0.006258580617514843 for iter 96, and B change is 0.00022834462191923378\n",
      "NNSC change is 0.006181741174533015 for iter 97, and B change is 0.00022874086119642126\n",
      "NNSC change is 0.006106795314953788 for iter 98, and B change is 0.00022913106710846488\n",
      "NNSC change is 0.006033683749862586 for iter 99, and B change is 0.00022951536837064588\n",
      "NNSC change is 0.005962351350111739 for iter 100, and B change is 0.00022989388790821603\n",
      "NNSC change is 0.005892746871737451 for iter 101, and B change is 0.00023026674333474534\n",
      "Gone through one appliance\n",
      "NNSC change is 16.847386499107895 for iter 1, and B change is 0.04246402860621745\n",
      "NNSC change is 0.27937800079464215 for iter 2, and B change is 0.0006995538158086125\n",
      "NNSC change is 0.2866397803507157 for iter 3, and B change is 0.0007772817453081226\n",
      "NNSC change is 0.29572006219214453 for iter 4, and B change is 0.0008729270658313284\n",
      "NNSC change is 0.3057838443035413 for iter 5, and B change is 0.0009814398387067516\n",
      "NNSC change is 0.31622636432231016 for iter 6, and B change is 0.0011001166947517715\n",
      "NNSC change is 0.32673403521157707 for iter 7, and B change is 0.0012271046827319367\n",
      "NNSC change is 0.3370661973697616 for iter 8, and B change is 0.0013618986169441232\n",
      "NNSC change is 0.34698846048656323 for iter 9, and B change is 0.001503618317657104\n",
      "NNSC change is 0.3562744005597425 for iter 10, and B change is 0.0016502173567288188\n",
      "NNSC change is 0.3647185207679122 for iter 11, and B change is 0.0018003617661779723\n",
      "NNSC change is 0.37223816316426483 for iter 12, and B change is 0.0019580989754651975\n",
      "NNSC change is 0.378773979659174 for iter 13, and B change is 0.002120239270826195\n",
      "NNSC change is 0.38431832934554316 for iter 14, and B change is 0.002286134355129\n",
      "NNSC change is 0.38889524815911025 for iter 15, and B change is 0.0024551119366935403\n",
      "NNSC change is 0.39252214031202287 for iter 16, and B change is 0.0026230571245441548\n",
      "NNSC change is 0.39521534555181326 for iter 17, and B change is 0.0027898374626464557\n",
      "NNSC change is 0.3970882900662158 for iter 18, and B change is 0.002962869651753417\n",
      "NNSC change is 0.39816299564222773 for iter 19, and B change is 0.0031361498283665377\n",
      "NNSC change is 0.3984575155255333 for iter 20, and B change is 0.0033001129124793816\n",
      "NNSC change is 0.3980284331106651 for iter 21, and B change is 0.003470344185248438\n",
      "NNSC change is 0.3965453009548383 for iter 22, and B change is 0.003615551502101441\n",
      "NNSC change is 0.3942968879114129 for iter 23, and B change is 0.0037724301889749514\n",
      "NNSC change is 0.39143016261949354 for iter 24, and B change is 0.003932473094644223\n",
      "NNSC change is 0.3879069378642617 for iter 25, and B change is 0.0040882718623800485\n",
      "NNSC change is 0.3837656925386406 for iter 26, and B change is 0.004239146311547058\n",
      "NNSC change is 0.37905565991763696 for iter 27, and B change is 0.004384446656762859\n",
      "NNSC change is 0.37384569653483585 for iter 28, and B change is 0.004522233407968945\n",
      "NNSC change is 0.36822796372709393 for iter 29, and B change is 0.004652802641398338\n",
      "NNSC change is 0.3623574634141314 for iter 30, and B change is 0.0047714964399077995\n",
      "NNSC change is 0.3562234551323166 for iter 31, and B change is 0.004887221794196763\n",
      "NNSC change is 0.34983494224978023 for iter 32, and B change is 0.00499654408238028\n",
      "NNSC change is 0.3432791558296036 for iter 33, and B change is 0.005097846490807426\n",
      "NNSC change is 0.3365955460055486 for iter 34, and B change is 0.005190948022585262\n",
      "NNSC change is 0.32907070467275956 for iter 35, and B change is 0.00523074173800771\n",
      "NNSC change is 0.3211332361346517 for iter 36, and B change is 0.005278751042015951\n",
      "NNSC change is 0.3134661375311256 for iter 37, and B change is 0.005342400608148737\n",
      "NNSC change is 0.30585840746874254 for iter 38, and B change is 0.005391718572147219\n",
      "NNSC change is 0.29826901215010987 for iter 39, and B change is 0.005430240527965632\n",
      "NNSC change is 0.29029618701873633 for iter 40, and B change is 0.00546906907091922\n",
      "NNSC change is 0.2821340237970154 for iter 41, and B change is 0.005491815793252845\n",
      "NNSC change is 0.27391000609089444 for iter 42, and B change is 0.005464315045349977\n",
      "NNSC change is 0.265540158073016 for iter 43, and B change is 0.0054793657989410825\n",
      "NNSC change is 0.25692340891894777 for iter 44, and B change is 0.005487315110026137\n",
      "NNSC change is 0.24818428470504397 for iter 45, and B change is 0.005482563188182644\n",
      "NNSC change is 0.24029254434744501 for iter 46, and B change is 0.005389121439063395\n",
      "NNSC change is 0.23215964656950236 for iter 47, and B change is 0.005314561649519772\n",
      "NNSC change is 0.22375243414573465 for iter 48, and B change is 0.005272234650077286\n",
      "NNSC change is 0.21493986363628528 for iter 49, and B change is 0.005214381475552091\n",
      "NNSC change is 0.20616355855132748 for iter 50, and B change is 0.005038219887528283\n",
      "NNSC change is 0.19748807249384737 for iter 51, and B change is 0.005003049038438442\n",
      "NNSC change is 0.18892467994889497 for iter 52, and B change is 0.004964092858605882\n",
      "NNSC change is 0.18049053634187245 for iter 53, and B change is 0.004921650118834384\n",
      "NNSC change is 0.1722076928633345 for iter 54, and B change is 0.004876011120060183\n",
      "NNSC change is 0.16410155212514513 for iter 55, and B change is 0.004827458195466748\n",
      "NNSC change is 0.15619940413015665 for iter 56, and B change is 0.0047762659263665234\n",
      "NNSC change is 0.14852908230635076 for iter 57, and B change is 0.004722701097341803\n",
      "NNSC change is 0.14111776721705369 for iter 58, and B change is 0.004667022431188979\n",
      "NNSC change is 0.13399095463437127 for iter 59, and B change is 0.004609480153590568\n",
      "NNSC change is 0.12717542084812777 for iter 60, and B change is 0.004549451136189448\n",
      "NNSC change is 0.12082230048407583 for iter 61, and B change is 0.004460330498969908\n",
      "NNSC change is 0.11458891928134772 for iter 62, and B change is 0.004399816282872918\n",
      "NNSC change is 0.10871840016323683 for iter 63, and B change is 0.004338339896998798\n",
      "NNSC change is 0.10321793382593841 for iter 64, and B change is 0.004276095991709879\n",
      "NNSC change is 0.09809032699708037 for iter 65, and B change is 0.004213267830333952\n",
      "NNSC change is 0.09333401875518174 for iter 66, and B change is 0.004149998614348534\n",
      "NNSC change is 0.08894292406769264 for iter 67, and B change is 0.0040864402486304454\n",
      "NNSC change is 0.08490732856815271 for iter 68, and B change is 0.004022784574705383\n",
      "NNSC change is 0.08121424219335344 for iter 69, and B change is 0.003959166252225943\n",
      "NNSC change is 0.0778475509953424 for iter 70, and B change is 0.003895708295089487\n",
      "NNSC change is 0.07478851133236039 for iter 71, and B change is 0.0038325163759369493\n",
      "NNSC change is 0.07201564083518643 for iter 72, and B change is 0.0037695798710338864\n",
      "NNSC change is 0.0695074878066525 for iter 73, and B change is 0.0037071207965336936\n",
      "NNSC change is 0.06724109014677486 for iter 74, and B change is 0.0036452178318505135\n",
      "NNSC change is 0.0651932661779629 for iter 75, and B change is 0.0035839402467339894\n",
      "NNSC change is 0.06334114440236233 for iter 76, and B change is 0.003523348481653188\n",
      "NNSC change is 0.061662620558396726 for iter 77, and B change is 0.0034634947453606874\n",
      "NNSC change is 0.060136728380350425 for iter 78, and B change is 0.0034044236189630307\n",
      "NNSC change is 0.05810265425882836 for iter 79, and B change is 0.003264616277761016\n",
      "NNSC change is 0.056918055492502236 for iter 80, and B change is 0.0031961250412629065\n",
      "NNSC change is 0.055974097846821516 for iter 81, and B change is 0.003141731704235435\n",
      "NNSC change is 0.05507667556581219 for iter 82, and B change is 0.003088229850974841\n",
      "NNSC change is 0.05387081957457769 for iter 83, and B change is 0.0030057704815083307\n",
      "NNSC change is 0.05302729027327869 for iter 84, and B change is 0.002954983076492352\n",
      "NNSC change is 0.05222944376784282 for iter 85, and B change is 0.002905869518003283\n",
      "NNSC change is 0.05145746408343372 for iter 86, and B change is 0.002857587316137679\n",
      "NNSC change is 0.050707307614549765 for iter 87, and B change is 0.002810135730200349\n",
      "NNSC change is 0.049975548792494 for iter 88, and B change is 0.002763512061804205\n",
      "NNSC change is 0.0492593220667061 for iter 89, and B change is 0.002717711880425506\n",
      "NNSC change is 0.04855626393857224 for iter 90, and B change is 0.0026727292353365254\n",
      "NNSC change is 0.04786445452408932 for iter 91, and B change is 0.0026285568519521033\n",
      "NNSC change is 0.04718236076566939 for iter 92, and B change is 0.0025851863124408347\n",
      "NNSC change is 0.04650878275538673 for iter 93, and B change is 0.002542608220795599\n",
      "NNSC change is 0.04584280409744918 for iter 94, and B change is 0.0025008123528323786\n",
      "NNSC change is 0.045183746819401835 for iter 95, and B change is 0.002459787791761108\n",
      "NNSC change is 0.044531131027306194 for iter 96, and B change is 0.0024195230501106633\n",
      "NNSC change is 0.043884639272526844 for iter 97, and B change is 0.0023800061788591324\n",
      "NNSC change is 0.04307627089965983 for iter 98, and B change is 0.002333693045934627\n",
      "NNSC change is 0.042235711338242235 for iter 99, and B change is 0.002286492635771672\n",
      "NNSC change is 0.04163909659908604 for iter 100, and B change is 0.0022496496011118207\n",
      "NNSC change is 0.04104501232741574 for iter 101, and B change is 0.0022134868913366683\n",
      "Gone through one appliance\n",
      "NNSC change is 18.05680272062115 for iter 1, and B change is 0.046134032078831495\n",
      "NNSC change is 0.04415233205612296 for iter 2, and B change is 5.027885338757321e-06\n",
      "NNSC change is 0.03936454612330832 for iter 3, and B change is 7.58765606276074e-06\n",
      "NNSC change is 0.03889756014344119 for iter 4, and B change is 9.721612571648822e-06\n",
      "NNSC change is 0.04037956353711389 for iter 5, and B change is 1.1763947041075309e-05\n",
      "NNSC change is 0.04216350393374104 for iter 6, and B change is 1.3904183988124069e-05\n",
      "NNSC change is 0.04351851819554224 for iter 7, and B change is 1.619618691109345e-05\n",
      "NNSC change is 0.04411293494709955 for iter 8, and B change is 1.8622872596556893e-05\n",
      "NNSC change is 0.04383758455850382 for iter 9, and B change is 2.1132877438652664e-05\n",
      "NNSC change is 0.04273351121819486 for iter 10, and B change is 2.3662779033613072e-05\n",
      "NNSC change is 0.04093865960820104 for iter 11, and B change is 2.6151028299006724e-05\n",
      "NNSC change is 0.038638380226850025 for iter 12, and B change is 2.8546021130008256e-05\n",
      "NNSC change is 0.0360240409462532 for iter 13, and B change is 3.080968219481571e-05\n",
      "NNSC change is 0.03326492910002699 for iter 14, and B change is 3.2917806257143924e-05\n",
      "NNSC change is 0.030494370176333073 for iter 15, and B change is 3.485839704267599e-05\n",
      "NNSC change is 0.027807241694811493 for iter 16, and B change is 3.662908159413237e-05\n",
      "NNSC change is 0.02526449790112327 for iter 17, and B change is 3.8234377809649986e-05\n",
      "NNSC change is 0.02290063187371492 for iter 18, and B change is 3.9683267868611765e-05\n",
      "NNSC change is 0.02073126347475787 for iter 19, and B change is 4.0987267904600975e-05\n",
      "NNSC change is 0.01875943336065613 for iter 20, and B change is 4.2159014736049634e-05\n",
      "NNSC change is 0.01698023016490617 for iter 21, and B change is 4.321130335324244e-05\n",
      "NNSC change is 0.015383949131850047 for iter 22, and B change is 4.4156478378819436e-05\n",
      "NNSC change is 0.013958168769879119 for iter 23, and B change is 4.500608395138327e-05\n",
      "NNSC change is 0.012689105997815368 for iter 24, and B change is 4.5770691652801564e-05\n",
      "NNSC change is 0.011562510358276821 for iter 25, and B change is 4.645984478143361e-05\n",
      "NNSC change is 0.010564261642263904 for iter 26, and B change is 4.70820744532004e-05\n",
      "NNSC change is 0.009680768340598047 for iter 27, and B change is 4.7644956873551145e-05\n",
      "NNSC change is 0.008899225291543321 for iter 28, and B change is 4.8155191500994745e-05\n",
      "NNSC change is 0.00820776821242448 for iter 29, and B change is 4.861868720660536e-05\n",
      "NNSC change is 0.007595551928607156 for iter 30, and B change is 4.904064859854504e-05\n",
      "NNSC change is 0.007052772762802491 for iter 31, and B change is 4.9425658044135806e-05\n",
      "NNSC change is 0.006570651145797475 for iter 32, and B change is 4.9777751097359535e-05\n",
      "NNSC change is 0.006141387039334708 for iter 33, and B change is 5.010048439576907e-05\n",
      "NNSC change is 0.0057580978983133736 for iter 34, and B change is 5.0396995908268576e-05\n",
      "NNSC change is 0.005414746546011002 for iter 35, and B change is 5.067005787882251e-05\n",
      "NNSC change is 0.005106064436554745 for iter 36, and B change is 5.092212305014537e-05\n",
      "NNSC change is 0.004827474270153941 for iter 37, and B change is 5.115536485070959e-05\n",
      "NNSC change is 0.004575014740592541 for iter 38, and B change is 5.137171224769362e-05\n",
      "NNSC change is 0.004345269269269611 for iter 39, and B change is 5.157287993591036e-05\n",
      "NNSC change is 0.004135299865809658 for iter 40, and B change is 5.1760394440091265e-05\n",
      "NNSC change is 0.003942586712598988 for iter 41, and B change is 5.193561675109237e-05\n",
      "NNSC change is 0.0037649736675311567 for iter 42, and B change is 5.209976233365458e-05\n",
      "NNSC change is 0.0036006196035483565 for iter 43, and B change is 5.2253917676887655e-05\n",
      "NNSC change is 0.0034479553034926186 for iter 44, and B change is 5.23990553652095e-05\n",
      "NNSC change is 0.0033056455202714954 for iter 45, and B change is 5.2536047030887675e-05\n",
      "NNSC change is 0.0031725557511601858 for iter 46, and B change is 5.266567467367954e-05\n",
      "NNSC change is 0.0030477232561879615 for iter 47, and B change is 5.2788640576231114e-05\n",
      "NNSC change is 0.002930331858760137 for iter 48, and B change is 5.2905576009501987e-05\n",
      "NNSC change is 0.0028196900917659413 for iter 49, and B change is 5.301704889294507e-05\n",
      "NNSC change is 0.002715212286739168 for iter 50, and B change is 5.312357055074574e-05\n",
      "NNSC change is 0.002616402241865224 for iter 51, and B change is 5.3225601682695074e-05\n",
      "NNSC change is 0.0025228391432040543 for iter 52, and B change is 5.332355765280107e-05\n",
      "NNSC change is 0.00243416545034591 for iter 53, and B change is 5.341781318200634e-05\n",
      "NNSC change is 0.002350076491752827 for iter 54, and B change is 5.350870652005524e-05\n",
      "NNSC change is 0.0022703115458087256 for iter 55, and B change is 5.3596543160503465e-05\n",
      "NNSC change is 0.0021946462111260925 for iter 56, and B change is 5.368159915418778e-05\n",
      "NNSC change is 0.0021228858941209727 for iter 57, and B change is 5.376412406847563e-05\n",
      "NNSC change is 0.002054860263587667 for iter 58, and B change is 5.384434363380012e-05\n",
      "NNSC change is 0.001990418541321185 for iter 59, and B change is 5.39224621134534e-05\n",
      "NNSC change is 0.001929425515022689 for iter 60, and B change is 5.399866442749184e-05\n",
      "NNSC change is 0.001871758175070846 for iter 61, and B change is 5.407311805829043e-05\n",
      "NNSC change is 0.0018173028904105405 for iter 62, and B change is 5.414597476169689e-05\n",
      "NNSC change is 0.0017659530509787351 for iter 63, and B change is 5.421737210473414e-05\n",
      "NNSC change is 0.001717607114832705 for iter 64, and B change is 5.4287434848122846e-05\n",
      "NNSC change is 0.001672167007529411 for iter 65, and B change is 5.43562761908197e-05\n",
      "NNSC change is 0.001629536829401632 for iter 66, and B change is 5.442399889005614e-05\n",
      "NNSC change is 0.001589621833178294 for iter 67, and B change is 5.4490696270039944e-05\n",
      "NNSC change is 0.0015523276399615755 for iter 68, and B change is 5.455645313150117e-05\n",
      "NNSC change is 0.0015175596659931757 for iter 69, and B change is 5.46213465711931e-05\n",
      "NNSC change is 0.0014852227359460736 for iter 70, and B change is 5.468544672088963e-05\n",
      "NNSC change is 0.0014552208608257806 for iter 71, and B change is 5.474881741429263e-05\n",
      "NNSC change is 0.0014274571601193247 for iter 72, and B change is 5.481151678857501e-05\n",
      "NNSC change is 0.0014018339087448926 for iter 73, and B change is 5.4873597827314773e-05\n",
      "NNSC change is 0.0013782526898458228 for iter 74, and B change is 5.493510885084797e-05\n",
      "NNSC change is 0.0013566146347684627 for iter 75, and B change is 5.4996093958547736e-05\n",
      "NNSC change is 0.0013368207318217517 for iter 76, and B change is 5.505659342892082e-05\n",
      "NNSC change is 0.001318772185822467 for iter 77, and B change is 5.511664408041656e-05\n",
      "NNSC change is 0.0013023708111186535 for iter 78, and B change is 5.517627959748907e-05\n",
      "NNSC change is 0.0012875194417923382 for iter 79, and B change is 5.523553082553548e-05\n",
      "NNSC change is 0.001274122344137324 for iter 80, and B change is 5.5294426037020166e-05\n",
      "NNSC change is 0.0012620856182203586 for iter 81, and B change is 5.535299117203558e-05\n",
      "NNSC change is 0.0012513175773177319 for iter 82, and B change is 5.541125005605759e-05\n",
      "NNSC change is 0.00124172909619055 for iter 83, and B change is 5.5469224596018867e-05\n",
      "NNSC change is 0.0012332339213620175 for iter 84, and B change is 5.5526934958520615e-05\n",
      "NNSC change is 0.0012257489387665884 for iter 85, and B change is 5.5584399730195276e-05\n",
      "NNSC change is 0.001219194396160353 for iter 86, and B change is 5.5641636062802476e-05\n",
      "NNSC change is 0.0012134940795180198 for iter 87, and B change is 5.569865980468887e-05\n",
      "NNSC change is 0.0012085754441847475 for iter 88, and B change is 5.5755485619412125e-05\n",
      "NNSC change is 0.0012043697028233493 for iter 89, and B change is 5.5812127092916385e-05\n",
      "NNSC change is 0.0012008118731248935 for iter 90, and B change is 5.586859683066947e-05\n",
      "NNSC change is 0.001197840788922824 for iter 91, and B change is 5.5924906545329454e-05\n",
      "NNSC change is 0.0011953990787427799 for iter 92, and B change is 5.5981067135814884e-05\n",
      "NNSC change is 0.0011934331159697423 for iter 93, and B change is 5.603708875948963e-05\n",
      "NNSC change is 0.0011918929448161894 for iter 94, and B change is 5.609298089627489e-05\n",
      "NNSC change is 0.001190732186082713 for iter 95, and B change is 5.614875240785143e-05\n",
      "NNSC change is 0.0011899079264581724 for iter 96, and B change is 5.620441159028278e-05\n",
      "NNSC change is 0.0011893805947554585 for iter 97, and B change is 5.6259966221954325e-05\n",
      "NNSC change is 0.0011891138281155292 for iter 98, and B change is 5.631542360692068e-05\n",
      "NNSC change is 0.0011890743308371227 for iter 99, and B change is 5.637079061401758e-05\n",
      "NNSC change is 0.0011892317281092604 for iter 100, and B change is 5.6426073712158195e-05\n",
      "NNSC change is 0.0011895584165859331 for iter 101, and B change is 5.6481279002446326e-05\n",
      "Gone through one appliance\n",
      "NNSC change is 17.97947026569367 for iter 1, and B change is 0.04720513144005097\n",
      "NNSC change is 0.017472943838784918 for iter 2, and B change is 4.752356742891265e-06\n",
      "NNSC change is 0.017820925665839905 for iter 3, and B change is 4.724631433208855e-06\n",
      "NNSC change is 0.018178627575376315 for iter 4, and B change is 4.763433157165208e-06\n",
      "NNSC change is 0.018661621592088857 for iter 5, and B change is 4.8316893937254894e-06\n",
      "NNSC change is 0.019194060232973008 for iter 6, and B change is 4.926760150881331e-06\n",
      "NNSC change is 0.019714158318283208 for iter 7, and B change is 5.046129206470558e-06\n",
      "NNSC change is 0.02017866238318722 for iter 8, and B change is 5.187079435899993e-06\n",
      "NNSC change is 0.020562454920967782 for iter 9, and B change is 5.346681543533175e-06\n",
      "NNSC change is 0.020855482084022773 for iter 10, and B change is 5.521892299181822e-06\n",
      "NNSC change is 0.021057977533053978 for iter 11, and B change is 5.709690439022064e-06\n",
      "NNSC change is 0.02117554410855521 for iter 12, and B change is 5.907106565787601e-06\n",
      "NNSC change is 0.021215267633112444 for iter 13, and B change is 6.111417450270531e-06\n",
      "NNSC change is 0.021183366791181487 for iter 14, and B change is 6.320659736223411e-06\n",
      "NNSC change is 0.02108430771005596 for iter 15, and B change is 6.532610912718031e-06\n",
      "NNSC change is 0.02092097950409533 for iter 16, and B change is 6.745499196941444e-06\n",
      "NNSC change is 0.020695432738807445 for iter 17, and B change is 6.957814024615417e-06\n",
      "NNSC change is 0.02040975322934326 for iter 18, and B change is 7.1682673254849065e-06\n",
      "NNSC change is 0.02006678731223466 for iter 19, and B change is 7.375766651802134e-06\n",
      "NNSC change is 0.019670583081957054 for iter 20, and B change is 7.57895029898534e-06\n",
      "NNSC change is 0.019226527500144253 for iter 21, and B change is 7.777605320357434e-06\n",
      "NNSC change is 0.01874122921473236 for iter 22, and B change is 7.97090621117226e-06\n",
      "NNSC change is 0.0182222295804703 for iter 23, and B change is 8.154780396740836e-06\n",
      "NNSC change is 0.01767762054943744 for iter 24, and B change is 8.336727044066972e-06\n",
      "NNSC change is 0.01711565001091316 for iter 25, and B change is 8.512376107305433e-06\n",
      "NNSC change is 0.016544356070953423 for iter 26, and B change is 8.681570035628608e-06\n",
      "NNSC change is 0.015971265278269493 for iter 27, and B change is 8.844239401059493e-06\n",
      "NNSC change is 0.01540316728198254 for iter 28, and B change is 9.000391460016982e-06\n",
      "NNSC change is 0.014845967002951163 for iter 29, and B change is 9.150098752070893e-06\n",
      "NNSC change is 0.014304607289388994 for iter 30, and B change is 9.293488054145538e-06\n",
      "NNSC change is 0.013783050765226491 for iter 31, and B change is 9.430701942174677e-06\n",
      "NNSC change is 0.013284308085763894 for iter 32, and B change is 9.5619863800995e-06\n",
      "NNSC change is 0.012810500135458138 for iter 33, and B change is 9.687572972672537e-06\n",
      "NNSC change is 0.012362943080247426 for iter 34, and B change is 9.807696513284473e-06\n",
      "NNSC change is 0.011942246924148981 for iter 35, and B change is 9.922617358081171e-06\n",
      "NNSC change is 0.011548420065112065 for iter 36, and B change is 1.0032601361150794e-05\n",
      "NNSC change is 0.011180974076829988 for iter 37, and B change is 1.01379178054215e-05\n",
      "NNSC change is 0.010839024400262959 for iter 38, and B change is 1.0238831864630166e-05\n",
      "NNSC change is 0.010521383879749727 for iter 39, and B change is 1.0335604088509172e-05\n",
      "NNSC change is 0.010226647103256702 for iter 40, and B change is 1.0428487542635857e-05\n",
      "NNSC change is 0.009953264356955566 for iter 41, and B change is 1.0517725995099937e-05\n",
      "NNSC change is 0.009699604700434098 for iter 42, and B change is 1.0603552632577847e-05\n",
      "NNSC change is 0.009464008231711875 for iter 43, and B change is 1.0686189180437863e-05\n",
      "NNSC change is 0.009244828052195503 for iter 44, and B change is 1.0765845358194261e-05\n",
      "NNSC change is 0.009040462766812663 for iter 45, and B change is 1.0842718609189566e-05\n",
      "NNSC change is 0.008849380576522466 for iter 46, and B change is 1.0916989632602964e-05\n",
      "NNSC change is 0.008670136171330082 for iter 47, and B change is 1.0988782124723348e-05\n",
      "NNSC change is 0.008501381331865357 for iter 48, and B change is 1.1058319770124415e-05\n",
      "NNSC change is 0.008341871009670215 for iter 49, and B change is 1.1125751180064358e-05\n",
      "NNSC change is 0.008190465353410104 for iter 50, and B change is 1.119121390114638e-05\n",
      "NNSC change is 0.008046128896197392 for iter 51, and B change is 1.1254834916652514e-05\n",
      "NNSC change is 0.007907927659096826 for iter 52, and B change is 1.131673118271443e-05\n",
      "NNSC change is 0.007775024826917563 for iter 53, and B change is 1.1377010185030079e-05\n",
      "NNSC change is 0.007646675515586947 for iter 54, and B change is 1.1435770505004134e-05\n",
      "NNSC change is 0.007522221027049906 for iter 55, and B change is 1.1493102385335981e-05\n",
      "NNSC change is 0.007401082881802609 for iter 56, and B change is 1.1549088289367763e-05\n",
      "NNSC change is 0.0072827568322180345 for iter 57, and B change is 1.1603803447127797e-05\n",
      "NNSC change is 0.007166806991261214 for iter 58, and B change is 1.1657316386168212e-05\n",
      "NNSC change is 0.007052860159416219 for iter 59, and B change is 1.1709689441596767e-05\n",
      "NNSC change is 0.006940600395329997 for iter 60, and B change is 1.1760979246041472e-05\n",
      "NNSC change is 0.006829763850250465 for iter 61, and B change is 1.1811237195648942e-05\n",
      "NNSC change is 0.0067201338702351475 for iter 62, and B change is 1.1860509893232507e-05\n",
      "NNSC change is 0.006611536360983611 for iter 63, and B change is 1.1908839566626161e-05\n",
      "NNSC change is 0.0065038354059538984 for iter 64, and B change is 1.195626446334575e-05\n",
      "NNSC change is 0.006396929127496813 for iter 65, and B change is 1.2002819220604617e-05\n",
      "NNSC change is 0.006290745778794752 for iter 66, and B change is 1.2048523274204353e-05\n",
      "NNSC change is 0.00618524007632005 for iter 67, and B change is 1.2093426078621423e-05\n",
      "NNSC change is 0.006080389728407028 for iter 68, and B change is 1.213754741417607e-05\n",
      "NNSC change is 0.0059761922002678726 for iter 69, and B change is 1.2180907642623297e-05\n",
      "NNSC change is 0.00587266169416661 for iter 70, and B change is 1.222352808828801e-05\n",
      "NNSC change is 0.005769826340286007 for iter 71, and B change is 1.2265428206193028e-05\n",
      "NNSC change is 0.005667725604437161 for iter 72, and B change is 1.2306625798467946e-05\n",
      "NNSC change is 0.0055664079100721 for iter 73, and B change is 1.2347137211836098e-05\n",
      "NNSC change is 0.005465928473031396 for iter 74, and B change is 1.238697751716657e-05\n",
      "NNSC change is 0.0053663473463803546 for iter 75, and B change is 1.2426160671906634e-05\n",
      "NNSC change is 0.005267727671347811 for iter 76, and B change is 1.2464699666507561e-05\n",
      "NNSC change is 0.005170134128939061 for iter 77, and B change is 1.2502606655684184e-05\n",
      "NNSC change is 0.005073631585331572 for iter 78, and B change is 1.2539893075766283e-05\n",
      "NNSC change is 0.004978283922775212 for iter 79, and B change is 1.2576569748336934e-05\n",
      "NNSC change is 0.00488415304645516 for iter 80, and B change is 1.261264697241432e-05\n",
      "NNSC change is 0.004791298056715474 for iter 81, and B change is 1.2648134604784887e-05\n",
      "NNSC change is 0.004699774575176957 for iter 82, and B change is 1.2683042130179755e-05\n",
      "NNSC change is 0.004609634212654631 for iter 83, and B change is 1.271737872230025e-05\n",
      "NNSC change is 0.004520924166394069 for iter 84, and B change is 1.2751153295812835e-05\n",
      "NNSC change is 0.004433686933963818 for iter 85, and B change is 1.2784374550892295e-05\n",
      "NNSC change is 0.00434796013119395 for iter 86, and B change is 1.2817051010916939e-05\n",
      "NNSC change is 0.004263776401769954 for iter 87, and B change is 1.2849191053629906e-05\n",
      "NNSC change is 0.004181163353578225 for iter 88, and B change is 1.2880532721920188e-05\n",
      "NNSC change is 0.004100143606631115 for iter 89, and B change is 1.2911388014287523e-05\n",
      "NNSC change is 0.0040207351482978325 for iter 90, and B change is 1.2941941964729848e-05\n",
      "NNSC change is 0.003942951362869605 for iter 91, and B change is 1.297199235287489e-05\n",
      "NNSC change is 0.0038668010804906185 for iter 92, and B change is 1.3001547140451338e-05\n",
      "NNSC change is 0.003792288911884829 for iter 93, and B change is 1.3030614235565982e-05\n",
      "NNSC change is 0.003719415500722682 for iter 94, and B change is 1.305920149739033e-05\n",
      "NNSC change is 0.003648177790320519 for iter 95, and B change is 1.3087316739402757e-05\n",
      "NNSC change is 0.003578569299478731 for iter 96, and B change is 1.311496773040105e-05\n",
      "NNSC change is 0.00351058040228778 for iter 97, and B change is 1.3142162194831776e-05\n",
      "NNSC change is 0.0034441986074864443 for iter 98, and B change is 1.3168907811434805e-05\n",
      "NNSC change is 0.00337940883366277 for iter 99, and B change is 1.3195212211574974e-05\n",
      "NNSC change is 0.003316193677241257 for iter 100, and B change is 1.3221082976624025e-05\n",
      "NNSC change is 0.003254533670805978 for iter 101, and B change is 1.324652763501562e-05\n",
      "Gone through one appliance\n",
      "NNSC change is 16.547096260926796 for iter 1, and B change is 0.04185185440026368\n",
      "NNSC change is 0.13157173929796734 for iter 2, and B change is 0.0001843855842422946\n",
      "NNSC change is 0.13594451752172573 for iter 3, and B change is 0.0001866339974312908\n",
      "NNSC change is 0.1400082251994361 for iter 4, and B change is 0.0001914281995143606\n",
      "NNSC change is 0.14368519001323196 for iter 5, and B change is 0.00019827408519909457\n",
      "NNSC change is 0.14684697829331825 for iter 6, and B change is 0.00020693051633513982\n",
      "NNSC change is 0.14960203007466716 for iter 7, and B change is 0.00021707129177787603\n",
      "NNSC change is 0.1521051491617655 for iter 8, and B change is 0.00022829443901764231\n",
      "NNSC change is 0.15442634173708203 for iter 9, and B change is 0.00024030651431471755\n",
      "NNSC change is 0.1564963074447305 for iter 10, and B change is 0.00025282265488609705\n",
      "NNSC change is 0.15812231474684035 for iter 11, and B change is 0.0002656140237431534\n",
      "NNSC change is 0.15905588750650193 for iter 12, and B change is 0.0002784998724428621\n",
      "NNSC change is 0.15908062851769783 for iter 13, and B change is 0.00029133780529895466\n",
      "NNSC change is 0.15808492840362762 for iter 14, and B change is 0.0003040168252549216\n",
      "NNSC change is 0.15609569547709812 for iter 15, and B change is 0.0003164517240870069\n",
      "NNSC change is 0.15326890977599006 for iter 16, and B change is 0.0003285789675436402\n",
      "NNSC change is 0.14984942076848773 for iter 17, and B change is 0.00034035363049086275\n",
      "NNSC change is 0.1461190354777428 for iter 18, and B change is 0.00035174684843440195\n",
      "NNSC change is 0.14234908184895176 for iter 19, and B change is 0.0003627434247955404\n",
      "NNSC change is 0.13876630872339868 for iter 20, and B change is 0.00037333944878914196\n",
      "NNSC change is 0.13553413979561943 for iter 21, and B change is 0.0003835399251989567\n",
      "NNSC change is 0.13274722546403833 for iter 22, and B change is 0.00039335648113056365\n",
      "NNSC change is 0.13043576918399247 for iter 23, and B change is 0.00040280522625719256\n",
      "NNSC change is 0.12857609233275305 for iter 24, and B change is 0.00041190483299857495\n",
      "NNSC change is 0.1271043903421144 for iter 25, and B change is 0.0004206748877386608\n",
      "NNSC change is 0.125931221697871 for iter 26, and B change is 0.00042913454816279664\n",
      "NNSC change is 0.12495490425074626 for iter 27, and B change is 0.00043730152502633005\n",
      "NNSC change is 0.1240726659550085 for iter 28, and B change is 0.00044519138887812496\n",
      "NNSC change is 0.12318903848824679 for iter 29, and B change is 0.0004528171843236256\n",
      "NNSC change is 0.12222149356074123 for iter 30, and B change is 0.00046018931803735357\n",
      "NNSC change is 0.12110364715106128 for iter 31, and B change is 0.000467315673771437\n",
      "NNSC change is 0.11978650505109029 for iter 32, and B change is 0.00047420189946025107\n",
      "NNSC change is 0.11823824372778785 for iter 33, and B change is 0.0004808518088228732\n",
      "NNSC change is 0.11644297077898724 for iter 34, and B change is 0.0004872678424068157\n",
      "NNSC change is 0.11439883291740587 for iter 35, and B change is 0.0004934515398700002\n",
      "NNSC change is 0.1121157616996528 for iter 36, and B change is 0.0004994039850601656\n",
      "NNSC change is 0.10961307878462152 for iter 37, and B change is 0.0005051261965549535\n",
      "NNSC change is 0.10691712559962974 for iter 38, and B change is 0.0005106194473133429\n",
      "NNSC change is 0.10405903563576727 for iter 39, and B change is 0.0005158855068228724\n",
      "NNSC change is 0.10107272920174942 for iter 40, and B change is 0.0005209268069044724\n",
      "NNSC change is 0.0979931788000153 for iter 41, and B change is 0.0005257465378630077\n",
      "NNSC change is 0.09485496744931768 for iter 42, and B change is 0.0005303486850323491\n",
      "NNSC change is 0.09169114179560017 for iter 43, and B change is 0.0005347380172640529\n",
      "NNSC change is 0.08853234640940769 for iter 44, and B change is 0.0005389200389880567\n",
      "NNSC change is 0.08540621489450152 for iter 45, and B change is 0.0005429009165945298\n",
      "NNSC change is 0.08233698681675515 for iter 46, and B change is 0.0005466873884522481\n",
      "NNSC change is 0.0793453163489769 for iter 47, and B change is 0.0005502866662226022\n",
      "NNSC change is 0.07644823817062951 for iter 48, and B change is 0.0005537063334736414\n",
      "NNSC change is 0.07365925779999413 for iter 49, and B change is 0.0005569542460887073\n",
      "NNSC change is 0.0709885364622458 for iter 50, and B change is 0.0005600384376701312\n",
      "NNSC change is 0.06844314420663215 for iter 51, and B change is 0.0005629670320798612\n",
      "NNSC change is 0.06602735881016401 for iter 52, and B change is 0.0005657481644235685\n",
      "NNSC change is 0.06374299171537265 for iter 53, and B change is 0.000568389911148988\n",
      "NNSC change is 0.061589725648951626 for iter 54, and B change is 0.0005709002294559818\n",
      "NNSC change is 0.059565451568081906 for iter 55, and B change is 0.000573286905873265\n",
      "NNSC change is 0.05766659517438329 for iter 56, and B change is 0.0005755575136188678\n",
      "NNSC change is 0.05588842546220551 for iter 57, and B change is 0.0005777193781966485\n",
      "NNSC change is 0.054225339691127354 for iter 58, and B change is 0.0005797795505815488\n",
      "NNSC change is 0.052671120852525906 for iter 59, and B change is 0.0005817447872850988\n",
      "NNSC change is 0.05121918247054129 for iter 60, and B change is 0.0005836105164197996\n",
      "NNSC change is 0.0498627458411383 for iter 61, and B change is 0.0005853973781482915\n",
      "NNSC change is 0.04859495939744916 for iter 62, and B change is 0.0005871162924917102\n",
      "NNSC change is 0.04740910897734274 for iter 63, and B change is 0.0005887640972855298\n",
      "NNSC change is 0.046298703170640415 for iter 64, and B change is 0.0005903459704414321\n",
      "NNSC change is 0.04525754898451342 for iter 65, and B change is 0.00059186678011608\n",
      "NNSC change is 0.04427980976965397 for iter 66, and B change is 0.000593331093480225\n",
      "NNSC change is 0.043360043055628475 for iter 67, and B change is 0.0005947431872566431\n",
      "NNSC change is 0.042493221374492796 for iter 68, and B change is 0.0005961070595941834\n",
      "NNSC change is 0.04167473907990877 for iter 69, and B change is 0.0005974264429023533\n",
      "NNSC change is 0.040900407986925034 for iter 70, and B change is 0.0005987048173165349\n",
      "NNSC change is 0.040166444400880824 for iter 71, and B change is 0.0005999454245153807\n",
      "NNSC change is 0.03946944980247835 for iter 72, and B change is 0.0006011512816539371\n",
      "NNSC change is 0.03880638713547461 for iter 73, and B change is 0.0006023251952175181\n",
      "NNSC change is 0.038174554324344565 for iter 74, and B change is 0.0006034697746360784\n",
      "NNSC change is 0.03757155634639089 for iter 75, and B change is 0.0006045874455334075\n",
      "NNSC change is 0.036995276906679676 for iter 76, and B change is 0.0006056804625108277\n",
      "NNSC change is 0.03644385051984738 for iter 77, and B change is 0.000606750921392658\n",
      "NNSC change is 0.035915635593186494 for iter 78, and B change is 0.0006078007708802771\n",
      "NNSC change is 0.03540918892959148 for iter 79, and B change is 0.00060883182357902\n",
      "NNSC change is 0.03492324192524506 for iter 80, and B change is 0.0006098457663796568\n",
      "NNSC change is 0.0344566786220133 for iter 81, and B change is 0.0006108441701857415\n",
      "NNSC change is 0.03400851568502115 for iter 82, and B change is 0.0006118284989904329\n",
      "NNSC change is 0.03357788430779314 for iter 83, and B change is 0.0006128001183136821\n",
      "NNSC change is 0.033164013997338114 for iter 84, and B change is 0.0006137603030168493\n",
      "NNSC change is 0.03276621815609578 for iter 85, and B change is 0.0006147102445172587\n",
      "NNSC change is 0.03238388135392479 for iter 86, and B change is 0.0006156510574284726\n",
      "NNSC change is 0.03201644816887459 for iter 87, and B change is 0.0006165837856542876\n",
      "NNSC change is 0.031663413467882685 for iter 88, and B change is 0.0006175094079668495\n",
      "NNSC change is 0.0313243139965053 for iter 89, and B change is 0.0006184288430989311\n",
      "NNSC change is 0.030998721148453527 for iter 90, and B change is 0.0006193429543819766\n",
      "NNSC change is 0.03068623479029284 for iter 91, and B change is 0.0006202525539601133\n",
      "NNSC change is 0.03038647802298906 for iter 92, and B change is 0.0006211584066106822\n",
      "NNSC change is 0.030101570383981067 for iter 93, and B change is 0.0006207345990444158\n",
      "NNSC change is 0.029834922053185157 for iter 94, and B change is 0.0006189035159565115\n",
      "NNSC change is 0.029574813418247997 for iter 95, and B change is 0.0006183603461961259\n",
      "NNSC change is 0.02932541115614042 for iter 96, and B change is 0.000618969122203388\n",
      "NNSC change is 0.02908648192188166 for iter 97, and B change is 0.0006198633970623578\n",
      "NNSC change is 0.028858088104654466 for iter 98, and B change is 0.0006208032374554077\n",
      "NNSC change is 0.028640128509675806 for iter 99, and B change is 0.0006217436515899433\n",
      "NNSC change is 0.028432639416848374 for iter 100, and B change is 0.0006226176422222184\n",
      "NNSC change is 0.028234816558756044 for iter 101, and B change is 0.000623552631158125\n",
      "Gone through one appliance\n"
     ]
    },
    {
     "name": "stderr",
     "output_type": "stream",
     "text": [
      "C:\\Users\\mengh\\Anaconda3\\envs\\python35\\lib\\site-packages\\sklearn\\linear_model\\coordinate_descent.py:492: ConvergenceWarning: Objective did not converge. You might want to increase the number of iterations. Fitting data with very small alpha may cause precision problems.\n",
      "  ConvergenceWarning)\n",
      "C:\\Users\\mengh\\Anaconda3\\envs\\python35\\lib\\site-packages\\sklearn\\linear_model\\coordinate_descent.py:492: ConvergenceWarning: Objective did not converge. You might want to increase the number of iterations. Fitting data with very small alpha may cause precision problems.\n",
      "  ConvergenceWarning)\n"
     ]
    },
    {
     "name": "stdout",
     "output_type": "stream",
     "text": [
      "time of computations for Dictionary Learning with m: 4 and T: 24 took: 1.688514\n",
      "done pre_training\n"
     ]
    },
    {
     "name": "stderr",
     "output_type": "stream",
     "text": [
      "C:\\Users\\mengh\\Anaconda3\\envs\\python35\\lib\\site-packages\\sklearn\\linear_model\\coordinate_descent.py:492: ConvergenceWarning: Objective did not converge. You might want to increase the number of iterations. Fitting data with very small alpha may cause precision problems.\n",
      "  ConvergenceWarning)\n",
      "C:\\Users\\mengh\\Anaconda3\\envs\\python35\\lib\\site-packages\\sklearn\\linear_model\\coordinate_descent.py:492: ConvergenceWarning: Objective did not converge. You might want to increase the number of iterations. Fitting data with very small alpha may cause precision problems.\n",
      "  ConvergenceWarning)\n",
      "C:\\Users\\mengh\\Anaconda3\\envs\\python35\\lib\\site-packages\\sklearn\\linear_model\\coordinate_descent.py:492: ConvergenceWarning: Objective did not converge. You might want to increase the number of iterations. Fitting data with very small alpha may cause precision problems.\n",
      "  ConvergenceWarning)\n",
      "C:\\Users\\mengh\\Anaconda3\\envs\\python35\\lib\\site-packages\\sklearn\\linear_model\\coordinate_descent.py:492: ConvergenceWarning: Objective did not converge. You might want to increase the number of iterations. Fitting data with very small alpha may cause precision problems.\n",
      "  ConvergenceWarning)\n"
     ]
    },
    {
     "name": "stdout",
     "output_type": "stream",
     "text": [
      "DD change is 0.006827 and step is 1\n"
     ]
    },
    {
     "name": "stderr",
     "output_type": "stream",
     "text": [
      "C:\\Users\\mengh\\Anaconda3\\envs\\python35\\lib\\site-packages\\sklearn\\linear_model\\coordinate_descent.py:492: ConvergenceWarning: Objective did not converge. You might want to increase the number of iterations. Fitting data with very small alpha may cause precision problems.\n",
      "  ConvergenceWarning)\n",
      "C:\\Users\\mengh\\Anaconda3\\envs\\python35\\lib\\site-packages\\sklearn\\linear_model\\coordinate_descent.py:492: ConvergenceWarning: Objective did not converge. You might want to increase the number of iterations. Fitting data with very small alpha may cause precision problems.\n",
      "  ConvergenceWarning)\n",
      "C:\\Users\\mengh\\Anaconda3\\envs\\python35\\lib\\site-packages\\sklearn\\linear_model\\coordinate_descent.py:492: ConvergenceWarning: Objective did not converge. You might want to increase the number of iterations. Fitting data with very small alpha may cause precision problems.\n",
      "  ConvergenceWarning)\n",
      "C:\\Users\\mengh\\Anaconda3\\envs\\python35\\lib\\site-packages\\sklearn\\linear_model\\coordinate_descent.py:492: ConvergenceWarning: Objective did not converge. You might want to increase the number of iterations. Fitting data with very small alpha may cause precision problems.\n",
      "  ConvergenceWarning)\n"
     ]
    },
    {
     "name": "stdout",
     "output_type": "stream",
     "text": [
      "DD change is 0.006845 and step is 2\n"
     ]
    },
    {
     "name": "stderr",
     "output_type": "stream",
     "text": [
      "C:\\Users\\mengh\\Anaconda3\\envs\\python35\\lib\\site-packages\\sklearn\\linear_model\\coordinate_descent.py:492: ConvergenceWarning: Objective did not converge. You might want to increase the number of iterations. Fitting data with very small alpha may cause precision problems.\n",
      "  ConvergenceWarning)\n",
      "C:\\Users\\mengh\\Anaconda3\\envs\\python35\\lib\\site-packages\\sklearn\\linear_model\\coordinate_descent.py:492: ConvergenceWarning: Objective did not converge. You might want to increase the number of iterations. Fitting data with very small alpha may cause precision problems.\n",
      "  ConvergenceWarning)\n",
      "C:\\Users\\mengh\\Anaconda3\\envs\\python35\\lib\\site-packages\\sklearn\\linear_model\\coordinate_descent.py:492: ConvergenceWarning: Objective did not converge. You might want to increase the number of iterations. Fitting data with very small alpha may cause precision problems.\n",
      "  ConvergenceWarning)\n",
      "C:\\Users\\mengh\\Anaconda3\\envs\\python35\\lib\\site-packages\\sklearn\\linear_model\\coordinate_descent.py:492: ConvergenceWarning: Objective did not converge. You might want to increase the number of iterations. Fitting data with very small alpha may cause precision problems.\n",
      "  ConvergenceWarning)\n"
     ]
    },
    {
     "name": "stdout",
     "output_type": "stream",
     "text": [
      "DD change is 0.006867 and step is 3\n"
     ]
    },
    {
     "name": "stderr",
     "output_type": "stream",
     "text": [
      "C:\\Users\\mengh\\Anaconda3\\envs\\python35\\lib\\site-packages\\sklearn\\linear_model\\coordinate_descent.py:492: ConvergenceWarning: Objective did not converge. You might want to increase the number of iterations. Fitting data with very small alpha may cause precision problems.\n",
      "  ConvergenceWarning)\n",
      "C:\\Users\\mengh\\Anaconda3\\envs\\python35\\lib\\site-packages\\sklearn\\linear_model\\coordinate_descent.py:492: ConvergenceWarning: Objective did not converge. You might want to increase the number of iterations. Fitting data with very small alpha may cause precision problems.\n",
      "  ConvergenceWarning)\n",
      "C:\\Users\\mengh\\Anaconda3\\envs\\python35\\lib\\site-packages\\sklearn\\linear_model\\coordinate_descent.py:492: ConvergenceWarning: Objective did not converge. You might want to increase the number of iterations. Fitting data with very small alpha may cause precision problems.\n",
      "  ConvergenceWarning)\n",
      "C:\\Users\\mengh\\Anaconda3\\envs\\python35\\lib\\site-packages\\sklearn\\linear_model\\coordinate_descent.py:492: ConvergenceWarning: Objective did not converge. You might want to increase the number of iterations. Fitting data with very small alpha may cause precision problems.\n",
      "  ConvergenceWarning)\n"
     ]
    },
    {
     "name": "stdout",
     "output_type": "stream",
     "text": [
      "DD change is 0.006892 and step is 4\n"
     ]
    },
    {
     "name": "stderr",
     "output_type": "stream",
     "text": [
      "C:\\Users\\mengh\\Anaconda3\\envs\\python35\\lib\\site-packages\\sklearn\\linear_model\\coordinate_descent.py:492: ConvergenceWarning: Objective did not converge. You might want to increase the number of iterations. Fitting data with very small alpha may cause precision problems.\n",
      "  ConvergenceWarning)\n",
      "C:\\Users\\mengh\\Anaconda3\\envs\\python35\\lib\\site-packages\\sklearn\\linear_model\\coordinate_descent.py:492: ConvergenceWarning: Objective did not converge. You might want to increase the number of iterations. Fitting data with very small alpha may cause precision problems.\n",
      "  ConvergenceWarning)\n",
      "C:\\Users\\mengh\\Anaconda3\\envs\\python35\\lib\\site-packages\\sklearn\\linear_model\\coordinate_descent.py:492: ConvergenceWarning: Objective did not converge. You might want to increase the number of iterations. Fitting data with very small alpha may cause precision problems.\n",
      "  ConvergenceWarning)\n",
      "C:\\Users\\mengh\\Anaconda3\\envs\\python35\\lib\\site-packages\\sklearn\\linear_model\\coordinate_descent.py:492: ConvergenceWarning: Objective did not converge. You might want to increase the number of iterations. Fitting data with very small alpha may cause precision problems.\n",
      "  ConvergenceWarning)\n"
     ]
    },
    {
     "name": "stdout",
     "output_type": "stream",
     "text": [
      "DD change is 0.006917 and step is 5\n"
     ]
    },
    {
     "name": "stderr",
     "output_type": "stream",
     "text": [
      "C:\\Users\\mengh\\Anaconda3\\envs\\python35\\lib\\site-packages\\sklearn\\linear_model\\coordinate_descent.py:492: ConvergenceWarning: Objective did not converge. You might want to increase the number of iterations. Fitting data with very small alpha may cause precision problems.\n",
      "  ConvergenceWarning)\n",
      "C:\\Users\\mengh\\Anaconda3\\envs\\python35\\lib\\site-packages\\sklearn\\linear_model\\coordinate_descent.py:492: ConvergenceWarning: Objective did not converge. You might want to increase the number of iterations. Fitting data with very small alpha may cause precision problems.\n",
      "  ConvergenceWarning)\n",
      "C:\\Users\\mengh\\Anaconda3\\envs\\python35\\lib\\site-packages\\sklearn\\linear_model\\coordinate_descent.py:492: ConvergenceWarning: Objective did not converge. You might want to increase the number of iterations. Fitting data with very small alpha may cause precision problems.\n",
      "  ConvergenceWarning)\n",
      "C:\\Users\\mengh\\Anaconda3\\envs\\python35\\lib\\site-packages\\sklearn\\linear_model\\coordinate_descent.py:492: ConvergenceWarning: Objective did not converge. You might want to increase the number of iterations. Fitting data with very small alpha may cause precision problems.\n",
      "  ConvergenceWarning)\n"
     ]
    },
    {
     "name": "stdout",
     "output_type": "stream",
     "text": [
      "DD change is 0.006946 and step is 6\n"
     ]
    },
    {
     "name": "stderr",
     "output_type": "stream",
     "text": [
      "C:\\Users\\mengh\\Anaconda3\\envs\\python35\\lib\\site-packages\\sklearn\\linear_model\\coordinate_descent.py:492: ConvergenceWarning: Objective did not converge. You might want to increase the number of iterations. Fitting data with very small alpha may cause precision problems.\n",
      "  ConvergenceWarning)\n",
      "C:\\Users\\mengh\\Anaconda3\\envs\\python35\\lib\\site-packages\\sklearn\\linear_model\\coordinate_descent.py:492: ConvergenceWarning: Objective did not converge. You might want to increase the number of iterations. Fitting data with very small alpha may cause precision problems.\n",
      "  ConvergenceWarning)\n",
      "C:\\Users\\mengh\\Anaconda3\\envs\\python35\\lib\\site-packages\\sklearn\\linear_model\\coordinate_descent.py:492: ConvergenceWarning: Objective did not converge. You might want to increase the number of iterations. Fitting data with very small alpha may cause precision problems.\n",
      "  ConvergenceWarning)\n",
      "C:\\Users\\mengh\\Anaconda3\\envs\\python35\\lib\\site-packages\\sklearn\\linear_model\\coordinate_descent.py:492: ConvergenceWarning: Objective did not converge. You might want to increase the number of iterations. Fitting data with very small alpha may cause precision problems.\n",
      "  ConvergenceWarning)\n"
     ]
    },
    {
     "name": "stdout",
     "output_type": "stream",
     "text": [
      "DD change is 0.006983 and step is 7\n"
     ]
    },
    {
     "name": "stderr",
     "output_type": "stream",
     "text": [
      "C:\\Users\\mengh\\Anaconda3\\envs\\python35\\lib\\site-packages\\sklearn\\linear_model\\coordinate_descent.py:492: ConvergenceWarning: Objective did not converge. You might want to increase the number of iterations. Fitting data with very small alpha may cause precision problems.\n",
      "  ConvergenceWarning)\n",
      "C:\\Users\\mengh\\Anaconda3\\envs\\python35\\lib\\site-packages\\sklearn\\linear_model\\coordinate_descent.py:492: ConvergenceWarning: Objective did not converge. You might want to increase the number of iterations. Fitting data with very small alpha may cause precision problems.\n",
      "  ConvergenceWarning)\n",
      "C:\\Users\\mengh\\Anaconda3\\envs\\python35\\lib\\site-packages\\sklearn\\linear_model\\coordinate_descent.py:492: ConvergenceWarning: Objective did not converge. You might want to increase the number of iterations. Fitting data with very small alpha may cause precision problems.\n",
      "  ConvergenceWarning)\n",
      "C:\\Users\\mengh\\Anaconda3\\envs\\python35\\lib\\site-packages\\sklearn\\linear_model\\coordinate_descent.py:492: ConvergenceWarning: Objective did not converge. You might want to increase the number of iterations. Fitting data with very small alpha may cause precision problems.\n",
      "  ConvergenceWarning)\n"
     ]
    },
    {
     "name": "stdout",
     "output_type": "stream",
     "text": [
      "DD change is 0.007029 and step is 8\n"
     ]
    },
    {
     "name": "stderr",
     "output_type": "stream",
     "text": [
      "C:\\Users\\mengh\\Anaconda3\\envs\\python35\\lib\\site-packages\\sklearn\\linear_model\\coordinate_descent.py:492: ConvergenceWarning: Objective did not converge. You might want to increase the number of iterations. Fitting data with very small alpha may cause precision problems.\n",
      "  ConvergenceWarning)\n",
      "C:\\Users\\mengh\\Anaconda3\\envs\\python35\\lib\\site-packages\\sklearn\\linear_model\\coordinate_descent.py:492: ConvergenceWarning: Objective did not converge. You might want to increase the number of iterations. Fitting data with very small alpha may cause precision problems.\n",
      "  ConvergenceWarning)\n",
      "C:\\Users\\mengh\\Anaconda3\\envs\\python35\\lib\\site-packages\\sklearn\\linear_model\\coordinate_descent.py:492: ConvergenceWarning: Objective did not converge. You might want to increase the number of iterations. Fitting data with very small alpha may cause precision problems.\n",
      "  ConvergenceWarning)\n",
      "C:\\Users\\mengh\\Anaconda3\\envs\\python35\\lib\\site-packages\\sklearn\\linear_model\\coordinate_descent.py:492: ConvergenceWarning: Objective did not converge. You might want to increase the number of iterations. Fitting data with very small alpha may cause precision problems.\n",
      "  ConvergenceWarning)\n"
     ]
    },
    {
     "name": "stdout",
     "output_type": "stream",
     "text": [
      "DD change is 0.007076 and step is 9\n"
     ]
    },
    {
     "name": "stderr",
     "output_type": "stream",
     "text": [
      "C:\\Users\\mengh\\Anaconda3\\envs\\python35\\lib\\site-packages\\sklearn\\linear_model\\coordinate_descent.py:492: ConvergenceWarning: Objective did not converge. You might want to increase the number of iterations. Fitting data with very small alpha may cause precision problems.\n",
      "  ConvergenceWarning)\n",
      "C:\\Users\\mengh\\Anaconda3\\envs\\python35\\lib\\site-packages\\sklearn\\linear_model\\coordinate_descent.py:492: ConvergenceWarning: Objective did not converge. You might want to increase the number of iterations. Fitting data with very small alpha may cause precision problems.\n",
      "  ConvergenceWarning)\n",
      "C:\\Users\\mengh\\Anaconda3\\envs\\python35\\lib\\site-packages\\sklearn\\linear_model\\coordinate_descent.py:492: ConvergenceWarning: Objective did not converge. You might want to increase the number of iterations. Fitting data with very small alpha may cause precision problems.\n",
      "  ConvergenceWarning)\n",
      "C:\\Users\\mengh\\Anaconda3\\envs\\python35\\lib\\site-packages\\sklearn\\linear_model\\coordinate_descent.py:492: ConvergenceWarning: Objective did not converge. You might want to increase the number of iterations. Fitting data with very small alpha may cause precision problems.\n",
      "  ConvergenceWarning)\n"
     ]
    },
    {
     "name": "stdout",
     "output_type": "stream",
     "text": [
      "DD change is 0.007123 and step is 10\n"
     ]
    },
    {
     "name": "stderr",
     "output_type": "stream",
     "text": [
      "C:\\Users\\mengh\\Anaconda3\\envs\\python35\\lib\\site-packages\\sklearn\\linear_model\\coordinate_descent.py:492: ConvergenceWarning: Objective did not converge. You might want to increase the number of iterations. Fitting data with very small alpha may cause precision problems.\n",
      "  ConvergenceWarning)\n",
      "C:\\Users\\mengh\\Anaconda3\\envs\\python35\\lib\\site-packages\\sklearn\\linear_model\\coordinate_descent.py:492: ConvergenceWarning: Objective did not converge. You might want to increase the number of iterations. Fitting data with very small alpha may cause precision problems.\n",
      "  ConvergenceWarning)\n",
      "C:\\Users\\mengh\\Anaconda3\\envs\\python35\\lib\\site-packages\\sklearn\\linear_model\\coordinate_descent.py:492: ConvergenceWarning: Objective did not converge. You might want to increase the number of iterations. Fitting data with very small alpha may cause precision problems.\n",
      "  ConvergenceWarning)\n",
      "C:\\Users\\mengh\\Anaconda3\\envs\\python35\\lib\\site-packages\\sklearn\\linear_model\\coordinate_descent.py:492: ConvergenceWarning: Objective did not converge. You might want to increase the number of iterations. Fitting data with very small alpha may cause precision problems.\n",
      "  ConvergenceWarning)\n"
     ]
    },
    {
     "name": "stdout",
     "output_type": "stream",
     "text": [
      "DD change is 0.007174 and step is 11\n"
     ]
    },
    {
     "name": "stderr",
     "output_type": "stream",
     "text": [
      "C:\\Users\\mengh\\Anaconda3\\envs\\python35\\lib\\site-packages\\sklearn\\linear_model\\coordinate_descent.py:492: ConvergenceWarning: Objective did not converge. You might want to increase the number of iterations. Fitting data with very small alpha may cause precision problems.\n",
      "  ConvergenceWarning)\n",
      "C:\\Users\\mengh\\Anaconda3\\envs\\python35\\lib\\site-packages\\sklearn\\linear_model\\coordinate_descent.py:492: ConvergenceWarning: Objective did not converge. You might want to increase the number of iterations. Fitting data with very small alpha may cause precision problems.\n",
      "  ConvergenceWarning)\n",
      "C:\\Users\\mengh\\Anaconda3\\envs\\python35\\lib\\site-packages\\sklearn\\linear_model\\coordinate_descent.py:492: ConvergenceWarning: Objective did not converge. You might want to increase the number of iterations. Fitting data with very small alpha may cause precision problems.\n",
      "  ConvergenceWarning)\n",
      "C:\\Users\\mengh\\Anaconda3\\envs\\python35\\lib\\site-packages\\sklearn\\linear_model\\coordinate_descent.py:492: ConvergenceWarning: Objective did not converge. You might want to increase the number of iterations. Fitting data with very small alpha may cause precision problems.\n",
      "  ConvergenceWarning)\n"
     ]
    },
    {
     "name": "stdout",
     "output_type": "stream",
     "text": [
      "DD change is 0.007232 and step is 12\n"
     ]
    },
    {
     "name": "stderr",
     "output_type": "stream",
     "text": [
      "C:\\Users\\mengh\\Anaconda3\\envs\\python35\\lib\\site-packages\\sklearn\\linear_model\\coordinate_descent.py:492: ConvergenceWarning: Objective did not converge. You might want to increase the number of iterations. Fitting data with very small alpha may cause precision problems.\n",
      "  ConvergenceWarning)\n",
      "C:\\Users\\mengh\\Anaconda3\\envs\\python35\\lib\\site-packages\\sklearn\\linear_model\\coordinate_descent.py:492: ConvergenceWarning: Objective did not converge. You might want to increase the number of iterations. Fitting data with very small alpha may cause precision problems.\n",
      "  ConvergenceWarning)\n",
      "C:\\Users\\mengh\\Anaconda3\\envs\\python35\\lib\\site-packages\\sklearn\\linear_model\\coordinate_descent.py:492: ConvergenceWarning: Objective did not converge. You might want to increase the number of iterations. Fitting data with very small alpha may cause precision problems.\n",
      "  ConvergenceWarning)\n",
      "C:\\Users\\mengh\\Anaconda3\\envs\\python35\\lib\\site-packages\\sklearn\\linear_model\\coordinate_descent.py:492: ConvergenceWarning: Objective did not converge. You might want to increase the number of iterations. Fitting data with very small alpha may cause precision problems.\n",
      "  ConvergenceWarning)\n"
     ]
    },
    {
     "name": "stdout",
     "output_type": "stream",
     "text": [
      "DD change is 0.007294 and step is 13\n"
     ]
    },
    {
     "name": "stderr",
     "output_type": "stream",
     "text": [
      "C:\\Users\\mengh\\Anaconda3\\envs\\python35\\lib\\site-packages\\sklearn\\linear_model\\coordinate_descent.py:492: ConvergenceWarning: Objective did not converge. You might want to increase the number of iterations. Fitting data with very small alpha may cause precision problems.\n",
      "  ConvergenceWarning)\n",
      "C:\\Users\\mengh\\Anaconda3\\envs\\python35\\lib\\site-packages\\sklearn\\linear_model\\coordinate_descent.py:492: ConvergenceWarning: Objective did not converge. You might want to increase the number of iterations. Fitting data with very small alpha may cause precision problems.\n",
      "  ConvergenceWarning)\n",
      "C:\\Users\\mengh\\Anaconda3\\envs\\python35\\lib\\site-packages\\sklearn\\linear_model\\coordinate_descent.py:492: ConvergenceWarning: Objective did not converge. You might want to increase the number of iterations. Fitting data with very small alpha may cause precision problems.\n",
      "  ConvergenceWarning)\n",
      "C:\\Users\\mengh\\Anaconda3\\envs\\python35\\lib\\site-packages\\sklearn\\linear_model\\coordinate_descent.py:492: ConvergenceWarning: Objective did not converge. You might want to increase the number of iterations. Fitting data with very small alpha may cause precision problems.\n",
      "  ConvergenceWarning)\n"
     ]
    },
    {
     "name": "stdout",
     "output_type": "stream",
     "text": [
      "DD change is 0.007362 and step is 14\n"
     ]
    },
    {
     "name": "stderr",
     "output_type": "stream",
     "text": [
      "C:\\Users\\mengh\\Anaconda3\\envs\\python35\\lib\\site-packages\\sklearn\\linear_model\\coordinate_descent.py:492: ConvergenceWarning: Objective did not converge. You might want to increase the number of iterations. Fitting data with very small alpha may cause precision problems.\n",
      "  ConvergenceWarning)\n",
      "C:\\Users\\mengh\\Anaconda3\\envs\\python35\\lib\\site-packages\\sklearn\\linear_model\\coordinate_descent.py:492: ConvergenceWarning: Objective did not converge. You might want to increase the number of iterations. Fitting data with very small alpha may cause precision problems.\n",
      "  ConvergenceWarning)\n",
      "C:\\Users\\mengh\\Anaconda3\\envs\\python35\\lib\\site-packages\\sklearn\\linear_model\\coordinate_descent.py:492: ConvergenceWarning: Objective did not converge. You might want to increase the number of iterations. Fitting data with very small alpha may cause precision problems.\n",
      "  ConvergenceWarning)\n",
      "C:\\Users\\mengh\\Anaconda3\\envs\\python35\\lib\\site-packages\\sklearn\\linear_model\\coordinate_descent.py:492: ConvergenceWarning: Objective did not converge. You might want to increase the number of iterations. Fitting data with very small alpha may cause precision problems.\n",
      "  ConvergenceWarning)\n"
     ]
    },
    {
     "name": "stdout",
     "output_type": "stream",
     "text": [
      "DD change is 0.007438 and step is 15\n"
     ]
    },
    {
     "name": "stderr",
     "output_type": "stream",
     "text": [
      "C:\\Users\\mengh\\Anaconda3\\envs\\python35\\lib\\site-packages\\sklearn\\linear_model\\coordinate_descent.py:492: ConvergenceWarning: Objective did not converge. You might want to increase the number of iterations. Fitting data with very small alpha may cause precision problems.\n",
      "  ConvergenceWarning)\n",
      "C:\\Users\\mengh\\Anaconda3\\envs\\python35\\lib\\site-packages\\sklearn\\linear_model\\coordinate_descent.py:492: ConvergenceWarning: Objective did not converge. You might want to increase the number of iterations. Fitting data with very small alpha may cause precision problems.\n",
      "  ConvergenceWarning)\n",
      "C:\\Users\\mengh\\Anaconda3\\envs\\python35\\lib\\site-packages\\sklearn\\linear_model\\coordinate_descent.py:492: ConvergenceWarning: Objective did not converge. You might want to increase the number of iterations. Fitting data with very small alpha may cause precision problems.\n",
      "  ConvergenceWarning)\n",
      "C:\\Users\\mengh\\Anaconda3\\envs\\python35\\lib\\site-packages\\sklearn\\linear_model\\coordinate_descent.py:492: ConvergenceWarning: Objective did not converge. You might want to increase the number of iterations. Fitting data with very small alpha may cause precision problems.\n",
      "  ConvergenceWarning)\n"
     ]
    },
    {
     "name": "stdout",
     "output_type": "stream",
     "text": [
      "DD change is 0.007512 and step is 16\n"
     ]
    },
    {
     "name": "stderr",
     "output_type": "stream",
     "text": [
      "C:\\Users\\mengh\\Anaconda3\\envs\\python35\\lib\\site-packages\\sklearn\\linear_model\\coordinate_descent.py:492: ConvergenceWarning: Objective did not converge. You might want to increase the number of iterations. Fitting data with very small alpha may cause precision problems.\n",
      "  ConvergenceWarning)\n",
      "C:\\Users\\mengh\\Anaconda3\\envs\\python35\\lib\\site-packages\\sklearn\\linear_model\\coordinate_descent.py:492: ConvergenceWarning: Objective did not converge. You might want to increase the number of iterations. Fitting data with very small alpha may cause precision problems.\n",
      "  ConvergenceWarning)\n",
      "C:\\Users\\mengh\\Anaconda3\\envs\\python35\\lib\\site-packages\\sklearn\\linear_model\\coordinate_descent.py:492: ConvergenceWarning: Objective did not converge. You might want to increase the number of iterations. Fitting data with very small alpha may cause precision problems.\n",
      "  ConvergenceWarning)\n",
      "C:\\Users\\mengh\\Anaconda3\\envs\\python35\\lib\\site-packages\\sklearn\\linear_model\\coordinate_descent.py:492: ConvergenceWarning: Objective did not converge. You might want to increase the number of iterations. Fitting data with very small alpha may cause precision problems.\n",
      "  ConvergenceWarning)\n"
     ]
    },
    {
     "name": "stdout",
     "output_type": "stream",
     "text": [
      "DD change is 0.007587 and step is 17\n"
     ]
    },
    {
     "name": "stderr",
     "output_type": "stream",
     "text": [
      "C:\\Users\\mengh\\Anaconda3\\envs\\python35\\lib\\site-packages\\sklearn\\linear_model\\coordinate_descent.py:492: ConvergenceWarning: Objective did not converge. You might want to increase the number of iterations. Fitting data with very small alpha may cause precision problems.\n",
      "  ConvergenceWarning)\n",
      "C:\\Users\\mengh\\Anaconda3\\envs\\python35\\lib\\site-packages\\sklearn\\linear_model\\coordinate_descent.py:492: ConvergenceWarning: Objective did not converge. You might want to increase the number of iterations. Fitting data with very small alpha may cause precision problems.\n",
      "  ConvergenceWarning)\n",
      "C:\\Users\\mengh\\Anaconda3\\envs\\python35\\lib\\site-packages\\sklearn\\linear_model\\coordinate_descent.py:492: ConvergenceWarning: Objective did not converge. You might want to increase the number of iterations. Fitting data with very small alpha may cause precision problems.\n",
      "  ConvergenceWarning)\n",
      "C:\\Users\\mengh\\Anaconda3\\envs\\python35\\lib\\site-packages\\sklearn\\linear_model\\coordinate_descent.py:492: ConvergenceWarning: Objective did not converge. You might want to increase the number of iterations. Fitting data with very small alpha may cause precision problems.\n",
      "  ConvergenceWarning)\n"
     ]
    },
    {
     "name": "stdout",
     "output_type": "stream",
     "text": [
      "DD change is 0.007660 and step is 18\n"
     ]
    },
    {
     "name": "stderr",
     "output_type": "stream",
     "text": [
      "C:\\Users\\mengh\\Anaconda3\\envs\\python35\\lib\\site-packages\\sklearn\\linear_model\\coordinate_descent.py:492: ConvergenceWarning: Objective did not converge. You might want to increase the number of iterations. Fitting data with very small alpha may cause precision problems.\n",
      "  ConvergenceWarning)\n",
      "C:\\Users\\mengh\\Anaconda3\\envs\\python35\\lib\\site-packages\\sklearn\\linear_model\\coordinate_descent.py:492: ConvergenceWarning: Objective did not converge. You might want to increase the number of iterations. Fitting data with very small alpha may cause precision problems.\n",
      "  ConvergenceWarning)\n",
      "C:\\Users\\mengh\\Anaconda3\\envs\\python35\\lib\\site-packages\\sklearn\\linear_model\\coordinate_descent.py:492: ConvergenceWarning: Objective did not converge. You might want to increase the number of iterations. Fitting data with very small alpha may cause precision problems.\n",
      "  ConvergenceWarning)\n",
      "C:\\Users\\mengh\\Anaconda3\\envs\\python35\\lib\\site-packages\\sklearn\\linear_model\\coordinate_descent.py:492: ConvergenceWarning: Objective did not converge. You might want to increase the number of iterations. Fitting data with very small alpha may cause precision problems.\n",
      "  ConvergenceWarning)\n"
     ]
    },
    {
     "name": "stdout",
     "output_type": "stream",
     "text": [
      "DD change is 0.007733 and step is 19\n"
     ]
    },
    {
     "name": "stderr",
     "output_type": "stream",
     "text": [
      "C:\\Users\\mengh\\Anaconda3\\envs\\python35\\lib\\site-packages\\sklearn\\linear_model\\coordinate_descent.py:492: ConvergenceWarning: Objective did not converge. You might want to increase the number of iterations. Fitting data with very small alpha may cause precision problems.\n",
      "  ConvergenceWarning)\n",
      "C:\\Users\\mengh\\Anaconda3\\envs\\python35\\lib\\site-packages\\sklearn\\linear_model\\coordinate_descent.py:492: ConvergenceWarning: Objective did not converge. You might want to increase the number of iterations. Fitting data with very small alpha may cause precision problems.\n",
      "  ConvergenceWarning)\n",
      "C:\\Users\\mengh\\Anaconda3\\envs\\python35\\lib\\site-packages\\sklearn\\linear_model\\coordinate_descent.py:492: ConvergenceWarning: Objective did not converge. You might want to increase the number of iterations. Fitting data with very small alpha may cause precision problems.\n",
      "  ConvergenceWarning)\n",
      "C:\\Users\\mengh\\Anaconda3\\envs\\python35\\lib\\site-packages\\sklearn\\linear_model\\coordinate_descent.py:492: ConvergenceWarning: Objective did not converge. You might want to increase the number of iterations. Fitting data with very small alpha may cause precision problems.\n",
      "  ConvergenceWarning)\n"
     ]
    },
    {
     "name": "stdout",
     "output_type": "stream",
     "text": [
      "DD change is 0.007811 and step is 20\n"
     ]
    },
    {
     "name": "stderr",
     "output_type": "stream",
     "text": [
      "C:\\Users\\mengh\\Anaconda3\\envs\\python35\\lib\\site-packages\\sklearn\\linear_model\\coordinate_descent.py:492: ConvergenceWarning: Objective did not converge. You might want to increase the number of iterations. Fitting data with very small alpha may cause precision problems.\n",
      "  ConvergenceWarning)\n",
      "C:\\Users\\mengh\\Anaconda3\\envs\\python35\\lib\\site-packages\\sklearn\\linear_model\\coordinate_descent.py:492: ConvergenceWarning: Objective did not converge. You might want to increase the number of iterations. Fitting data with very small alpha may cause precision problems.\n",
      "  ConvergenceWarning)\n",
      "C:\\Users\\mengh\\Anaconda3\\envs\\python35\\lib\\site-packages\\sklearn\\linear_model\\coordinate_descent.py:492: ConvergenceWarning: Objective did not converge. You might want to increase the number of iterations. Fitting data with very small alpha may cause precision problems.\n",
      "  ConvergenceWarning)\n",
      "C:\\Users\\mengh\\Anaconda3\\envs\\python35\\lib\\site-packages\\sklearn\\linear_model\\coordinate_descent.py:492: ConvergenceWarning: Objective did not converge. You might want to increase the number of iterations. Fitting data with very small alpha may cause precision problems.\n",
      "  ConvergenceWarning)\n"
     ]
    },
    {
     "name": "stdout",
     "output_type": "stream",
     "text": [
      "DD change is 0.007855 and step is 21\n"
     ]
    },
    {
     "name": "stderr",
     "output_type": "stream",
     "text": [
      "C:\\Users\\mengh\\Anaconda3\\envs\\python35\\lib\\site-packages\\sklearn\\linear_model\\coordinate_descent.py:492: ConvergenceWarning: Objective did not converge. You might want to increase the number of iterations. Fitting data with very small alpha may cause precision problems.\n",
      "  ConvergenceWarning)\n",
      "C:\\Users\\mengh\\Anaconda3\\envs\\python35\\lib\\site-packages\\sklearn\\linear_model\\coordinate_descent.py:492: ConvergenceWarning: Objective did not converge. You might want to increase the number of iterations. Fitting data with very small alpha may cause precision problems.\n",
      "  ConvergenceWarning)\n",
      "C:\\Users\\mengh\\Anaconda3\\envs\\python35\\lib\\site-packages\\sklearn\\linear_model\\coordinate_descent.py:492: ConvergenceWarning: Objective did not converge. You might want to increase the number of iterations. Fitting data with very small alpha may cause precision problems.\n",
      "  ConvergenceWarning)\n",
      "C:\\Users\\mengh\\Anaconda3\\envs\\python35\\lib\\site-packages\\sklearn\\linear_model\\coordinate_descent.py:492: ConvergenceWarning: Objective did not converge. You might want to increase the number of iterations. Fitting data with very small alpha may cause precision problems.\n",
      "  ConvergenceWarning)\n"
     ]
    },
    {
     "name": "stdout",
     "output_type": "stream",
     "text": [
      "DD change is 0.007894 and step is 22\n"
     ]
    },
    {
     "name": "stderr",
     "output_type": "stream",
     "text": [
      "C:\\Users\\mengh\\Anaconda3\\envs\\python35\\lib\\site-packages\\sklearn\\linear_model\\coordinate_descent.py:492: ConvergenceWarning: Objective did not converge. You might want to increase the number of iterations. Fitting data with very small alpha may cause precision problems.\n",
      "  ConvergenceWarning)\n",
      "C:\\Users\\mengh\\Anaconda3\\envs\\python35\\lib\\site-packages\\sklearn\\linear_model\\coordinate_descent.py:492: ConvergenceWarning: Objective did not converge. You might want to increase the number of iterations. Fitting data with very small alpha may cause precision problems.\n",
      "  ConvergenceWarning)\n",
      "C:\\Users\\mengh\\Anaconda3\\envs\\python35\\lib\\site-packages\\sklearn\\linear_model\\coordinate_descent.py:492: ConvergenceWarning: Objective did not converge. You might want to increase the number of iterations. Fitting data with very small alpha may cause precision problems.\n",
      "  ConvergenceWarning)\n",
      "C:\\Users\\mengh\\Anaconda3\\envs\\python35\\lib\\site-packages\\sklearn\\linear_model\\coordinate_descent.py:492: ConvergenceWarning: Objective did not converge. You might want to increase the number of iterations. Fitting data with very small alpha may cause precision problems.\n",
      "  ConvergenceWarning)\n"
     ]
    },
    {
     "name": "stdout",
     "output_type": "stream",
     "text": [
      "DD change is 0.007931 and step is 23\n"
     ]
    },
    {
     "name": "stderr",
     "output_type": "stream",
     "text": [
      "C:\\Users\\mengh\\Anaconda3\\envs\\python35\\lib\\site-packages\\sklearn\\linear_model\\coordinate_descent.py:492: ConvergenceWarning: Objective did not converge. You might want to increase the number of iterations. Fitting data with very small alpha may cause precision problems.\n",
      "  ConvergenceWarning)\n",
      "C:\\Users\\mengh\\Anaconda3\\envs\\python35\\lib\\site-packages\\sklearn\\linear_model\\coordinate_descent.py:492: ConvergenceWarning: Objective did not converge. You might want to increase the number of iterations. Fitting data with very small alpha may cause precision problems.\n",
      "  ConvergenceWarning)\n",
      "C:\\Users\\mengh\\Anaconda3\\envs\\python35\\lib\\site-packages\\sklearn\\linear_model\\coordinate_descent.py:492: ConvergenceWarning: Objective did not converge. You might want to increase the number of iterations. Fitting data with very small alpha may cause precision problems.\n",
      "  ConvergenceWarning)\n",
      "C:\\Users\\mengh\\Anaconda3\\envs\\python35\\lib\\site-packages\\sklearn\\linear_model\\coordinate_descent.py:492: ConvergenceWarning: Objective did not converge. You might want to increase the number of iterations. Fitting data with very small alpha may cause precision problems.\n",
      "  ConvergenceWarning)\n"
     ]
    },
    {
     "name": "stdout",
     "output_type": "stream",
     "text": [
      "DD change is 0.007946 and step is 24\n"
     ]
    },
    {
     "name": "stderr",
     "output_type": "stream",
     "text": [
      "C:\\Users\\mengh\\Anaconda3\\envs\\python35\\lib\\site-packages\\sklearn\\linear_model\\coordinate_descent.py:492: ConvergenceWarning: Objective did not converge. You might want to increase the number of iterations. Fitting data with very small alpha may cause precision problems.\n",
      "  ConvergenceWarning)\n",
      "C:\\Users\\mengh\\Anaconda3\\envs\\python35\\lib\\site-packages\\sklearn\\linear_model\\coordinate_descent.py:492: ConvergenceWarning: Objective did not converge. You might want to increase the number of iterations. Fitting data with very small alpha may cause precision problems.\n",
      "  ConvergenceWarning)\n",
      "C:\\Users\\mengh\\Anaconda3\\envs\\python35\\lib\\site-packages\\sklearn\\linear_model\\coordinate_descent.py:492: ConvergenceWarning: Objective did not converge. You might want to increase the number of iterations. Fitting data with very small alpha may cause precision problems.\n",
      "  ConvergenceWarning)\n",
      "C:\\Users\\mengh\\Anaconda3\\envs\\python35\\lib\\site-packages\\sklearn\\linear_model\\coordinate_descent.py:492: ConvergenceWarning: Objective did not converge. You might want to increase the number of iterations. Fitting data with very small alpha may cause precision problems.\n",
      "  ConvergenceWarning)\n"
     ]
    },
    {
     "name": "stdout",
     "output_type": "stream",
     "text": [
      "DD change is 0.007945 and step is 25\n"
     ]
    },
    {
     "name": "stderr",
     "output_type": "stream",
     "text": [
      "C:\\Users\\mengh\\Anaconda3\\envs\\python35\\lib\\site-packages\\sklearn\\linear_model\\coordinate_descent.py:492: ConvergenceWarning: Objective did not converge. You might want to increase the number of iterations. Fitting data with very small alpha may cause precision problems.\n",
      "  ConvergenceWarning)\n",
      "C:\\Users\\mengh\\Anaconda3\\envs\\python35\\lib\\site-packages\\sklearn\\linear_model\\coordinate_descent.py:492: ConvergenceWarning: Objective did not converge. You might want to increase the number of iterations. Fitting data with very small alpha may cause precision problems.\n",
      "  ConvergenceWarning)\n",
      "C:\\Users\\mengh\\Anaconda3\\envs\\python35\\lib\\site-packages\\sklearn\\linear_model\\coordinate_descent.py:492: ConvergenceWarning: Objective did not converge. You might want to increase the number of iterations. Fitting data with very small alpha may cause precision problems.\n",
      "  ConvergenceWarning)\n",
      "C:\\Users\\mengh\\Anaconda3\\envs\\python35\\lib\\site-packages\\sklearn\\linear_model\\coordinate_descent.py:492: ConvergenceWarning: Objective did not converge. You might want to increase the number of iterations. Fitting data with very small alpha may cause precision problems.\n",
      "  ConvergenceWarning)\n"
     ]
    },
    {
     "name": "stdout",
     "output_type": "stream",
     "text": [
      "DD change is 0.007925 and step is 26\n"
     ]
    },
    {
     "name": "stderr",
     "output_type": "stream",
     "text": [
      "C:\\Users\\mengh\\Anaconda3\\envs\\python35\\lib\\site-packages\\sklearn\\linear_model\\coordinate_descent.py:492: ConvergenceWarning: Objective did not converge. You might want to increase the number of iterations. Fitting data with very small alpha may cause precision problems.\n",
      "  ConvergenceWarning)\n",
      "C:\\Users\\mengh\\Anaconda3\\envs\\python35\\lib\\site-packages\\sklearn\\linear_model\\coordinate_descent.py:492: ConvergenceWarning: Objective did not converge. You might want to increase the number of iterations. Fitting data with very small alpha may cause precision problems.\n",
      "  ConvergenceWarning)\n",
      "C:\\Users\\mengh\\Anaconda3\\envs\\python35\\lib\\site-packages\\sklearn\\linear_model\\coordinate_descent.py:492: ConvergenceWarning: Objective did not converge. You might want to increase the number of iterations. Fitting data with very small alpha may cause precision problems.\n",
      "  ConvergenceWarning)\n",
      "C:\\Users\\mengh\\Anaconda3\\envs\\python35\\lib\\site-packages\\sklearn\\linear_model\\coordinate_descent.py:492: ConvergenceWarning: Objective did not converge. You might want to increase the number of iterations. Fitting data with very small alpha may cause precision problems.\n",
      "  ConvergenceWarning)\n"
     ]
    },
    {
     "name": "stdout",
     "output_type": "stream",
     "text": [
      "DD change is 0.007895 and step is 27\n"
     ]
    },
    {
     "name": "stderr",
     "output_type": "stream",
     "text": [
      "C:\\Users\\mengh\\Anaconda3\\envs\\python35\\lib\\site-packages\\sklearn\\linear_model\\coordinate_descent.py:492: ConvergenceWarning: Objective did not converge. You might want to increase the number of iterations. Fitting data with very small alpha may cause precision problems.\n",
      "  ConvergenceWarning)\n",
      "C:\\Users\\mengh\\Anaconda3\\envs\\python35\\lib\\site-packages\\sklearn\\linear_model\\coordinate_descent.py:492: ConvergenceWarning: Objective did not converge. You might want to increase the number of iterations. Fitting data with very small alpha may cause precision problems.\n",
      "  ConvergenceWarning)\n",
      "C:\\Users\\mengh\\Anaconda3\\envs\\python35\\lib\\site-packages\\sklearn\\linear_model\\coordinate_descent.py:492: ConvergenceWarning: Objective did not converge. You might want to increase the number of iterations. Fitting data with very small alpha may cause precision problems.\n",
      "  ConvergenceWarning)\n",
      "C:\\Users\\mengh\\Anaconda3\\envs\\python35\\lib\\site-packages\\sklearn\\linear_model\\coordinate_descent.py:492: ConvergenceWarning: Objective did not converge. You might want to increase the number of iterations. Fitting data with very small alpha may cause precision problems.\n",
      "  ConvergenceWarning)\n"
     ]
    },
    {
     "name": "stdout",
     "output_type": "stream",
     "text": [
      "DD change is 0.007863 and step is 28\n"
     ]
    },
    {
     "name": "stderr",
     "output_type": "stream",
     "text": [
      "C:\\Users\\mengh\\Anaconda3\\envs\\python35\\lib\\site-packages\\sklearn\\linear_model\\coordinate_descent.py:492: ConvergenceWarning: Objective did not converge. You might want to increase the number of iterations. Fitting data with very small alpha may cause precision problems.\n",
      "  ConvergenceWarning)\n",
      "C:\\Users\\mengh\\Anaconda3\\envs\\python35\\lib\\site-packages\\sklearn\\linear_model\\coordinate_descent.py:492: ConvergenceWarning: Objective did not converge. You might want to increase the number of iterations. Fitting data with very small alpha may cause precision problems.\n",
      "  ConvergenceWarning)\n",
      "C:\\Users\\mengh\\Anaconda3\\envs\\python35\\lib\\site-packages\\sklearn\\linear_model\\coordinate_descent.py:492: ConvergenceWarning: Objective did not converge. You might want to increase the number of iterations. Fitting data with very small alpha may cause precision problems.\n",
      "  ConvergenceWarning)\n",
      "C:\\Users\\mengh\\Anaconda3\\envs\\python35\\lib\\site-packages\\sklearn\\linear_model\\coordinate_descent.py:492: ConvergenceWarning: Objective did not converge. You might want to increase the number of iterations. Fitting data with very small alpha may cause precision problems.\n",
      "  ConvergenceWarning)\n"
     ]
    },
    {
     "name": "stdout",
     "output_type": "stream",
     "text": [
      "DD change is 0.007846 and step is 29\n"
     ]
    },
    {
     "name": "stderr",
     "output_type": "stream",
     "text": [
      "C:\\Users\\mengh\\Anaconda3\\envs\\python35\\lib\\site-packages\\sklearn\\linear_model\\coordinate_descent.py:492: ConvergenceWarning: Objective did not converge. You might want to increase the number of iterations. Fitting data with very small alpha may cause precision problems.\n",
      "  ConvergenceWarning)\n",
      "C:\\Users\\mengh\\Anaconda3\\envs\\python35\\lib\\site-packages\\sklearn\\linear_model\\coordinate_descent.py:492: ConvergenceWarning: Objective did not converge. You might want to increase the number of iterations. Fitting data with very small alpha may cause precision problems.\n",
      "  ConvergenceWarning)\n",
      "C:\\Users\\mengh\\Anaconda3\\envs\\python35\\lib\\site-packages\\sklearn\\linear_model\\coordinate_descent.py:492: ConvergenceWarning: Objective did not converge. You might want to increase the number of iterations. Fitting data with very small alpha may cause precision problems.\n",
      "  ConvergenceWarning)\n",
      "C:\\Users\\mengh\\Anaconda3\\envs\\python35\\lib\\site-packages\\sklearn\\linear_model\\coordinate_descent.py:492: ConvergenceWarning: Objective did not converge. You might want to increase the number of iterations. Fitting data with very small alpha may cause precision problems.\n",
      "  ConvergenceWarning)\n"
     ]
    },
    {
     "name": "stdout",
     "output_type": "stream",
     "text": [
      "DD change is 0.007833 and step is 30\n"
     ]
    },
    {
     "name": "stderr",
     "output_type": "stream",
     "text": [
      "C:\\Users\\mengh\\Anaconda3\\envs\\python35\\lib\\site-packages\\sklearn\\linear_model\\coordinate_descent.py:492: ConvergenceWarning: Objective did not converge. You might want to increase the number of iterations. Fitting data with very small alpha may cause precision problems.\n",
      "  ConvergenceWarning)\n",
      "C:\\Users\\mengh\\Anaconda3\\envs\\python35\\lib\\site-packages\\sklearn\\linear_model\\coordinate_descent.py:492: ConvergenceWarning: Objective did not converge. You might want to increase the number of iterations. Fitting data with very small alpha may cause precision problems.\n",
      "  ConvergenceWarning)\n",
      "C:\\Users\\mengh\\Anaconda3\\envs\\python35\\lib\\site-packages\\sklearn\\linear_model\\coordinate_descent.py:492: ConvergenceWarning: Objective did not converge. You might want to increase the number of iterations. Fitting data with very small alpha may cause precision problems.\n",
      "  ConvergenceWarning)\n",
      "C:\\Users\\mengh\\Anaconda3\\envs\\python35\\lib\\site-packages\\sklearn\\linear_model\\coordinate_descent.py:492: ConvergenceWarning: Objective did not converge. You might want to increase the number of iterations. Fitting data with very small alpha may cause precision problems.\n",
      "  ConvergenceWarning)\n"
     ]
    },
    {
     "name": "stdout",
     "output_type": "stream",
     "text": [
      "DD change is 0.007826 and step is 31\n"
     ]
    },
    {
     "name": "stderr",
     "output_type": "stream",
     "text": [
      "C:\\Users\\mengh\\Anaconda3\\envs\\python35\\lib\\site-packages\\sklearn\\linear_model\\coordinate_descent.py:492: ConvergenceWarning: Objective did not converge. You might want to increase the number of iterations. Fitting data with very small alpha may cause precision problems.\n",
      "  ConvergenceWarning)\n",
      "C:\\Users\\mengh\\Anaconda3\\envs\\python35\\lib\\site-packages\\sklearn\\linear_model\\coordinate_descent.py:492: ConvergenceWarning: Objective did not converge. You might want to increase the number of iterations. Fitting data with very small alpha may cause precision problems.\n",
      "  ConvergenceWarning)\n",
      "C:\\Users\\mengh\\Anaconda3\\envs\\python35\\lib\\site-packages\\sklearn\\linear_model\\coordinate_descent.py:492: ConvergenceWarning: Objective did not converge. You might want to increase the number of iterations. Fitting data with very small alpha may cause precision problems.\n",
      "  ConvergenceWarning)\n",
      "C:\\Users\\mengh\\Anaconda3\\envs\\python35\\lib\\site-packages\\sklearn\\linear_model\\coordinate_descent.py:492: ConvergenceWarning: Objective did not converge. You might want to increase the number of iterations. Fitting data with very small alpha may cause precision problems.\n",
      "  ConvergenceWarning)\n"
     ]
    },
    {
     "name": "stdout",
     "output_type": "stream",
     "text": [
      "DD change is 0.007819 and step is 32\n"
     ]
    },
    {
     "name": "stderr",
     "output_type": "stream",
     "text": [
      "C:\\Users\\mengh\\Anaconda3\\envs\\python35\\lib\\site-packages\\sklearn\\linear_model\\coordinate_descent.py:492: ConvergenceWarning: Objective did not converge. You might want to increase the number of iterations. Fitting data with very small alpha may cause precision problems.\n",
      "  ConvergenceWarning)\n",
      "C:\\Users\\mengh\\Anaconda3\\envs\\python35\\lib\\site-packages\\sklearn\\linear_model\\coordinate_descent.py:492: ConvergenceWarning: Objective did not converge. You might want to increase the number of iterations. Fitting data with very small alpha may cause precision problems.\n",
      "  ConvergenceWarning)\n",
      "C:\\Users\\mengh\\Anaconda3\\envs\\python35\\lib\\site-packages\\sklearn\\linear_model\\coordinate_descent.py:492: ConvergenceWarning: Objective did not converge. You might want to increase the number of iterations. Fitting data with very small alpha may cause precision problems.\n",
      "  ConvergenceWarning)\n",
      "C:\\Users\\mengh\\Anaconda3\\envs\\python35\\lib\\site-packages\\sklearn\\linear_model\\coordinate_descent.py:492: ConvergenceWarning: Objective did not converge. You might want to increase the number of iterations. Fitting data with very small alpha may cause precision problems.\n",
      "  ConvergenceWarning)\n"
     ]
    },
    {
     "name": "stdout",
     "output_type": "stream",
     "text": [
      "DD change is 0.007814 and step is 33\n"
     ]
    },
    {
     "name": "stderr",
     "output_type": "stream",
     "text": [
      "C:\\Users\\mengh\\Anaconda3\\envs\\python35\\lib\\site-packages\\sklearn\\linear_model\\coordinate_descent.py:492: ConvergenceWarning: Objective did not converge. You might want to increase the number of iterations. Fitting data with very small alpha may cause precision problems.\n",
      "  ConvergenceWarning)\n",
      "C:\\Users\\mengh\\Anaconda3\\envs\\python35\\lib\\site-packages\\sklearn\\linear_model\\coordinate_descent.py:492: ConvergenceWarning: Objective did not converge. You might want to increase the number of iterations. Fitting data with very small alpha may cause precision problems.\n",
      "  ConvergenceWarning)\n",
      "C:\\Users\\mengh\\Anaconda3\\envs\\python35\\lib\\site-packages\\sklearn\\linear_model\\coordinate_descent.py:492: ConvergenceWarning: Objective did not converge. You might want to increase the number of iterations. Fitting data with very small alpha may cause precision problems.\n",
      "  ConvergenceWarning)\n",
      "C:\\Users\\mengh\\Anaconda3\\envs\\python35\\lib\\site-packages\\sklearn\\linear_model\\coordinate_descent.py:492: ConvergenceWarning: Objective did not converge. You might want to increase the number of iterations. Fitting data with very small alpha may cause precision problems.\n",
      "  ConvergenceWarning)\n"
     ]
    },
    {
     "name": "stdout",
     "output_type": "stream",
     "text": [
      "DD change is 0.007815 and step is 34\n"
     ]
    },
    {
     "name": "stderr",
     "output_type": "stream",
     "text": [
      "C:\\Users\\mengh\\Anaconda3\\envs\\python35\\lib\\site-packages\\sklearn\\linear_model\\coordinate_descent.py:492: ConvergenceWarning: Objective did not converge. You might want to increase the number of iterations. Fitting data with very small alpha may cause precision problems.\n",
      "  ConvergenceWarning)\n",
      "C:\\Users\\mengh\\Anaconda3\\envs\\python35\\lib\\site-packages\\sklearn\\linear_model\\coordinate_descent.py:492: ConvergenceWarning: Objective did not converge. You might want to increase the number of iterations. Fitting data with very small alpha may cause precision problems.\n",
      "  ConvergenceWarning)\n",
      "C:\\Users\\mengh\\Anaconda3\\envs\\python35\\lib\\site-packages\\sklearn\\linear_model\\coordinate_descent.py:492: ConvergenceWarning: Objective did not converge. You might want to increase the number of iterations. Fitting data with very small alpha may cause precision problems.\n",
      "  ConvergenceWarning)\n",
      "C:\\Users\\mengh\\Anaconda3\\envs\\python35\\lib\\site-packages\\sklearn\\linear_model\\coordinate_descent.py:492: ConvergenceWarning: Objective did not converge. You might want to increase the number of iterations. Fitting data with very small alpha may cause precision problems.\n",
      "  ConvergenceWarning)\n"
     ]
    },
    {
     "name": "stdout",
     "output_type": "stream",
     "text": [
      "DD change is 0.007834 and step is 35\n"
     ]
    },
    {
     "name": "stderr",
     "output_type": "stream",
     "text": [
      "C:\\Users\\mengh\\Anaconda3\\envs\\python35\\lib\\site-packages\\sklearn\\linear_model\\coordinate_descent.py:492: ConvergenceWarning: Objective did not converge. You might want to increase the number of iterations. Fitting data with very small alpha may cause precision problems.\n",
      "  ConvergenceWarning)\n",
      "C:\\Users\\mengh\\Anaconda3\\envs\\python35\\lib\\site-packages\\sklearn\\linear_model\\coordinate_descent.py:492: ConvergenceWarning: Objective did not converge. You might want to increase the number of iterations. Fitting data with very small alpha may cause precision problems.\n",
      "  ConvergenceWarning)\n",
      "C:\\Users\\mengh\\Anaconda3\\envs\\python35\\lib\\site-packages\\sklearn\\linear_model\\coordinate_descent.py:492: ConvergenceWarning: Objective did not converge. You might want to increase the number of iterations. Fitting data with very small alpha may cause precision problems.\n",
      "  ConvergenceWarning)\n",
      "C:\\Users\\mengh\\Anaconda3\\envs\\python35\\lib\\site-packages\\sklearn\\linear_model\\coordinate_descent.py:492: ConvergenceWarning: Objective did not converge. You might want to increase the number of iterations. Fitting data with very small alpha may cause precision problems.\n",
      "  ConvergenceWarning)\n"
     ]
    },
    {
     "name": "stdout",
     "output_type": "stream",
     "text": [
      "DD change is 0.007855 and step is 36\n"
     ]
    },
    {
     "name": "stderr",
     "output_type": "stream",
     "text": [
      "C:\\Users\\mengh\\Anaconda3\\envs\\python35\\lib\\site-packages\\sklearn\\linear_model\\coordinate_descent.py:492: ConvergenceWarning: Objective did not converge. You might want to increase the number of iterations. Fitting data with very small alpha may cause precision problems.\n",
      "  ConvergenceWarning)\n",
      "C:\\Users\\mengh\\Anaconda3\\envs\\python35\\lib\\site-packages\\sklearn\\linear_model\\coordinate_descent.py:492: ConvergenceWarning: Objective did not converge. You might want to increase the number of iterations. Fitting data with very small alpha may cause precision problems.\n",
      "  ConvergenceWarning)\n",
      "C:\\Users\\mengh\\Anaconda3\\envs\\python35\\lib\\site-packages\\sklearn\\linear_model\\coordinate_descent.py:492: ConvergenceWarning: Objective did not converge. You might want to increase the number of iterations. Fitting data with very small alpha may cause precision problems.\n",
      "  ConvergenceWarning)\n",
      "C:\\Users\\mengh\\Anaconda3\\envs\\python35\\lib\\site-packages\\sklearn\\linear_model\\coordinate_descent.py:492: ConvergenceWarning: Objective did not converge. You might want to increase the number of iterations. Fitting data with very small alpha may cause precision problems.\n",
      "  ConvergenceWarning)\n"
     ]
    },
    {
     "name": "stdout",
     "output_type": "stream",
     "text": [
      "DD change is 0.007885 and step is 37\n"
     ]
    },
    {
     "name": "stderr",
     "output_type": "stream",
     "text": [
      "C:\\Users\\mengh\\Anaconda3\\envs\\python35\\lib\\site-packages\\sklearn\\linear_model\\coordinate_descent.py:492: ConvergenceWarning: Objective did not converge. You might want to increase the number of iterations. Fitting data with very small alpha may cause precision problems.\n",
      "  ConvergenceWarning)\n",
      "C:\\Users\\mengh\\Anaconda3\\envs\\python35\\lib\\site-packages\\sklearn\\linear_model\\coordinate_descent.py:492: ConvergenceWarning: Objective did not converge. You might want to increase the number of iterations. Fitting data with very small alpha may cause precision problems.\n",
      "  ConvergenceWarning)\n",
      "C:\\Users\\mengh\\Anaconda3\\envs\\python35\\lib\\site-packages\\sklearn\\linear_model\\coordinate_descent.py:492: ConvergenceWarning: Objective did not converge. You might want to increase the number of iterations. Fitting data with very small alpha may cause precision problems.\n",
      "  ConvergenceWarning)\n",
      "C:\\Users\\mengh\\Anaconda3\\envs\\python35\\lib\\site-packages\\sklearn\\linear_model\\coordinate_descent.py:492: ConvergenceWarning: Objective did not converge. You might want to increase the number of iterations. Fitting data with very small alpha may cause precision problems.\n",
      "  ConvergenceWarning)\n"
     ]
    },
    {
     "name": "stdout",
     "output_type": "stream",
     "text": [
      "DD change is 0.007925 and step is 38\n"
     ]
    },
    {
     "name": "stderr",
     "output_type": "stream",
     "text": [
      "C:\\Users\\mengh\\Anaconda3\\envs\\python35\\lib\\site-packages\\sklearn\\linear_model\\coordinate_descent.py:492: ConvergenceWarning: Objective did not converge. You might want to increase the number of iterations. Fitting data with very small alpha may cause precision problems.\n",
      "  ConvergenceWarning)\n",
      "C:\\Users\\mengh\\Anaconda3\\envs\\python35\\lib\\site-packages\\sklearn\\linear_model\\coordinate_descent.py:492: ConvergenceWarning: Objective did not converge. You might want to increase the number of iterations. Fitting data with very small alpha may cause precision problems.\n",
      "  ConvergenceWarning)\n",
      "C:\\Users\\mengh\\Anaconda3\\envs\\python35\\lib\\site-packages\\sklearn\\linear_model\\coordinate_descent.py:492: ConvergenceWarning: Objective did not converge. You might want to increase the number of iterations. Fitting data with very small alpha may cause precision problems.\n",
      "  ConvergenceWarning)\n",
      "C:\\Users\\mengh\\Anaconda3\\envs\\python35\\lib\\site-packages\\sklearn\\linear_model\\coordinate_descent.py:492: ConvergenceWarning: Objective did not converge. You might want to increase the number of iterations. Fitting data with very small alpha may cause precision problems.\n",
      "  ConvergenceWarning)\n"
     ]
    },
    {
     "name": "stdout",
     "output_type": "stream",
     "text": [
      "DD change is 0.007940 and step is 39\n"
     ]
    },
    {
     "name": "stderr",
     "output_type": "stream",
     "text": [
      "C:\\Users\\mengh\\Anaconda3\\envs\\python35\\lib\\site-packages\\sklearn\\linear_model\\coordinate_descent.py:492: ConvergenceWarning: Objective did not converge. You might want to increase the number of iterations. Fitting data with very small alpha may cause precision problems.\n",
      "  ConvergenceWarning)\n",
      "C:\\Users\\mengh\\Anaconda3\\envs\\python35\\lib\\site-packages\\sklearn\\linear_model\\coordinate_descent.py:492: ConvergenceWarning: Objective did not converge. You might want to increase the number of iterations. Fitting data with very small alpha may cause precision problems.\n",
      "  ConvergenceWarning)\n",
      "C:\\Users\\mengh\\Anaconda3\\envs\\python35\\lib\\site-packages\\sklearn\\linear_model\\coordinate_descent.py:492: ConvergenceWarning: Objective did not converge. You might want to increase the number of iterations. Fitting data with very small alpha may cause precision problems.\n",
      "  ConvergenceWarning)\n",
      "C:\\Users\\mengh\\Anaconda3\\envs\\python35\\lib\\site-packages\\sklearn\\linear_model\\coordinate_descent.py:492: ConvergenceWarning: Objective did not converge. You might want to increase the number of iterations. Fitting data with very small alpha may cause precision problems.\n",
      "  ConvergenceWarning)\n"
     ]
    },
    {
     "name": "stdout",
     "output_type": "stream",
     "text": [
      "DD change is 0.007935 and step is 40\n"
     ]
    },
    {
     "name": "stderr",
     "output_type": "stream",
     "text": [
      "C:\\Users\\mengh\\Anaconda3\\envs\\python35\\lib\\site-packages\\sklearn\\linear_model\\coordinate_descent.py:492: ConvergenceWarning: Objective did not converge. You might want to increase the number of iterations. Fitting data with very small alpha may cause precision problems.\n",
      "  ConvergenceWarning)\n",
      "C:\\Users\\mengh\\Anaconda3\\envs\\python35\\lib\\site-packages\\sklearn\\linear_model\\coordinate_descent.py:492: ConvergenceWarning: Objective did not converge. You might want to increase the number of iterations. Fitting data with very small alpha may cause precision problems.\n",
      "  ConvergenceWarning)\n",
      "C:\\Users\\mengh\\Anaconda3\\envs\\python35\\lib\\site-packages\\sklearn\\linear_model\\coordinate_descent.py:492: ConvergenceWarning: Objective did not converge. You might want to increase the number of iterations. Fitting data with very small alpha may cause precision problems.\n",
      "  ConvergenceWarning)\n",
      "C:\\Users\\mengh\\Anaconda3\\envs\\python35\\lib\\site-packages\\sklearn\\linear_model\\coordinate_descent.py:492: ConvergenceWarning: Objective did not converge. You might want to increase the number of iterations. Fitting data with very small alpha may cause precision problems.\n",
      "  ConvergenceWarning)\n"
     ]
    },
    {
     "name": "stdout",
     "output_type": "stream",
     "text": [
      "DD change is 0.007903 and step is 41\n"
     ]
    },
    {
     "name": "stderr",
     "output_type": "stream",
     "text": [
      "C:\\Users\\mengh\\Anaconda3\\envs\\python35\\lib\\site-packages\\sklearn\\linear_model\\coordinate_descent.py:492: ConvergenceWarning: Objective did not converge. You might want to increase the number of iterations. Fitting data with very small alpha may cause precision problems.\n",
      "  ConvergenceWarning)\n",
      "C:\\Users\\mengh\\Anaconda3\\envs\\python35\\lib\\site-packages\\sklearn\\linear_model\\coordinate_descent.py:492: ConvergenceWarning: Objective did not converge. You might want to increase the number of iterations. Fitting data with very small alpha may cause precision problems.\n",
      "  ConvergenceWarning)\n",
      "C:\\Users\\mengh\\Anaconda3\\envs\\python35\\lib\\site-packages\\sklearn\\linear_model\\coordinate_descent.py:492: ConvergenceWarning: Objective did not converge. You might want to increase the number of iterations. Fitting data with very small alpha may cause precision problems.\n",
      "  ConvergenceWarning)\n",
      "C:\\Users\\mengh\\Anaconda3\\envs\\python35\\lib\\site-packages\\sklearn\\linear_model\\coordinate_descent.py:492: ConvergenceWarning: Objective did not converge. You might want to increase the number of iterations. Fitting data with very small alpha may cause precision problems.\n",
      "  ConvergenceWarning)\n"
     ]
    },
    {
     "name": "stdout",
     "output_type": "stream",
     "text": [
      "DD change is 0.007852 and step is 42\n"
     ]
    },
    {
     "name": "stderr",
     "output_type": "stream",
     "text": [
      "C:\\Users\\mengh\\Anaconda3\\envs\\python35\\lib\\site-packages\\sklearn\\linear_model\\coordinate_descent.py:492: ConvergenceWarning: Objective did not converge. You might want to increase the number of iterations. Fitting data with very small alpha may cause precision problems.\n",
      "  ConvergenceWarning)\n",
      "C:\\Users\\mengh\\Anaconda3\\envs\\python35\\lib\\site-packages\\sklearn\\linear_model\\coordinate_descent.py:492: ConvergenceWarning: Objective did not converge. You might want to increase the number of iterations. Fitting data with very small alpha may cause precision problems.\n",
      "  ConvergenceWarning)\n",
      "C:\\Users\\mengh\\Anaconda3\\envs\\python35\\lib\\site-packages\\sklearn\\linear_model\\coordinate_descent.py:492: ConvergenceWarning: Objective did not converge. You might want to increase the number of iterations. Fitting data with very small alpha may cause precision problems.\n",
      "  ConvergenceWarning)\n",
      "C:\\Users\\mengh\\Anaconda3\\envs\\python35\\lib\\site-packages\\sklearn\\linear_model\\coordinate_descent.py:492: ConvergenceWarning: Objective did not converge. You might want to increase the number of iterations. Fitting data with very small alpha may cause precision problems.\n",
      "  ConvergenceWarning)\n"
     ]
    },
    {
     "name": "stdout",
     "output_type": "stream",
     "text": [
      "DD change is 0.007814 and step is 43\n"
     ]
    },
    {
     "name": "stderr",
     "output_type": "stream",
     "text": [
      "C:\\Users\\mengh\\Anaconda3\\envs\\python35\\lib\\site-packages\\sklearn\\linear_model\\coordinate_descent.py:492: ConvergenceWarning: Objective did not converge. You might want to increase the number of iterations. Fitting data with very small alpha may cause precision problems.\n",
      "  ConvergenceWarning)\n",
      "C:\\Users\\mengh\\Anaconda3\\envs\\python35\\lib\\site-packages\\sklearn\\linear_model\\coordinate_descent.py:492: ConvergenceWarning: Objective did not converge. You might want to increase the number of iterations. Fitting data with very small alpha may cause precision problems.\n",
      "  ConvergenceWarning)\n",
      "C:\\Users\\mengh\\Anaconda3\\envs\\python35\\lib\\site-packages\\sklearn\\linear_model\\coordinate_descent.py:492: ConvergenceWarning: Objective did not converge. You might want to increase the number of iterations. Fitting data with very small alpha may cause precision problems.\n",
      "  ConvergenceWarning)\n",
      "C:\\Users\\mengh\\Anaconda3\\envs\\python35\\lib\\site-packages\\sklearn\\linear_model\\coordinate_descent.py:492: ConvergenceWarning: Objective did not converge. You might want to increase the number of iterations. Fitting data with very small alpha may cause precision problems.\n",
      "  ConvergenceWarning)\n"
     ]
    },
    {
     "name": "stdout",
     "output_type": "stream",
     "text": [
      "DD change is 0.007762 and step is 44\n"
     ]
    },
    {
     "name": "stderr",
     "output_type": "stream",
     "text": [
      "C:\\Users\\mengh\\Anaconda3\\envs\\python35\\lib\\site-packages\\sklearn\\linear_model\\coordinate_descent.py:492: ConvergenceWarning: Objective did not converge. You might want to increase the number of iterations. Fitting data with very small alpha may cause precision problems.\n",
      "  ConvergenceWarning)\n",
      "C:\\Users\\mengh\\Anaconda3\\envs\\python35\\lib\\site-packages\\sklearn\\linear_model\\coordinate_descent.py:492: ConvergenceWarning: Objective did not converge. You might want to increase the number of iterations. Fitting data with very small alpha may cause precision problems.\n",
      "  ConvergenceWarning)\n",
      "C:\\Users\\mengh\\Anaconda3\\envs\\python35\\lib\\site-packages\\sklearn\\linear_model\\coordinate_descent.py:492: ConvergenceWarning: Objective did not converge. You might want to increase the number of iterations. Fitting data with very small alpha may cause precision problems.\n",
      "  ConvergenceWarning)\n",
      "C:\\Users\\mengh\\Anaconda3\\envs\\python35\\lib\\site-packages\\sklearn\\linear_model\\coordinate_descent.py:492: ConvergenceWarning: Objective did not converge. You might want to increase the number of iterations. Fitting data with very small alpha may cause precision problems.\n",
      "  ConvergenceWarning)\n"
     ]
    },
    {
     "name": "stdout",
     "output_type": "stream",
     "text": [
      "DD change is 0.007695 and step is 45\n"
     ]
    },
    {
     "name": "stderr",
     "output_type": "stream",
     "text": [
      "C:\\Users\\mengh\\Anaconda3\\envs\\python35\\lib\\site-packages\\sklearn\\linear_model\\coordinate_descent.py:492: ConvergenceWarning: Objective did not converge. You might want to increase the number of iterations. Fitting data with very small alpha may cause precision problems.\n",
      "  ConvergenceWarning)\n",
      "C:\\Users\\mengh\\Anaconda3\\envs\\python35\\lib\\site-packages\\sklearn\\linear_model\\coordinate_descent.py:492: ConvergenceWarning: Objective did not converge. You might want to increase the number of iterations. Fitting data with very small alpha may cause precision problems.\n",
      "  ConvergenceWarning)\n",
      "C:\\Users\\mengh\\Anaconda3\\envs\\python35\\lib\\site-packages\\sklearn\\linear_model\\coordinate_descent.py:492: ConvergenceWarning: Objective did not converge. You might want to increase the number of iterations. Fitting data with very small alpha may cause precision problems.\n",
      "  ConvergenceWarning)\n",
      "C:\\Users\\mengh\\Anaconda3\\envs\\python35\\lib\\site-packages\\sklearn\\linear_model\\coordinate_descent.py:492: ConvergenceWarning: Objective did not converge. You might want to increase the number of iterations. Fitting data with very small alpha may cause precision problems.\n",
      "  ConvergenceWarning)\n"
     ]
    },
    {
     "name": "stdout",
     "output_type": "stream",
     "text": [
      "DD change is 0.007627 and step is 46\n"
     ]
    },
    {
     "name": "stderr",
     "output_type": "stream",
     "text": [
      "C:\\Users\\mengh\\Anaconda3\\envs\\python35\\lib\\site-packages\\sklearn\\linear_model\\coordinate_descent.py:492: ConvergenceWarning: Objective did not converge. You might want to increase the number of iterations. Fitting data with very small alpha may cause precision problems.\n",
      "  ConvergenceWarning)\n",
      "C:\\Users\\mengh\\Anaconda3\\envs\\python35\\lib\\site-packages\\sklearn\\linear_model\\coordinate_descent.py:492: ConvergenceWarning: Objective did not converge. You might want to increase the number of iterations. Fitting data with very small alpha may cause precision problems.\n",
      "  ConvergenceWarning)\n",
      "C:\\Users\\mengh\\Anaconda3\\envs\\python35\\lib\\site-packages\\sklearn\\linear_model\\coordinate_descent.py:492: ConvergenceWarning: Objective did not converge. You might want to increase the number of iterations. Fitting data with very small alpha may cause precision problems.\n",
      "  ConvergenceWarning)\n",
      "C:\\Users\\mengh\\Anaconda3\\envs\\python35\\lib\\site-packages\\sklearn\\linear_model\\coordinate_descent.py:492: ConvergenceWarning: Objective did not converge. You might want to increase the number of iterations. Fitting data with very small alpha may cause precision problems.\n",
      "  ConvergenceWarning)\n"
     ]
    },
    {
     "name": "stdout",
     "output_type": "stream",
     "text": [
      "DD change is 0.007571 and step is 47\n"
     ]
    },
    {
     "name": "stderr",
     "output_type": "stream",
     "text": [
      "C:\\Users\\mengh\\Anaconda3\\envs\\python35\\lib\\site-packages\\sklearn\\linear_model\\coordinate_descent.py:492: ConvergenceWarning: Objective did not converge. You might want to increase the number of iterations. Fitting data with very small alpha may cause precision problems.\n",
      "  ConvergenceWarning)\n",
      "C:\\Users\\mengh\\Anaconda3\\envs\\python35\\lib\\site-packages\\sklearn\\linear_model\\coordinate_descent.py:492: ConvergenceWarning: Objective did not converge. You might want to increase the number of iterations. Fitting data with very small alpha may cause precision problems.\n",
      "  ConvergenceWarning)\n",
      "C:\\Users\\mengh\\Anaconda3\\envs\\python35\\lib\\site-packages\\sklearn\\linear_model\\coordinate_descent.py:492: ConvergenceWarning: Objective did not converge. You might want to increase the number of iterations. Fitting data with very small alpha may cause precision problems.\n",
      "  ConvergenceWarning)\n",
      "C:\\Users\\mengh\\Anaconda3\\envs\\python35\\lib\\site-packages\\sklearn\\linear_model\\coordinate_descent.py:492: ConvergenceWarning: Objective did not converge. You might want to increase the number of iterations. Fitting data with very small alpha may cause precision problems.\n",
      "  ConvergenceWarning)\n"
     ]
    },
    {
     "name": "stdout",
     "output_type": "stream",
     "text": [
      "DD change is 0.007522 and step is 48\n"
     ]
    },
    {
     "name": "stderr",
     "output_type": "stream",
     "text": [
      "C:\\Users\\mengh\\Anaconda3\\envs\\python35\\lib\\site-packages\\sklearn\\linear_model\\coordinate_descent.py:492: ConvergenceWarning: Objective did not converge. You might want to increase the number of iterations. Fitting data with very small alpha may cause precision problems.\n",
      "  ConvergenceWarning)\n",
      "C:\\Users\\mengh\\Anaconda3\\envs\\python35\\lib\\site-packages\\sklearn\\linear_model\\coordinate_descent.py:492: ConvergenceWarning: Objective did not converge. You might want to increase the number of iterations. Fitting data with very small alpha may cause precision problems.\n",
      "  ConvergenceWarning)\n",
      "C:\\Users\\mengh\\Anaconda3\\envs\\python35\\lib\\site-packages\\sklearn\\linear_model\\coordinate_descent.py:492: ConvergenceWarning: Objective did not converge. You might want to increase the number of iterations. Fitting data with very small alpha may cause precision problems.\n",
      "  ConvergenceWarning)\n",
      "C:\\Users\\mengh\\Anaconda3\\envs\\python35\\lib\\site-packages\\sklearn\\linear_model\\coordinate_descent.py:492: ConvergenceWarning: Objective did not converge. You might want to increase the number of iterations. Fitting data with very small alpha may cause precision problems.\n",
      "  ConvergenceWarning)\n"
     ]
    },
    {
     "name": "stdout",
     "output_type": "stream",
     "text": [
      "DD change is 0.007464 and step is 49\n"
     ]
    },
    {
     "name": "stderr",
     "output_type": "stream",
     "text": [
      "C:\\Users\\mengh\\Anaconda3\\envs\\python35\\lib\\site-packages\\sklearn\\linear_model\\coordinate_descent.py:492: ConvergenceWarning: Objective did not converge. You might want to increase the number of iterations. Fitting data with very small alpha may cause precision problems.\n",
      "  ConvergenceWarning)\n",
      "C:\\Users\\mengh\\Anaconda3\\envs\\python35\\lib\\site-packages\\sklearn\\linear_model\\coordinate_descent.py:492: ConvergenceWarning: Objective did not converge. You might want to increase the number of iterations. Fitting data with very small alpha may cause precision problems.\n",
      "  ConvergenceWarning)\n",
      "C:\\Users\\mengh\\Anaconda3\\envs\\python35\\lib\\site-packages\\sklearn\\linear_model\\coordinate_descent.py:492: ConvergenceWarning: Objective did not converge. You might want to increase the number of iterations. Fitting data with very small alpha may cause precision problems.\n",
      "  ConvergenceWarning)\n",
      "C:\\Users\\mengh\\Anaconda3\\envs\\python35\\lib\\site-packages\\sklearn\\linear_model\\coordinate_descent.py:492: ConvergenceWarning: Objective did not converge. You might want to increase the number of iterations. Fitting data with very small alpha may cause precision problems.\n",
      "  ConvergenceWarning)\n"
     ]
    },
    {
     "name": "stdout",
     "output_type": "stream",
     "text": [
      "DD change is 0.007432 and step is 50\n"
     ]
    },
    {
     "name": "stderr",
     "output_type": "stream",
     "text": [
      "C:\\Users\\mengh\\Anaconda3\\envs\\python35\\lib\\site-packages\\sklearn\\linear_model\\coordinate_descent.py:492: ConvergenceWarning: Objective did not converge. You might want to increase the number of iterations. Fitting data with very small alpha may cause precision problems.\n",
      "  ConvergenceWarning)\n",
      "C:\\Users\\mengh\\Anaconda3\\envs\\python35\\lib\\site-packages\\sklearn\\linear_model\\coordinate_descent.py:492: ConvergenceWarning: Objective did not converge. You might want to increase the number of iterations. Fitting data with very small alpha may cause precision problems.\n",
      "  ConvergenceWarning)\n",
      "C:\\Users\\mengh\\Anaconda3\\envs\\python35\\lib\\site-packages\\sklearn\\linear_model\\coordinate_descent.py:492: ConvergenceWarning: Objective did not converge. You might want to increase the number of iterations. Fitting data with very small alpha may cause precision problems.\n",
      "  ConvergenceWarning)\n",
      "C:\\Users\\mengh\\Anaconda3\\envs\\python35\\lib\\site-packages\\sklearn\\linear_model\\coordinate_descent.py:492: ConvergenceWarning: Objective did not converge. You might want to increase the number of iterations. Fitting data with very small alpha may cause precision problems.\n",
      "  ConvergenceWarning)\n"
     ]
    },
    {
     "name": "stdout",
     "output_type": "stream",
     "text": [
      "DD change is 0.007412 and step is 51\n"
     ]
    },
    {
     "name": "stderr",
     "output_type": "stream",
     "text": [
      "C:\\Users\\mengh\\Anaconda3\\envs\\python35\\lib\\site-packages\\sklearn\\linear_model\\coordinate_descent.py:492: ConvergenceWarning: Objective did not converge. You might want to increase the number of iterations. Fitting data with very small alpha may cause precision problems.\n",
      "  ConvergenceWarning)\n",
      "C:\\Users\\mengh\\Anaconda3\\envs\\python35\\lib\\site-packages\\sklearn\\linear_model\\coordinate_descent.py:492: ConvergenceWarning: Objective did not converge. You might want to increase the number of iterations. Fitting data with very small alpha may cause precision problems.\n",
      "  ConvergenceWarning)\n",
      "C:\\Users\\mengh\\Anaconda3\\envs\\python35\\lib\\site-packages\\sklearn\\linear_model\\coordinate_descent.py:492: ConvergenceWarning: Objective did not converge. You might want to increase the number of iterations. Fitting data with very small alpha may cause precision problems.\n",
      "  ConvergenceWarning)\n",
      "C:\\Users\\mengh\\Anaconda3\\envs\\python35\\lib\\site-packages\\sklearn\\linear_model\\coordinate_descent.py:492: ConvergenceWarning: Objective did not converge. You might want to increase the number of iterations. Fitting data with very small alpha may cause precision problems.\n",
      "  ConvergenceWarning)\n"
     ]
    },
    {
     "name": "stdout",
     "output_type": "stream",
     "text": [
      "DD change is 0.007390 and step is 52\n"
     ]
    },
    {
     "name": "stderr",
     "output_type": "stream",
     "text": [
      "C:\\Users\\mengh\\Anaconda3\\envs\\python35\\lib\\site-packages\\sklearn\\linear_model\\coordinate_descent.py:492: ConvergenceWarning: Objective did not converge. You might want to increase the number of iterations. Fitting data with very small alpha may cause precision problems.\n",
      "  ConvergenceWarning)\n",
      "C:\\Users\\mengh\\Anaconda3\\envs\\python35\\lib\\site-packages\\sklearn\\linear_model\\coordinate_descent.py:492: ConvergenceWarning: Objective did not converge. You might want to increase the number of iterations. Fitting data with very small alpha may cause precision problems.\n",
      "  ConvergenceWarning)\n",
      "C:\\Users\\mengh\\Anaconda3\\envs\\python35\\lib\\site-packages\\sklearn\\linear_model\\coordinate_descent.py:492: ConvergenceWarning: Objective did not converge. You might want to increase the number of iterations. Fitting data with very small alpha may cause precision problems.\n",
      "  ConvergenceWarning)\n",
      "C:\\Users\\mengh\\Anaconda3\\envs\\python35\\lib\\site-packages\\sklearn\\linear_model\\coordinate_descent.py:492: ConvergenceWarning: Objective did not converge. You might want to increase the number of iterations. Fitting data with very small alpha may cause precision problems.\n",
      "  ConvergenceWarning)\n"
     ]
    },
    {
     "name": "stdout",
     "output_type": "stream",
     "text": [
      "DD change is 0.007354 and step is 53\n"
     ]
    },
    {
     "name": "stderr",
     "output_type": "stream",
     "text": [
      "C:\\Users\\mengh\\Anaconda3\\envs\\python35\\lib\\site-packages\\sklearn\\linear_model\\coordinate_descent.py:492: ConvergenceWarning: Objective did not converge. You might want to increase the number of iterations. Fitting data with very small alpha may cause precision problems.\n",
      "  ConvergenceWarning)\n",
      "C:\\Users\\mengh\\Anaconda3\\envs\\python35\\lib\\site-packages\\sklearn\\linear_model\\coordinate_descent.py:492: ConvergenceWarning: Objective did not converge. You might want to increase the number of iterations. Fitting data with very small alpha may cause precision problems.\n",
      "  ConvergenceWarning)\n",
      "C:\\Users\\mengh\\Anaconda3\\envs\\python35\\lib\\site-packages\\sklearn\\linear_model\\coordinate_descent.py:492: ConvergenceWarning: Objective did not converge. You might want to increase the number of iterations. Fitting data with very small alpha may cause precision problems.\n",
      "  ConvergenceWarning)\n",
      "C:\\Users\\mengh\\Anaconda3\\envs\\python35\\lib\\site-packages\\sklearn\\linear_model\\coordinate_descent.py:492: ConvergenceWarning: Objective did not converge. You might want to increase the number of iterations. Fitting data with very small alpha may cause precision problems.\n",
      "  ConvergenceWarning)\n"
     ]
    },
    {
     "name": "stdout",
     "output_type": "stream",
     "text": [
      "DD change is 0.007304 and step is 54\n"
     ]
    },
    {
     "name": "stderr",
     "output_type": "stream",
     "text": [
      "C:\\Users\\mengh\\Anaconda3\\envs\\python35\\lib\\site-packages\\sklearn\\linear_model\\coordinate_descent.py:492: ConvergenceWarning: Objective did not converge. You might want to increase the number of iterations. Fitting data with very small alpha may cause precision problems.\n",
      "  ConvergenceWarning)\n",
      "C:\\Users\\mengh\\Anaconda3\\envs\\python35\\lib\\site-packages\\sklearn\\linear_model\\coordinate_descent.py:492: ConvergenceWarning: Objective did not converge. You might want to increase the number of iterations. Fitting data with very small alpha may cause precision problems.\n",
      "  ConvergenceWarning)\n",
      "C:\\Users\\mengh\\Anaconda3\\envs\\python35\\lib\\site-packages\\sklearn\\linear_model\\coordinate_descent.py:492: ConvergenceWarning: Objective did not converge. You might want to increase the number of iterations. Fitting data with very small alpha may cause precision problems.\n",
      "  ConvergenceWarning)\n",
      "C:\\Users\\mengh\\Anaconda3\\envs\\python35\\lib\\site-packages\\sklearn\\linear_model\\coordinate_descent.py:492: ConvergenceWarning: Objective did not converge. You might want to increase the number of iterations. Fitting data with very small alpha may cause precision problems.\n",
      "  ConvergenceWarning)\n"
     ]
    },
    {
     "name": "stdout",
     "output_type": "stream",
     "text": [
      "DD change is 0.007233 and step is 55\n"
     ]
    },
    {
     "name": "stderr",
     "output_type": "stream",
     "text": [
      "C:\\Users\\mengh\\Anaconda3\\envs\\python35\\lib\\site-packages\\sklearn\\linear_model\\coordinate_descent.py:492: ConvergenceWarning: Objective did not converge. You might want to increase the number of iterations. Fitting data with very small alpha may cause precision problems.\n",
      "  ConvergenceWarning)\n",
      "C:\\Users\\mengh\\Anaconda3\\envs\\python35\\lib\\site-packages\\sklearn\\linear_model\\coordinate_descent.py:492: ConvergenceWarning: Objective did not converge. You might want to increase the number of iterations. Fitting data with very small alpha may cause precision problems.\n",
      "  ConvergenceWarning)\n",
      "C:\\Users\\mengh\\Anaconda3\\envs\\python35\\lib\\site-packages\\sklearn\\linear_model\\coordinate_descent.py:492: ConvergenceWarning: Objective did not converge. You might want to increase the number of iterations. Fitting data with very small alpha may cause precision problems.\n",
      "  ConvergenceWarning)\n",
      "C:\\Users\\mengh\\Anaconda3\\envs\\python35\\lib\\site-packages\\sklearn\\linear_model\\coordinate_descent.py:492: ConvergenceWarning: Objective did not converge. You might want to increase the number of iterations. Fitting data with very small alpha may cause precision problems.\n",
      "  ConvergenceWarning)\n"
     ]
    },
    {
     "name": "stdout",
     "output_type": "stream",
     "text": [
      "DD change is 0.007160 and step is 56\n"
     ]
    },
    {
     "name": "stderr",
     "output_type": "stream",
     "text": [
      "C:\\Users\\mengh\\Anaconda3\\envs\\python35\\lib\\site-packages\\sklearn\\linear_model\\coordinate_descent.py:492: ConvergenceWarning: Objective did not converge. You might want to increase the number of iterations. Fitting data with very small alpha may cause precision problems.\n",
      "  ConvergenceWarning)\n",
      "C:\\Users\\mengh\\Anaconda3\\envs\\python35\\lib\\site-packages\\sklearn\\linear_model\\coordinate_descent.py:492: ConvergenceWarning: Objective did not converge. You might want to increase the number of iterations. Fitting data with very small alpha may cause precision problems.\n",
      "  ConvergenceWarning)\n",
      "C:\\Users\\mengh\\Anaconda3\\envs\\python35\\lib\\site-packages\\sklearn\\linear_model\\coordinate_descent.py:492: ConvergenceWarning: Objective did not converge. You might want to increase the number of iterations. Fitting data with very small alpha may cause precision problems.\n",
      "  ConvergenceWarning)\n",
      "C:\\Users\\mengh\\Anaconda3\\envs\\python35\\lib\\site-packages\\sklearn\\linear_model\\coordinate_descent.py:492: ConvergenceWarning: Objective did not converge. You might want to increase the number of iterations. Fitting data with very small alpha may cause precision problems.\n",
      "  ConvergenceWarning)\n"
     ]
    },
    {
     "name": "stdout",
     "output_type": "stream",
     "text": [
      "DD change is 0.007105 and step is 57\n"
     ]
    },
    {
     "name": "stderr",
     "output_type": "stream",
     "text": [
      "C:\\Users\\mengh\\Anaconda3\\envs\\python35\\lib\\site-packages\\sklearn\\linear_model\\coordinate_descent.py:492: ConvergenceWarning: Objective did not converge. You might want to increase the number of iterations. Fitting data with very small alpha may cause precision problems.\n",
      "  ConvergenceWarning)\n",
      "C:\\Users\\mengh\\Anaconda3\\envs\\python35\\lib\\site-packages\\sklearn\\linear_model\\coordinate_descent.py:492: ConvergenceWarning: Objective did not converge. You might want to increase the number of iterations. Fitting data with very small alpha may cause precision problems.\n",
      "  ConvergenceWarning)\n",
      "C:\\Users\\mengh\\Anaconda3\\envs\\python35\\lib\\site-packages\\sklearn\\linear_model\\coordinate_descent.py:492: ConvergenceWarning: Objective did not converge. You might want to increase the number of iterations. Fitting data with very small alpha may cause precision problems.\n",
      "  ConvergenceWarning)\n",
      "C:\\Users\\mengh\\Anaconda3\\envs\\python35\\lib\\site-packages\\sklearn\\linear_model\\coordinate_descent.py:492: ConvergenceWarning: Objective did not converge. You might want to increase the number of iterations. Fitting data with very small alpha may cause precision problems.\n",
      "  ConvergenceWarning)\n"
     ]
    },
    {
     "name": "stdout",
     "output_type": "stream",
     "text": [
      "DD change is 0.007076 and step is 58\n"
     ]
    },
    {
     "name": "stderr",
     "output_type": "stream",
     "text": [
      "C:\\Users\\mengh\\Anaconda3\\envs\\python35\\lib\\site-packages\\sklearn\\linear_model\\coordinate_descent.py:492: ConvergenceWarning: Objective did not converge. You might want to increase the number of iterations. Fitting data with very small alpha may cause precision problems.\n",
      "  ConvergenceWarning)\n",
      "C:\\Users\\mengh\\Anaconda3\\envs\\python35\\lib\\site-packages\\sklearn\\linear_model\\coordinate_descent.py:492: ConvergenceWarning: Objective did not converge. You might want to increase the number of iterations. Fitting data with very small alpha may cause precision problems.\n",
      "  ConvergenceWarning)\n",
      "C:\\Users\\mengh\\Anaconda3\\envs\\python35\\lib\\site-packages\\sklearn\\linear_model\\coordinate_descent.py:492: ConvergenceWarning: Objective did not converge. You might want to increase the number of iterations. Fitting data with very small alpha may cause precision problems.\n",
      "  ConvergenceWarning)\n",
      "C:\\Users\\mengh\\Anaconda3\\envs\\python35\\lib\\site-packages\\sklearn\\linear_model\\coordinate_descent.py:492: ConvergenceWarning: Objective did not converge. You might want to increase the number of iterations. Fitting data with very small alpha may cause precision problems.\n",
      "  ConvergenceWarning)\n"
     ]
    },
    {
     "name": "stdout",
     "output_type": "stream",
     "text": [
      "DD change is 0.007039 and step is 59\n"
     ]
    },
    {
     "name": "stderr",
     "output_type": "stream",
     "text": [
      "C:\\Users\\mengh\\Anaconda3\\envs\\python35\\lib\\site-packages\\sklearn\\linear_model\\coordinate_descent.py:492: ConvergenceWarning: Objective did not converge. You might want to increase the number of iterations. Fitting data with very small alpha may cause precision problems.\n",
      "  ConvergenceWarning)\n",
      "C:\\Users\\mengh\\Anaconda3\\envs\\python35\\lib\\site-packages\\sklearn\\linear_model\\coordinate_descent.py:492: ConvergenceWarning: Objective did not converge. You might want to increase the number of iterations. Fitting data with very small alpha may cause precision problems.\n",
      "  ConvergenceWarning)\n",
      "C:\\Users\\mengh\\Anaconda3\\envs\\python35\\lib\\site-packages\\sklearn\\linear_model\\coordinate_descent.py:492: ConvergenceWarning: Objective did not converge. You might want to increase the number of iterations. Fitting data with very small alpha may cause precision problems.\n",
      "  ConvergenceWarning)\n",
      "C:\\Users\\mengh\\Anaconda3\\envs\\python35\\lib\\site-packages\\sklearn\\linear_model\\coordinate_descent.py:492: ConvergenceWarning: Objective did not converge. You might want to increase the number of iterations. Fitting data with very small alpha may cause precision problems.\n",
      "  ConvergenceWarning)\n"
     ]
    },
    {
     "name": "stdout",
     "output_type": "stream",
     "text": [
      "DD change is 0.006994 and step is 60\n"
     ]
    },
    {
     "name": "stderr",
     "output_type": "stream",
     "text": [
      "C:\\Users\\mengh\\Anaconda3\\envs\\python35\\lib\\site-packages\\sklearn\\linear_model\\coordinate_descent.py:492: ConvergenceWarning: Objective did not converge. You might want to increase the number of iterations. Fitting data with very small alpha may cause precision problems.\n",
      "  ConvergenceWarning)\n",
      "C:\\Users\\mengh\\Anaconda3\\envs\\python35\\lib\\site-packages\\sklearn\\linear_model\\coordinate_descent.py:492: ConvergenceWarning: Objective did not converge. You might want to increase the number of iterations. Fitting data with very small alpha may cause precision problems.\n",
      "  ConvergenceWarning)\n",
      "C:\\Users\\mengh\\Anaconda3\\envs\\python35\\lib\\site-packages\\sklearn\\linear_model\\coordinate_descent.py:492: ConvergenceWarning: Objective did not converge. You might want to increase the number of iterations. Fitting data with very small alpha may cause precision problems.\n",
      "  ConvergenceWarning)\n",
      "C:\\Users\\mengh\\Anaconda3\\envs\\python35\\lib\\site-packages\\sklearn\\linear_model\\coordinate_descent.py:492: ConvergenceWarning: Objective did not converge. You might want to increase the number of iterations. Fitting data with very small alpha may cause precision problems.\n",
      "  ConvergenceWarning)\n"
     ]
    },
    {
     "name": "stdout",
     "output_type": "stream",
     "text": [
      "DD change is 0.006957 and step is 61\n"
     ]
    },
    {
     "name": "stderr",
     "output_type": "stream",
     "text": [
      "C:\\Users\\mengh\\Anaconda3\\envs\\python35\\lib\\site-packages\\sklearn\\linear_model\\coordinate_descent.py:492: ConvergenceWarning: Objective did not converge. You might want to increase the number of iterations. Fitting data with very small alpha may cause precision problems.\n",
      "  ConvergenceWarning)\n",
      "C:\\Users\\mengh\\Anaconda3\\envs\\python35\\lib\\site-packages\\sklearn\\linear_model\\coordinate_descent.py:492: ConvergenceWarning: Objective did not converge. You might want to increase the number of iterations. Fitting data with very small alpha may cause precision problems.\n",
      "  ConvergenceWarning)\n",
      "C:\\Users\\mengh\\Anaconda3\\envs\\python35\\lib\\site-packages\\sklearn\\linear_model\\coordinate_descent.py:492: ConvergenceWarning: Objective did not converge. You might want to increase the number of iterations. Fitting data with very small alpha may cause precision problems.\n",
      "  ConvergenceWarning)\n",
      "C:\\Users\\mengh\\Anaconda3\\envs\\python35\\lib\\site-packages\\sklearn\\linear_model\\coordinate_descent.py:492: ConvergenceWarning: Objective did not converge. You might want to increase the number of iterations. Fitting data with very small alpha may cause precision problems.\n",
      "  ConvergenceWarning)\n"
     ]
    },
    {
     "name": "stdout",
     "output_type": "stream",
     "text": [
      "DD change is 0.006921 and step is 62\n"
     ]
    },
    {
     "name": "stderr",
     "output_type": "stream",
     "text": [
      "C:\\Users\\mengh\\Anaconda3\\envs\\python35\\lib\\site-packages\\sklearn\\linear_model\\coordinate_descent.py:492: ConvergenceWarning: Objective did not converge. You might want to increase the number of iterations. Fitting data with very small alpha may cause precision problems.\n",
      "  ConvergenceWarning)\n",
      "C:\\Users\\mengh\\Anaconda3\\envs\\python35\\lib\\site-packages\\sklearn\\linear_model\\coordinate_descent.py:492: ConvergenceWarning: Objective did not converge. You might want to increase the number of iterations. Fitting data with very small alpha may cause precision problems.\n",
      "  ConvergenceWarning)\n",
      "C:\\Users\\mengh\\Anaconda3\\envs\\python35\\lib\\site-packages\\sklearn\\linear_model\\coordinate_descent.py:492: ConvergenceWarning: Objective did not converge. You might want to increase the number of iterations. Fitting data with very small alpha may cause precision problems.\n",
      "  ConvergenceWarning)\n",
      "C:\\Users\\mengh\\Anaconda3\\envs\\python35\\lib\\site-packages\\sklearn\\linear_model\\coordinate_descent.py:492: ConvergenceWarning: Objective did not converge. You might want to increase the number of iterations. Fitting data with very small alpha may cause precision problems.\n",
      "  ConvergenceWarning)\n"
     ]
    },
    {
     "name": "stdout",
     "output_type": "stream",
     "text": [
      "DD change is 0.006893 and step is 63\n"
     ]
    },
    {
     "name": "stderr",
     "output_type": "stream",
     "text": [
      "C:\\Users\\mengh\\Anaconda3\\envs\\python35\\lib\\site-packages\\sklearn\\linear_model\\coordinate_descent.py:492: ConvergenceWarning: Objective did not converge. You might want to increase the number of iterations. Fitting data with very small alpha may cause precision problems.\n",
      "  ConvergenceWarning)\n",
      "C:\\Users\\mengh\\Anaconda3\\envs\\python35\\lib\\site-packages\\sklearn\\linear_model\\coordinate_descent.py:492: ConvergenceWarning: Objective did not converge. You might want to increase the number of iterations. Fitting data with very small alpha may cause precision problems.\n",
      "  ConvergenceWarning)\n",
      "C:\\Users\\mengh\\Anaconda3\\envs\\python35\\lib\\site-packages\\sklearn\\linear_model\\coordinate_descent.py:492: ConvergenceWarning: Objective did not converge. You might want to increase the number of iterations. Fitting data with very small alpha may cause precision problems.\n",
      "  ConvergenceWarning)\n",
      "C:\\Users\\mengh\\Anaconda3\\envs\\python35\\lib\\site-packages\\sklearn\\linear_model\\coordinate_descent.py:492: ConvergenceWarning: Objective did not converge. You might want to increase the number of iterations. Fitting data with very small alpha may cause precision problems.\n",
      "  ConvergenceWarning)\n"
     ]
    },
    {
     "name": "stdout",
     "output_type": "stream",
     "text": [
      "DD change is 0.006866 and step is 64\n"
     ]
    },
    {
     "name": "stderr",
     "output_type": "stream",
     "text": [
      "C:\\Users\\mengh\\Anaconda3\\envs\\python35\\lib\\site-packages\\sklearn\\linear_model\\coordinate_descent.py:492: ConvergenceWarning: Objective did not converge. You might want to increase the number of iterations. Fitting data with very small alpha may cause precision problems.\n",
      "  ConvergenceWarning)\n",
      "C:\\Users\\mengh\\Anaconda3\\envs\\python35\\lib\\site-packages\\sklearn\\linear_model\\coordinate_descent.py:492: ConvergenceWarning: Objective did not converge. You might want to increase the number of iterations. Fitting data with very small alpha may cause precision problems.\n",
      "  ConvergenceWarning)\n",
      "C:\\Users\\mengh\\Anaconda3\\envs\\python35\\lib\\site-packages\\sklearn\\linear_model\\coordinate_descent.py:492: ConvergenceWarning: Objective did not converge. You might want to increase the number of iterations. Fitting data with very small alpha may cause precision problems.\n",
      "  ConvergenceWarning)\n",
      "C:\\Users\\mengh\\Anaconda3\\envs\\python35\\lib\\site-packages\\sklearn\\linear_model\\coordinate_descent.py:492: ConvergenceWarning: Objective did not converge. You might want to increase the number of iterations. Fitting data with very small alpha may cause precision problems.\n",
      "  ConvergenceWarning)\n"
     ]
    },
    {
     "name": "stdout",
     "output_type": "stream",
     "text": [
      "DD change is 0.006851 and step is 65\n"
     ]
    },
    {
     "name": "stderr",
     "output_type": "stream",
     "text": [
      "C:\\Users\\mengh\\Anaconda3\\envs\\python35\\lib\\site-packages\\sklearn\\linear_model\\coordinate_descent.py:492: ConvergenceWarning: Objective did not converge. You might want to increase the number of iterations. Fitting data with very small alpha may cause precision problems.\n",
      "  ConvergenceWarning)\n",
      "C:\\Users\\mengh\\Anaconda3\\envs\\python35\\lib\\site-packages\\sklearn\\linear_model\\coordinate_descent.py:492: ConvergenceWarning: Objective did not converge. You might want to increase the number of iterations. Fitting data with very small alpha may cause precision problems.\n",
      "  ConvergenceWarning)\n",
      "C:\\Users\\mengh\\Anaconda3\\envs\\python35\\lib\\site-packages\\sklearn\\linear_model\\coordinate_descent.py:492: ConvergenceWarning: Objective did not converge. You might want to increase the number of iterations. Fitting data with very small alpha may cause precision problems.\n",
      "  ConvergenceWarning)\n",
      "C:\\Users\\mengh\\Anaconda3\\envs\\python35\\lib\\site-packages\\sklearn\\linear_model\\coordinate_descent.py:492: ConvergenceWarning: Objective did not converge. You might want to increase the number of iterations. Fitting data with very small alpha may cause precision problems.\n",
      "  ConvergenceWarning)\n"
     ]
    },
    {
     "name": "stdout",
     "output_type": "stream",
     "text": [
      "DD change is 0.006839 and step is 66\n"
     ]
    },
    {
     "name": "stderr",
     "output_type": "stream",
     "text": [
      "C:\\Users\\mengh\\Anaconda3\\envs\\python35\\lib\\site-packages\\sklearn\\linear_model\\coordinate_descent.py:492: ConvergenceWarning: Objective did not converge. You might want to increase the number of iterations. Fitting data with very small alpha may cause precision problems.\n",
      "  ConvergenceWarning)\n",
      "C:\\Users\\mengh\\Anaconda3\\envs\\python35\\lib\\site-packages\\sklearn\\linear_model\\coordinate_descent.py:492: ConvergenceWarning: Objective did not converge. You might want to increase the number of iterations. Fitting data with very small alpha may cause precision problems.\n",
      "  ConvergenceWarning)\n",
      "C:\\Users\\mengh\\Anaconda3\\envs\\python35\\lib\\site-packages\\sklearn\\linear_model\\coordinate_descent.py:492: ConvergenceWarning: Objective did not converge. You might want to increase the number of iterations. Fitting data with very small alpha may cause precision problems.\n",
      "  ConvergenceWarning)\n",
      "C:\\Users\\mengh\\Anaconda3\\envs\\python35\\lib\\site-packages\\sklearn\\linear_model\\coordinate_descent.py:492: ConvergenceWarning: Objective did not converge. You might want to increase the number of iterations. Fitting data with very small alpha may cause precision problems.\n",
      "  ConvergenceWarning)\n"
     ]
    },
    {
     "name": "stdout",
     "output_type": "stream",
     "text": [
      "DD change is 0.006832 and step is 67\n"
     ]
    },
    {
     "name": "stderr",
     "output_type": "stream",
     "text": [
      "C:\\Users\\mengh\\Anaconda3\\envs\\python35\\lib\\site-packages\\sklearn\\linear_model\\coordinate_descent.py:492: ConvergenceWarning: Objective did not converge. You might want to increase the number of iterations. Fitting data with very small alpha may cause precision problems.\n",
      "  ConvergenceWarning)\n",
      "C:\\Users\\mengh\\Anaconda3\\envs\\python35\\lib\\site-packages\\sklearn\\linear_model\\coordinate_descent.py:492: ConvergenceWarning: Objective did not converge. You might want to increase the number of iterations. Fitting data with very small alpha may cause precision problems.\n",
      "  ConvergenceWarning)\n",
      "C:\\Users\\mengh\\Anaconda3\\envs\\python35\\lib\\site-packages\\sklearn\\linear_model\\coordinate_descent.py:492: ConvergenceWarning: Objective did not converge. You might want to increase the number of iterations. Fitting data with very small alpha may cause precision problems.\n",
      "  ConvergenceWarning)\n",
      "C:\\Users\\mengh\\Anaconda3\\envs\\python35\\lib\\site-packages\\sklearn\\linear_model\\coordinate_descent.py:492: ConvergenceWarning: Objective did not converge. You might want to increase the number of iterations. Fitting data with very small alpha may cause precision problems.\n",
      "  ConvergenceWarning)\n"
     ]
    },
    {
     "name": "stdout",
     "output_type": "stream",
     "text": [
      "DD change is 0.006823 and step is 68\n"
     ]
    },
    {
     "name": "stderr",
     "output_type": "stream",
     "text": [
      "C:\\Users\\mengh\\Anaconda3\\envs\\python35\\lib\\site-packages\\sklearn\\linear_model\\coordinate_descent.py:492: ConvergenceWarning: Objective did not converge. You might want to increase the number of iterations. Fitting data with very small alpha may cause precision problems.\n",
      "  ConvergenceWarning)\n",
      "C:\\Users\\mengh\\Anaconda3\\envs\\python35\\lib\\site-packages\\sklearn\\linear_model\\coordinate_descent.py:492: ConvergenceWarning: Objective did not converge. You might want to increase the number of iterations. Fitting data with very small alpha may cause precision problems.\n",
      "  ConvergenceWarning)\n",
      "C:\\Users\\mengh\\Anaconda3\\envs\\python35\\lib\\site-packages\\sklearn\\linear_model\\coordinate_descent.py:492: ConvergenceWarning: Objective did not converge. You might want to increase the number of iterations. Fitting data with very small alpha may cause precision problems.\n",
      "  ConvergenceWarning)\n",
      "C:\\Users\\mengh\\Anaconda3\\envs\\python35\\lib\\site-packages\\sklearn\\linear_model\\coordinate_descent.py:492: ConvergenceWarning: Objective did not converge. You might want to increase the number of iterations. Fitting data with very small alpha may cause precision problems.\n",
      "  ConvergenceWarning)\n"
     ]
    },
    {
     "name": "stdout",
     "output_type": "stream",
     "text": [
      "DD change is 0.006820 and step is 69\n"
     ]
    },
    {
     "name": "stderr",
     "output_type": "stream",
     "text": [
      "C:\\Users\\mengh\\Anaconda3\\envs\\python35\\lib\\site-packages\\sklearn\\linear_model\\coordinate_descent.py:492: ConvergenceWarning: Objective did not converge. You might want to increase the number of iterations. Fitting data with very small alpha may cause precision problems.\n",
      "  ConvergenceWarning)\n",
      "C:\\Users\\mengh\\Anaconda3\\envs\\python35\\lib\\site-packages\\sklearn\\linear_model\\coordinate_descent.py:492: ConvergenceWarning: Objective did not converge. You might want to increase the number of iterations. Fitting data with very small alpha may cause precision problems.\n",
      "  ConvergenceWarning)\n",
      "C:\\Users\\mengh\\Anaconda3\\envs\\python35\\lib\\site-packages\\sklearn\\linear_model\\coordinate_descent.py:492: ConvergenceWarning: Objective did not converge. You might want to increase the number of iterations. Fitting data with very small alpha may cause precision problems.\n",
      "  ConvergenceWarning)\n",
      "C:\\Users\\mengh\\Anaconda3\\envs\\python35\\lib\\site-packages\\sklearn\\linear_model\\coordinate_descent.py:492: ConvergenceWarning: Objective did not converge. You might want to increase the number of iterations. Fitting data with very small alpha may cause precision problems.\n",
      "  ConvergenceWarning)\n"
     ]
    },
    {
     "name": "stdout",
     "output_type": "stream",
     "text": [
      "DD change is 0.006816 and step is 70\n"
     ]
    },
    {
     "name": "stderr",
     "output_type": "stream",
     "text": [
      "C:\\Users\\mengh\\Anaconda3\\envs\\python35\\lib\\site-packages\\sklearn\\linear_model\\coordinate_descent.py:492: ConvergenceWarning: Objective did not converge. You might want to increase the number of iterations. Fitting data with very small alpha may cause precision problems.\n",
      "  ConvergenceWarning)\n",
      "C:\\Users\\mengh\\Anaconda3\\envs\\python35\\lib\\site-packages\\sklearn\\linear_model\\coordinate_descent.py:492: ConvergenceWarning: Objective did not converge. You might want to increase the number of iterations. Fitting data with very small alpha may cause precision problems.\n",
      "  ConvergenceWarning)\n",
      "C:\\Users\\mengh\\Anaconda3\\envs\\python35\\lib\\site-packages\\sklearn\\linear_model\\coordinate_descent.py:492: ConvergenceWarning: Objective did not converge. You might want to increase the number of iterations. Fitting data with very small alpha may cause precision problems.\n",
      "  ConvergenceWarning)\n",
      "C:\\Users\\mengh\\Anaconda3\\envs\\python35\\lib\\site-packages\\sklearn\\linear_model\\coordinate_descent.py:492: ConvergenceWarning: Objective did not converge. You might want to increase the number of iterations. Fitting data with very small alpha may cause precision problems.\n",
      "  ConvergenceWarning)\n"
     ]
    },
    {
     "name": "stdout",
     "output_type": "stream",
     "text": [
      "DD change is 0.006803 and step is 71\n"
     ]
    },
    {
     "name": "stderr",
     "output_type": "stream",
     "text": [
      "C:\\Users\\mengh\\Anaconda3\\envs\\python35\\lib\\site-packages\\sklearn\\linear_model\\coordinate_descent.py:492: ConvergenceWarning: Objective did not converge. You might want to increase the number of iterations. Fitting data with very small alpha may cause precision problems.\n",
      "  ConvergenceWarning)\n",
      "C:\\Users\\mengh\\Anaconda3\\envs\\python35\\lib\\site-packages\\sklearn\\linear_model\\coordinate_descent.py:492: ConvergenceWarning: Objective did not converge. You might want to increase the number of iterations. Fitting data with very small alpha may cause precision problems.\n",
      "  ConvergenceWarning)\n",
      "C:\\Users\\mengh\\Anaconda3\\envs\\python35\\lib\\site-packages\\sklearn\\linear_model\\coordinate_descent.py:492: ConvergenceWarning: Objective did not converge. You might want to increase the number of iterations. Fitting data with very small alpha may cause precision problems.\n",
      "  ConvergenceWarning)\n",
      "C:\\Users\\mengh\\Anaconda3\\envs\\python35\\lib\\site-packages\\sklearn\\linear_model\\coordinate_descent.py:492: ConvergenceWarning: Objective did not converge. You might want to increase the number of iterations. Fitting data with very small alpha may cause precision problems.\n",
      "  ConvergenceWarning)\n"
     ]
    },
    {
     "name": "stdout",
     "output_type": "stream",
     "text": [
      "DD change is 0.006783 and step is 72\n"
     ]
    },
    {
     "name": "stderr",
     "output_type": "stream",
     "text": [
      "C:\\Users\\mengh\\Anaconda3\\envs\\python35\\lib\\site-packages\\sklearn\\linear_model\\coordinate_descent.py:492: ConvergenceWarning: Objective did not converge. You might want to increase the number of iterations. Fitting data with very small alpha may cause precision problems.\n",
      "  ConvergenceWarning)\n",
      "C:\\Users\\mengh\\Anaconda3\\envs\\python35\\lib\\site-packages\\sklearn\\linear_model\\coordinate_descent.py:492: ConvergenceWarning: Objective did not converge. You might want to increase the number of iterations. Fitting data with very small alpha may cause precision problems.\n",
      "  ConvergenceWarning)\n",
      "C:\\Users\\mengh\\Anaconda3\\envs\\python35\\lib\\site-packages\\sklearn\\linear_model\\coordinate_descent.py:492: ConvergenceWarning: Objective did not converge. You might want to increase the number of iterations. Fitting data with very small alpha may cause precision problems.\n",
      "  ConvergenceWarning)\n",
      "C:\\Users\\mengh\\Anaconda3\\envs\\python35\\lib\\site-packages\\sklearn\\linear_model\\coordinate_descent.py:492: ConvergenceWarning: Objective did not converge. You might want to increase the number of iterations. Fitting data with very small alpha may cause precision problems.\n",
      "  ConvergenceWarning)\n"
     ]
    },
    {
     "name": "stdout",
     "output_type": "stream",
     "text": [
      "DD change is 0.006757 and step is 73\n"
     ]
    },
    {
     "name": "stderr",
     "output_type": "stream",
     "text": [
      "C:\\Users\\mengh\\Anaconda3\\envs\\python35\\lib\\site-packages\\sklearn\\linear_model\\coordinate_descent.py:492: ConvergenceWarning: Objective did not converge. You might want to increase the number of iterations. Fitting data with very small alpha may cause precision problems.\n",
      "  ConvergenceWarning)\n",
      "C:\\Users\\mengh\\Anaconda3\\envs\\python35\\lib\\site-packages\\sklearn\\linear_model\\coordinate_descent.py:492: ConvergenceWarning: Objective did not converge. You might want to increase the number of iterations. Fitting data with very small alpha may cause precision problems.\n",
      "  ConvergenceWarning)\n",
      "C:\\Users\\mengh\\Anaconda3\\envs\\python35\\lib\\site-packages\\sklearn\\linear_model\\coordinate_descent.py:492: ConvergenceWarning: Objective did not converge. You might want to increase the number of iterations. Fitting data with very small alpha may cause precision problems.\n",
      "  ConvergenceWarning)\n",
      "C:\\Users\\mengh\\Anaconda3\\envs\\python35\\lib\\site-packages\\sklearn\\linear_model\\coordinate_descent.py:492: ConvergenceWarning: Objective did not converge. You might want to increase the number of iterations. Fitting data with very small alpha may cause precision problems.\n",
      "  ConvergenceWarning)\n"
     ]
    },
    {
     "name": "stdout",
     "output_type": "stream",
     "text": [
      "DD change is 0.006728 and step is 74\n"
     ]
    },
    {
     "name": "stderr",
     "output_type": "stream",
     "text": [
      "C:\\Users\\mengh\\Anaconda3\\envs\\python35\\lib\\site-packages\\sklearn\\linear_model\\coordinate_descent.py:492: ConvergenceWarning: Objective did not converge. You might want to increase the number of iterations. Fitting data with very small alpha may cause precision problems.\n",
      "  ConvergenceWarning)\n",
      "C:\\Users\\mengh\\Anaconda3\\envs\\python35\\lib\\site-packages\\sklearn\\linear_model\\coordinate_descent.py:492: ConvergenceWarning: Objective did not converge. You might want to increase the number of iterations. Fitting data with very small alpha may cause precision problems.\n",
      "  ConvergenceWarning)\n",
      "C:\\Users\\mengh\\Anaconda3\\envs\\python35\\lib\\site-packages\\sklearn\\linear_model\\coordinate_descent.py:492: ConvergenceWarning: Objective did not converge. You might want to increase the number of iterations. Fitting data with very small alpha may cause precision problems.\n",
      "  ConvergenceWarning)\n",
      "C:\\Users\\mengh\\Anaconda3\\envs\\python35\\lib\\site-packages\\sklearn\\linear_model\\coordinate_descent.py:492: ConvergenceWarning: Objective did not converge. You might want to increase the number of iterations. Fitting data with very small alpha may cause precision problems.\n",
      "  ConvergenceWarning)\n"
     ]
    },
    {
     "name": "stdout",
     "output_type": "stream",
     "text": [
      "DD change is 0.006704 and step is 75\n"
     ]
    },
    {
     "name": "stderr",
     "output_type": "stream",
     "text": [
      "C:\\Users\\mengh\\Anaconda3\\envs\\python35\\lib\\site-packages\\sklearn\\linear_model\\coordinate_descent.py:492: ConvergenceWarning: Objective did not converge. You might want to increase the number of iterations. Fitting data with very small alpha may cause precision problems.\n",
      "  ConvergenceWarning)\n",
      "C:\\Users\\mengh\\Anaconda3\\envs\\python35\\lib\\site-packages\\sklearn\\linear_model\\coordinate_descent.py:492: ConvergenceWarning: Objective did not converge. You might want to increase the number of iterations. Fitting data with very small alpha may cause precision problems.\n",
      "  ConvergenceWarning)\n",
      "C:\\Users\\mengh\\Anaconda3\\envs\\python35\\lib\\site-packages\\sklearn\\linear_model\\coordinate_descent.py:492: ConvergenceWarning: Objective did not converge. You might want to increase the number of iterations. Fitting data with very small alpha may cause precision problems.\n",
      "  ConvergenceWarning)\n",
      "C:\\Users\\mengh\\Anaconda3\\envs\\python35\\lib\\site-packages\\sklearn\\linear_model\\coordinate_descent.py:492: ConvergenceWarning: Objective did not converge. You might want to increase the number of iterations. Fitting data with very small alpha may cause precision problems.\n",
      "  ConvergenceWarning)\n"
     ]
    },
    {
     "name": "stdout",
     "output_type": "stream",
     "text": [
      "DD change is 0.006677 and step is 76\n"
     ]
    },
    {
     "name": "stderr",
     "output_type": "stream",
     "text": [
      "C:\\Users\\mengh\\Anaconda3\\envs\\python35\\lib\\site-packages\\sklearn\\linear_model\\coordinate_descent.py:492: ConvergenceWarning: Objective did not converge. You might want to increase the number of iterations. Fitting data with very small alpha may cause precision problems.\n",
      "  ConvergenceWarning)\n",
      "C:\\Users\\mengh\\Anaconda3\\envs\\python35\\lib\\site-packages\\sklearn\\linear_model\\coordinate_descent.py:492: ConvergenceWarning: Objective did not converge. You might want to increase the number of iterations. Fitting data with very small alpha may cause precision problems.\n",
      "  ConvergenceWarning)\n",
      "C:\\Users\\mengh\\Anaconda3\\envs\\python35\\lib\\site-packages\\sklearn\\linear_model\\coordinate_descent.py:492: ConvergenceWarning: Objective did not converge. You might want to increase the number of iterations. Fitting data with very small alpha may cause precision problems.\n",
      "  ConvergenceWarning)\n",
      "C:\\Users\\mengh\\Anaconda3\\envs\\python35\\lib\\site-packages\\sklearn\\linear_model\\coordinate_descent.py:492: ConvergenceWarning: Objective did not converge. You might want to increase the number of iterations. Fitting data with very small alpha may cause precision problems.\n",
      "  ConvergenceWarning)\n"
     ]
    },
    {
     "name": "stdout",
     "output_type": "stream",
     "text": [
      "DD change is 0.006659 and step is 77\n"
     ]
    },
    {
     "name": "stderr",
     "output_type": "stream",
     "text": [
      "C:\\Users\\mengh\\Anaconda3\\envs\\python35\\lib\\site-packages\\sklearn\\linear_model\\coordinate_descent.py:492: ConvergenceWarning: Objective did not converge. You might want to increase the number of iterations. Fitting data with very small alpha may cause precision problems.\n",
      "  ConvergenceWarning)\n",
      "C:\\Users\\mengh\\Anaconda3\\envs\\python35\\lib\\site-packages\\sklearn\\linear_model\\coordinate_descent.py:492: ConvergenceWarning: Objective did not converge. You might want to increase the number of iterations. Fitting data with very small alpha may cause precision problems.\n",
      "  ConvergenceWarning)\n",
      "C:\\Users\\mengh\\Anaconda3\\envs\\python35\\lib\\site-packages\\sklearn\\linear_model\\coordinate_descent.py:492: ConvergenceWarning: Objective did not converge. You might want to increase the number of iterations. Fitting data with very small alpha may cause precision problems.\n",
      "  ConvergenceWarning)\n",
      "C:\\Users\\mengh\\Anaconda3\\envs\\python35\\lib\\site-packages\\sklearn\\linear_model\\coordinate_descent.py:492: ConvergenceWarning: Objective did not converge. You might want to increase the number of iterations. Fitting data with very small alpha may cause precision problems.\n",
      "  ConvergenceWarning)\n"
     ]
    },
    {
     "name": "stdout",
     "output_type": "stream",
     "text": [
      "DD change is 0.006629 and step is 78\n"
     ]
    },
    {
     "name": "stderr",
     "output_type": "stream",
     "text": [
      "C:\\Users\\mengh\\Anaconda3\\envs\\python35\\lib\\site-packages\\sklearn\\linear_model\\coordinate_descent.py:492: ConvergenceWarning: Objective did not converge. You might want to increase the number of iterations. Fitting data with very small alpha may cause precision problems.\n",
      "  ConvergenceWarning)\n",
      "C:\\Users\\mengh\\Anaconda3\\envs\\python35\\lib\\site-packages\\sklearn\\linear_model\\coordinate_descent.py:492: ConvergenceWarning: Objective did not converge. You might want to increase the number of iterations. Fitting data with very small alpha may cause precision problems.\n",
      "  ConvergenceWarning)\n",
      "C:\\Users\\mengh\\Anaconda3\\envs\\python35\\lib\\site-packages\\sklearn\\linear_model\\coordinate_descent.py:492: ConvergenceWarning: Objective did not converge. You might want to increase the number of iterations. Fitting data with very small alpha may cause precision problems.\n",
      "  ConvergenceWarning)\n",
      "C:\\Users\\mengh\\Anaconda3\\envs\\python35\\lib\\site-packages\\sklearn\\linear_model\\coordinate_descent.py:492: ConvergenceWarning: Objective did not converge. You might want to increase the number of iterations. Fitting data with very small alpha may cause precision problems.\n",
      "  ConvergenceWarning)\n"
     ]
    },
    {
     "name": "stdout",
     "output_type": "stream",
     "text": [
      "DD change is 0.006600 and step is 79\n"
     ]
    },
    {
     "name": "stderr",
     "output_type": "stream",
     "text": [
      "C:\\Users\\mengh\\Anaconda3\\envs\\python35\\lib\\site-packages\\sklearn\\linear_model\\coordinate_descent.py:492: ConvergenceWarning: Objective did not converge. You might want to increase the number of iterations. Fitting data with very small alpha may cause precision problems.\n",
      "  ConvergenceWarning)\n",
      "C:\\Users\\mengh\\Anaconda3\\envs\\python35\\lib\\site-packages\\sklearn\\linear_model\\coordinate_descent.py:492: ConvergenceWarning: Objective did not converge. You might want to increase the number of iterations. Fitting data with very small alpha may cause precision problems.\n",
      "  ConvergenceWarning)\n",
      "C:\\Users\\mengh\\Anaconda3\\envs\\python35\\lib\\site-packages\\sklearn\\linear_model\\coordinate_descent.py:492: ConvergenceWarning: Objective did not converge. You might want to increase the number of iterations. Fitting data with very small alpha may cause precision problems.\n",
      "  ConvergenceWarning)\n",
      "C:\\Users\\mengh\\Anaconda3\\envs\\python35\\lib\\site-packages\\sklearn\\linear_model\\coordinate_descent.py:492: ConvergenceWarning: Objective did not converge. You might want to increase the number of iterations. Fitting data with very small alpha may cause precision problems.\n",
      "  ConvergenceWarning)\n"
     ]
    },
    {
     "name": "stdout",
     "output_type": "stream",
     "text": [
      "DD change is 0.006573 and step is 80\n"
     ]
    },
    {
     "name": "stderr",
     "output_type": "stream",
     "text": [
      "C:\\Users\\mengh\\Anaconda3\\envs\\python35\\lib\\site-packages\\sklearn\\linear_model\\coordinate_descent.py:492: ConvergenceWarning: Objective did not converge. You might want to increase the number of iterations. Fitting data with very small alpha may cause precision problems.\n",
      "  ConvergenceWarning)\n",
      "C:\\Users\\mengh\\Anaconda3\\envs\\python35\\lib\\site-packages\\sklearn\\linear_model\\coordinate_descent.py:492: ConvergenceWarning: Objective did not converge. You might want to increase the number of iterations. Fitting data with very small alpha may cause precision problems.\n",
      "  ConvergenceWarning)\n",
      "C:\\Users\\mengh\\Anaconda3\\envs\\python35\\lib\\site-packages\\sklearn\\linear_model\\coordinate_descent.py:492: ConvergenceWarning: Objective did not converge. You might want to increase the number of iterations. Fitting data with very small alpha may cause precision problems.\n",
      "  ConvergenceWarning)\n",
      "C:\\Users\\mengh\\Anaconda3\\envs\\python35\\lib\\site-packages\\sklearn\\linear_model\\coordinate_descent.py:492: ConvergenceWarning: Objective did not converge. You might want to increase the number of iterations. Fitting data with very small alpha may cause precision problems.\n",
      "  ConvergenceWarning)\n"
     ]
    },
    {
     "name": "stdout",
     "output_type": "stream",
     "text": [
      "DD change is 0.006555 and step is 81\n"
     ]
    },
    {
     "name": "stderr",
     "output_type": "stream",
     "text": [
      "C:\\Users\\mengh\\Anaconda3\\envs\\python35\\lib\\site-packages\\sklearn\\linear_model\\coordinate_descent.py:492: ConvergenceWarning: Objective did not converge. You might want to increase the number of iterations. Fitting data with very small alpha may cause precision problems.\n",
      "  ConvergenceWarning)\n",
      "C:\\Users\\mengh\\Anaconda3\\envs\\python35\\lib\\site-packages\\sklearn\\linear_model\\coordinate_descent.py:492: ConvergenceWarning: Objective did not converge. You might want to increase the number of iterations. Fitting data with very small alpha may cause precision problems.\n",
      "  ConvergenceWarning)\n",
      "C:\\Users\\mengh\\Anaconda3\\envs\\python35\\lib\\site-packages\\sklearn\\linear_model\\coordinate_descent.py:492: ConvergenceWarning: Objective did not converge. You might want to increase the number of iterations. Fitting data with very small alpha may cause precision problems.\n",
      "  ConvergenceWarning)\n",
      "C:\\Users\\mengh\\Anaconda3\\envs\\python35\\lib\\site-packages\\sklearn\\linear_model\\coordinate_descent.py:492: ConvergenceWarning: Objective did not converge. You might want to increase the number of iterations. Fitting data with very small alpha may cause precision problems.\n",
      "  ConvergenceWarning)\n"
     ]
    },
    {
     "name": "stdout",
     "output_type": "stream",
     "text": [
      "DD change is 0.006544 and step is 82\n"
     ]
    },
    {
     "name": "stderr",
     "output_type": "stream",
     "text": [
      "C:\\Users\\mengh\\Anaconda3\\envs\\python35\\lib\\site-packages\\sklearn\\linear_model\\coordinate_descent.py:492: ConvergenceWarning: Objective did not converge. You might want to increase the number of iterations. Fitting data with very small alpha may cause precision problems.\n",
      "  ConvergenceWarning)\n",
      "C:\\Users\\mengh\\Anaconda3\\envs\\python35\\lib\\site-packages\\sklearn\\linear_model\\coordinate_descent.py:492: ConvergenceWarning: Objective did not converge. You might want to increase the number of iterations. Fitting data with very small alpha may cause precision problems.\n",
      "  ConvergenceWarning)\n",
      "C:\\Users\\mengh\\Anaconda3\\envs\\python35\\lib\\site-packages\\sklearn\\linear_model\\coordinate_descent.py:492: ConvergenceWarning: Objective did not converge. You might want to increase the number of iterations. Fitting data with very small alpha may cause precision problems.\n",
      "  ConvergenceWarning)\n",
      "C:\\Users\\mengh\\Anaconda3\\envs\\python35\\lib\\site-packages\\sklearn\\linear_model\\coordinate_descent.py:492: ConvergenceWarning: Objective did not converge. You might want to increase the number of iterations. Fitting data with very small alpha may cause precision problems.\n",
      "  ConvergenceWarning)\n"
     ]
    },
    {
     "name": "stdout",
     "output_type": "stream",
     "text": [
      "DD change is 0.006539 and step is 83\n"
     ]
    },
    {
     "name": "stderr",
     "output_type": "stream",
     "text": [
      "C:\\Users\\mengh\\Anaconda3\\envs\\python35\\lib\\site-packages\\sklearn\\linear_model\\coordinate_descent.py:492: ConvergenceWarning: Objective did not converge. You might want to increase the number of iterations. Fitting data with very small alpha may cause precision problems.\n",
      "  ConvergenceWarning)\n",
      "C:\\Users\\mengh\\Anaconda3\\envs\\python35\\lib\\site-packages\\sklearn\\linear_model\\coordinate_descent.py:492: ConvergenceWarning: Objective did not converge. You might want to increase the number of iterations. Fitting data with very small alpha may cause precision problems.\n",
      "  ConvergenceWarning)\n",
      "C:\\Users\\mengh\\Anaconda3\\envs\\python35\\lib\\site-packages\\sklearn\\linear_model\\coordinate_descent.py:492: ConvergenceWarning: Objective did not converge. You might want to increase the number of iterations. Fitting data with very small alpha may cause precision problems.\n",
      "  ConvergenceWarning)\n",
      "C:\\Users\\mengh\\Anaconda3\\envs\\python35\\lib\\site-packages\\sklearn\\linear_model\\coordinate_descent.py:492: ConvergenceWarning: Objective did not converge. You might want to increase the number of iterations. Fitting data with very small alpha may cause precision problems.\n",
      "  ConvergenceWarning)\n"
     ]
    },
    {
     "name": "stdout",
     "output_type": "stream",
     "text": [
      "DD change is 0.006536 and step is 84\n"
     ]
    },
    {
     "name": "stderr",
     "output_type": "stream",
     "text": [
      "C:\\Users\\mengh\\Anaconda3\\envs\\python35\\lib\\site-packages\\sklearn\\linear_model\\coordinate_descent.py:492: ConvergenceWarning: Objective did not converge. You might want to increase the number of iterations. Fitting data with very small alpha may cause precision problems.\n",
      "  ConvergenceWarning)\n",
      "C:\\Users\\mengh\\Anaconda3\\envs\\python35\\lib\\site-packages\\sklearn\\linear_model\\coordinate_descent.py:492: ConvergenceWarning: Objective did not converge. You might want to increase the number of iterations. Fitting data with very small alpha may cause precision problems.\n",
      "  ConvergenceWarning)\n",
      "C:\\Users\\mengh\\Anaconda3\\envs\\python35\\lib\\site-packages\\sklearn\\linear_model\\coordinate_descent.py:492: ConvergenceWarning: Objective did not converge. You might want to increase the number of iterations. Fitting data with very small alpha may cause precision problems.\n",
      "  ConvergenceWarning)\n",
      "C:\\Users\\mengh\\Anaconda3\\envs\\python35\\lib\\site-packages\\sklearn\\linear_model\\coordinate_descent.py:492: ConvergenceWarning: Objective did not converge. You might want to increase the number of iterations. Fitting data with very small alpha may cause precision problems.\n",
      "  ConvergenceWarning)\n"
     ]
    },
    {
     "name": "stdout",
     "output_type": "stream",
     "text": [
      "DD change is 0.006532 and step is 85\n"
     ]
    },
    {
     "name": "stderr",
     "output_type": "stream",
     "text": [
      "C:\\Users\\mengh\\Anaconda3\\envs\\python35\\lib\\site-packages\\sklearn\\linear_model\\coordinate_descent.py:492: ConvergenceWarning: Objective did not converge. You might want to increase the number of iterations. Fitting data with very small alpha may cause precision problems.\n",
      "  ConvergenceWarning)\n",
      "C:\\Users\\mengh\\Anaconda3\\envs\\python35\\lib\\site-packages\\sklearn\\linear_model\\coordinate_descent.py:492: ConvergenceWarning: Objective did not converge. You might want to increase the number of iterations. Fitting data with very small alpha may cause precision problems.\n",
      "  ConvergenceWarning)\n",
      "C:\\Users\\mengh\\Anaconda3\\envs\\python35\\lib\\site-packages\\sklearn\\linear_model\\coordinate_descent.py:492: ConvergenceWarning: Objective did not converge. You might want to increase the number of iterations. Fitting data with very small alpha may cause precision problems.\n",
      "  ConvergenceWarning)\n",
      "C:\\Users\\mengh\\Anaconda3\\envs\\python35\\lib\\site-packages\\sklearn\\linear_model\\coordinate_descent.py:492: ConvergenceWarning: Objective did not converge. You might want to increase the number of iterations. Fitting data with very small alpha may cause precision problems.\n",
      "  ConvergenceWarning)\n"
     ]
    },
    {
     "name": "stdout",
     "output_type": "stream",
     "text": [
      "DD change is 0.006527 and step is 86\n"
     ]
    },
    {
     "name": "stderr",
     "output_type": "stream",
     "text": [
      "C:\\Users\\mengh\\Anaconda3\\envs\\python35\\lib\\site-packages\\sklearn\\linear_model\\coordinate_descent.py:492: ConvergenceWarning: Objective did not converge. You might want to increase the number of iterations. Fitting data with very small alpha may cause precision problems.\n",
      "  ConvergenceWarning)\n",
      "C:\\Users\\mengh\\Anaconda3\\envs\\python35\\lib\\site-packages\\sklearn\\linear_model\\coordinate_descent.py:492: ConvergenceWarning: Objective did not converge. You might want to increase the number of iterations. Fitting data with very small alpha may cause precision problems.\n",
      "  ConvergenceWarning)\n",
      "C:\\Users\\mengh\\Anaconda3\\envs\\python35\\lib\\site-packages\\sklearn\\linear_model\\coordinate_descent.py:492: ConvergenceWarning: Objective did not converge. You might want to increase the number of iterations. Fitting data with very small alpha may cause precision problems.\n",
      "  ConvergenceWarning)\n",
      "C:\\Users\\mengh\\Anaconda3\\envs\\python35\\lib\\site-packages\\sklearn\\linear_model\\coordinate_descent.py:492: ConvergenceWarning: Objective did not converge. You might want to increase the number of iterations. Fitting data with very small alpha may cause precision problems.\n",
      "  ConvergenceWarning)\n"
     ]
    },
    {
     "name": "stdout",
     "output_type": "stream",
     "text": [
      "DD change is 0.006510 and step is 87\n"
     ]
    },
    {
     "name": "stderr",
     "output_type": "stream",
     "text": [
      "C:\\Users\\mengh\\Anaconda3\\envs\\python35\\lib\\site-packages\\sklearn\\linear_model\\coordinate_descent.py:492: ConvergenceWarning: Objective did not converge. You might want to increase the number of iterations. Fitting data with very small alpha may cause precision problems.\n",
      "  ConvergenceWarning)\n",
      "C:\\Users\\mengh\\Anaconda3\\envs\\python35\\lib\\site-packages\\sklearn\\linear_model\\coordinate_descent.py:492: ConvergenceWarning: Objective did not converge. You might want to increase the number of iterations. Fitting data with very small alpha may cause precision problems.\n",
      "  ConvergenceWarning)\n",
      "C:\\Users\\mengh\\Anaconda3\\envs\\python35\\lib\\site-packages\\sklearn\\linear_model\\coordinate_descent.py:492: ConvergenceWarning: Objective did not converge. You might want to increase the number of iterations. Fitting data with very small alpha may cause precision problems.\n",
      "  ConvergenceWarning)\n",
      "C:\\Users\\mengh\\Anaconda3\\envs\\python35\\lib\\site-packages\\sklearn\\linear_model\\coordinate_descent.py:492: ConvergenceWarning: Objective did not converge. You might want to increase the number of iterations. Fitting data with very small alpha may cause precision problems.\n",
      "  ConvergenceWarning)\n"
     ]
    },
    {
     "name": "stdout",
     "output_type": "stream",
     "text": [
      "DD change is 0.006478 and step is 88\n"
     ]
    },
    {
     "name": "stderr",
     "output_type": "stream",
     "text": [
      "C:\\Users\\mengh\\Anaconda3\\envs\\python35\\lib\\site-packages\\sklearn\\linear_model\\coordinate_descent.py:492: ConvergenceWarning: Objective did not converge. You might want to increase the number of iterations. Fitting data with very small alpha may cause precision problems.\n",
      "  ConvergenceWarning)\n",
      "C:\\Users\\mengh\\Anaconda3\\envs\\python35\\lib\\site-packages\\sklearn\\linear_model\\coordinate_descent.py:492: ConvergenceWarning: Objective did not converge. You might want to increase the number of iterations. Fitting data with very small alpha may cause precision problems.\n",
      "  ConvergenceWarning)\n",
      "C:\\Users\\mengh\\Anaconda3\\envs\\python35\\lib\\site-packages\\sklearn\\linear_model\\coordinate_descent.py:492: ConvergenceWarning: Objective did not converge. You might want to increase the number of iterations. Fitting data with very small alpha may cause precision problems.\n",
      "  ConvergenceWarning)\n",
      "C:\\Users\\mengh\\Anaconda3\\envs\\python35\\lib\\site-packages\\sklearn\\linear_model\\coordinate_descent.py:492: ConvergenceWarning: Objective did not converge. You might want to increase the number of iterations. Fitting data with very small alpha may cause precision problems.\n",
      "  ConvergenceWarning)\n"
     ]
    },
    {
     "name": "stdout",
     "output_type": "stream",
     "text": [
      "DD change is 0.006448 and step is 89\n"
     ]
    },
    {
     "name": "stderr",
     "output_type": "stream",
     "text": [
      "C:\\Users\\mengh\\Anaconda3\\envs\\python35\\lib\\site-packages\\sklearn\\linear_model\\coordinate_descent.py:492: ConvergenceWarning: Objective did not converge. You might want to increase the number of iterations. Fitting data with very small alpha may cause precision problems.\n",
      "  ConvergenceWarning)\n",
      "C:\\Users\\mengh\\Anaconda3\\envs\\python35\\lib\\site-packages\\sklearn\\linear_model\\coordinate_descent.py:492: ConvergenceWarning: Objective did not converge. You might want to increase the number of iterations. Fitting data with very small alpha may cause precision problems.\n",
      "  ConvergenceWarning)\n",
      "C:\\Users\\mengh\\Anaconda3\\envs\\python35\\lib\\site-packages\\sklearn\\linear_model\\coordinate_descent.py:492: ConvergenceWarning: Objective did not converge. You might want to increase the number of iterations. Fitting data with very small alpha may cause precision problems.\n",
      "  ConvergenceWarning)\n",
      "C:\\Users\\mengh\\Anaconda3\\envs\\python35\\lib\\site-packages\\sklearn\\linear_model\\coordinate_descent.py:492: ConvergenceWarning: Objective did not converge. You might want to increase the number of iterations. Fitting data with very small alpha may cause precision problems.\n",
      "  ConvergenceWarning)\n"
     ]
    },
    {
     "name": "stdout",
     "output_type": "stream",
     "text": [
      "DD change is 0.006421 and step is 90\n"
     ]
    },
    {
     "name": "stderr",
     "output_type": "stream",
     "text": [
      "C:\\Users\\mengh\\Anaconda3\\envs\\python35\\lib\\site-packages\\sklearn\\linear_model\\coordinate_descent.py:492: ConvergenceWarning: Objective did not converge. You might want to increase the number of iterations. Fitting data with very small alpha may cause precision problems.\n",
      "  ConvergenceWarning)\n",
      "C:\\Users\\mengh\\Anaconda3\\envs\\python35\\lib\\site-packages\\sklearn\\linear_model\\coordinate_descent.py:492: ConvergenceWarning: Objective did not converge. You might want to increase the number of iterations. Fitting data with very small alpha may cause precision problems.\n",
      "  ConvergenceWarning)\n",
      "C:\\Users\\mengh\\Anaconda3\\envs\\python35\\lib\\site-packages\\sklearn\\linear_model\\coordinate_descent.py:492: ConvergenceWarning: Objective did not converge. You might want to increase the number of iterations. Fitting data with very small alpha may cause precision problems.\n",
      "  ConvergenceWarning)\n",
      "C:\\Users\\mengh\\Anaconda3\\envs\\python35\\lib\\site-packages\\sklearn\\linear_model\\coordinate_descent.py:492: ConvergenceWarning: Objective did not converge. You might want to increase the number of iterations. Fitting data with very small alpha may cause precision problems.\n",
      "  ConvergenceWarning)\n"
     ]
    },
    {
     "name": "stdout",
     "output_type": "stream",
     "text": [
      "DD change is 0.006400 and step is 91\n"
     ]
    },
    {
     "name": "stderr",
     "output_type": "stream",
     "text": [
      "C:\\Users\\mengh\\Anaconda3\\envs\\python35\\lib\\site-packages\\sklearn\\linear_model\\coordinate_descent.py:492: ConvergenceWarning: Objective did not converge. You might want to increase the number of iterations. Fitting data with very small alpha may cause precision problems.\n",
      "  ConvergenceWarning)\n",
      "C:\\Users\\mengh\\Anaconda3\\envs\\python35\\lib\\site-packages\\sklearn\\linear_model\\coordinate_descent.py:492: ConvergenceWarning: Objective did not converge. You might want to increase the number of iterations. Fitting data with very small alpha may cause precision problems.\n",
      "  ConvergenceWarning)\n",
      "C:\\Users\\mengh\\Anaconda3\\envs\\python35\\lib\\site-packages\\sklearn\\linear_model\\coordinate_descent.py:492: ConvergenceWarning: Objective did not converge. You might want to increase the number of iterations. Fitting data with very small alpha may cause precision problems.\n",
      "  ConvergenceWarning)\n",
      "C:\\Users\\mengh\\Anaconda3\\envs\\python35\\lib\\site-packages\\sklearn\\linear_model\\coordinate_descent.py:492: ConvergenceWarning: Objective did not converge. You might want to increase the number of iterations. Fitting data with very small alpha may cause precision problems.\n",
      "  ConvergenceWarning)\n"
     ]
    },
    {
     "name": "stdout",
     "output_type": "stream",
     "text": [
      "DD change is 0.006381 and step is 92\n"
     ]
    },
    {
     "name": "stderr",
     "output_type": "stream",
     "text": [
      "C:\\Users\\mengh\\Anaconda3\\envs\\python35\\lib\\site-packages\\sklearn\\linear_model\\coordinate_descent.py:492: ConvergenceWarning: Objective did not converge. You might want to increase the number of iterations. Fitting data with very small alpha may cause precision problems.\n",
      "  ConvergenceWarning)\n",
      "C:\\Users\\mengh\\Anaconda3\\envs\\python35\\lib\\site-packages\\sklearn\\linear_model\\coordinate_descent.py:492: ConvergenceWarning: Objective did not converge. You might want to increase the number of iterations. Fitting data with very small alpha may cause precision problems.\n",
      "  ConvergenceWarning)\n",
      "C:\\Users\\mengh\\Anaconda3\\envs\\python35\\lib\\site-packages\\sklearn\\linear_model\\coordinate_descent.py:492: ConvergenceWarning: Objective did not converge. You might want to increase the number of iterations. Fitting data with very small alpha may cause precision problems.\n",
      "  ConvergenceWarning)\n",
      "C:\\Users\\mengh\\Anaconda3\\envs\\python35\\lib\\site-packages\\sklearn\\linear_model\\coordinate_descent.py:492: ConvergenceWarning: Objective did not converge. You might want to increase the number of iterations. Fitting data with very small alpha may cause precision problems.\n",
      "  ConvergenceWarning)\n"
     ]
    },
    {
     "name": "stdout",
     "output_type": "stream",
     "text": [
      "DD change is 0.006370 and step is 93\n"
     ]
    },
    {
     "name": "stderr",
     "output_type": "stream",
     "text": [
      "C:\\Users\\mengh\\Anaconda3\\envs\\python35\\lib\\site-packages\\sklearn\\linear_model\\coordinate_descent.py:492: ConvergenceWarning: Objective did not converge. You might want to increase the number of iterations. Fitting data with very small alpha may cause precision problems.\n",
      "  ConvergenceWarning)\n",
      "C:\\Users\\mengh\\Anaconda3\\envs\\python35\\lib\\site-packages\\sklearn\\linear_model\\coordinate_descent.py:492: ConvergenceWarning: Objective did not converge. You might want to increase the number of iterations. Fitting data with very small alpha may cause precision problems.\n",
      "  ConvergenceWarning)\n",
      "C:\\Users\\mengh\\Anaconda3\\envs\\python35\\lib\\site-packages\\sklearn\\linear_model\\coordinate_descent.py:492: ConvergenceWarning: Objective did not converge. You might want to increase the number of iterations. Fitting data with very small alpha may cause precision problems.\n",
      "  ConvergenceWarning)\n",
      "C:\\Users\\mengh\\Anaconda3\\envs\\python35\\lib\\site-packages\\sklearn\\linear_model\\coordinate_descent.py:492: ConvergenceWarning: Objective did not converge. You might want to increase the number of iterations. Fitting data with very small alpha may cause precision problems.\n",
      "  ConvergenceWarning)\n"
     ]
    },
    {
     "name": "stdout",
     "output_type": "stream",
     "text": [
      "DD change is 0.006356 and step is 94\n"
     ]
    },
    {
     "name": "stderr",
     "output_type": "stream",
     "text": [
      "C:\\Users\\mengh\\Anaconda3\\envs\\python35\\lib\\site-packages\\sklearn\\linear_model\\coordinate_descent.py:492: ConvergenceWarning: Objective did not converge. You might want to increase the number of iterations. Fitting data with very small alpha may cause precision problems.\n",
      "  ConvergenceWarning)\n",
      "C:\\Users\\mengh\\Anaconda3\\envs\\python35\\lib\\site-packages\\sklearn\\linear_model\\coordinate_descent.py:492: ConvergenceWarning: Objective did not converge. You might want to increase the number of iterations. Fitting data with very small alpha may cause precision problems.\n",
      "  ConvergenceWarning)\n",
      "C:\\Users\\mengh\\Anaconda3\\envs\\python35\\lib\\site-packages\\sklearn\\linear_model\\coordinate_descent.py:492: ConvergenceWarning: Objective did not converge. You might want to increase the number of iterations. Fitting data with very small alpha may cause precision problems.\n",
      "  ConvergenceWarning)\n",
      "C:\\Users\\mengh\\Anaconda3\\envs\\python35\\lib\\site-packages\\sklearn\\linear_model\\coordinate_descent.py:492: ConvergenceWarning: Objective did not converge. You might want to increase the number of iterations. Fitting data with very small alpha may cause precision problems.\n",
      "  ConvergenceWarning)\n"
     ]
    },
    {
     "name": "stdout",
     "output_type": "stream",
     "text": [
      "DD change is 0.006339 and step is 95\n"
     ]
    },
    {
     "name": "stderr",
     "output_type": "stream",
     "text": [
      "C:\\Users\\mengh\\Anaconda3\\envs\\python35\\lib\\site-packages\\sklearn\\linear_model\\coordinate_descent.py:492: ConvergenceWarning: Objective did not converge. You might want to increase the number of iterations. Fitting data with very small alpha may cause precision problems.\n",
      "  ConvergenceWarning)\n",
      "C:\\Users\\mengh\\Anaconda3\\envs\\python35\\lib\\site-packages\\sklearn\\linear_model\\coordinate_descent.py:492: ConvergenceWarning: Objective did not converge. You might want to increase the number of iterations. Fitting data with very small alpha may cause precision problems.\n",
      "  ConvergenceWarning)\n",
      "C:\\Users\\mengh\\Anaconda3\\envs\\python35\\lib\\site-packages\\sklearn\\linear_model\\coordinate_descent.py:492: ConvergenceWarning: Objective did not converge. You might want to increase the number of iterations. Fitting data with very small alpha may cause precision problems.\n",
      "  ConvergenceWarning)\n",
      "C:\\Users\\mengh\\Anaconda3\\envs\\python35\\lib\\site-packages\\sklearn\\linear_model\\coordinate_descent.py:492: ConvergenceWarning: Objective did not converge. You might want to increase the number of iterations. Fitting data with very small alpha may cause precision problems.\n",
      "  ConvergenceWarning)\n"
     ]
    },
    {
     "name": "stdout",
     "output_type": "stream",
     "text": [
      "DD change is 0.006327 and step is 96\n"
     ]
    },
    {
     "name": "stderr",
     "output_type": "stream",
     "text": [
      "C:\\Users\\mengh\\Anaconda3\\envs\\python35\\lib\\site-packages\\sklearn\\linear_model\\coordinate_descent.py:492: ConvergenceWarning: Objective did not converge. You might want to increase the number of iterations. Fitting data with very small alpha may cause precision problems.\n",
      "  ConvergenceWarning)\n",
      "C:\\Users\\mengh\\Anaconda3\\envs\\python35\\lib\\site-packages\\sklearn\\linear_model\\coordinate_descent.py:492: ConvergenceWarning: Objective did not converge. You might want to increase the number of iterations. Fitting data with very small alpha may cause precision problems.\n",
      "  ConvergenceWarning)\n",
      "C:\\Users\\mengh\\Anaconda3\\envs\\python35\\lib\\site-packages\\sklearn\\linear_model\\coordinate_descent.py:492: ConvergenceWarning: Objective did not converge. You might want to increase the number of iterations. Fitting data with very small alpha may cause precision problems.\n",
      "  ConvergenceWarning)\n",
      "C:\\Users\\mengh\\Anaconda3\\envs\\python35\\lib\\site-packages\\sklearn\\linear_model\\coordinate_descent.py:492: ConvergenceWarning: Objective did not converge. You might want to increase the number of iterations. Fitting data with very small alpha may cause precision problems.\n",
      "  ConvergenceWarning)\n"
     ]
    },
    {
     "name": "stdout",
     "output_type": "stream",
     "text": [
      "DD change is 0.006315 and step is 97\n"
     ]
    },
    {
     "name": "stderr",
     "output_type": "stream",
     "text": [
      "C:\\Users\\mengh\\Anaconda3\\envs\\python35\\lib\\site-packages\\sklearn\\linear_model\\coordinate_descent.py:492: ConvergenceWarning: Objective did not converge. You might want to increase the number of iterations. Fitting data with very small alpha may cause precision problems.\n",
      "  ConvergenceWarning)\n",
      "C:\\Users\\mengh\\Anaconda3\\envs\\python35\\lib\\site-packages\\sklearn\\linear_model\\coordinate_descent.py:492: ConvergenceWarning: Objective did not converge. You might want to increase the number of iterations. Fitting data with very small alpha may cause precision problems.\n",
      "  ConvergenceWarning)\n",
      "C:\\Users\\mengh\\Anaconda3\\envs\\python35\\lib\\site-packages\\sklearn\\linear_model\\coordinate_descent.py:492: ConvergenceWarning: Objective did not converge. You might want to increase the number of iterations. Fitting data with very small alpha may cause precision problems.\n",
      "  ConvergenceWarning)\n",
      "C:\\Users\\mengh\\Anaconda3\\envs\\python35\\lib\\site-packages\\sklearn\\linear_model\\coordinate_descent.py:492: ConvergenceWarning: Objective did not converge. You might want to increase the number of iterations. Fitting data with very small alpha may cause precision problems.\n",
      "  ConvergenceWarning)\n"
     ]
    },
    {
     "name": "stdout",
     "output_type": "stream",
     "text": [
      "DD change is 0.006304 and step is 98\n"
     ]
    },
    {
     "name": "stderr",
     "output_type": "stream",
     "text": [
      "C:\\Users\\mengh\\Anaconda3\\envs\\python35\\lib\\site-packages\\sklearn\\linear_model\\coordinate_descent.py:492: ConvergenceWarning: Objective did not converge. You might want to increase the number of iterations. Fitting data with very small alpha may cause precision problems.\n",
      "  ConvergenceWarning)\n",
      "C:\\Users\\mengh\\Anaconda3\\envs\\python35\\lib\\site-packages\\sklearn\\linear_model\\coordinate_descent.py:492: ConvergenceWarning: Objective did not converge. You might want to increase the number of iterations. Fitting data with very small alpha may cause precision problems.\n",
      "  ConvergenceWarning)\n",
      "C:\\Users\\mengh\\Anaconda3\\envs\\python35\\lib\\site-packages\\sklearn\\linear_model\\coordinate_descent.py:492: ConvergenceWarning: Objective did not converge. You might want to increase the number of iterations. Fitting data with very small alpha may cause precision problems.\n",
      "  ConvergenceWarning)\n",
      "C:\\Users\\mengh\\Anaconda3\\envs\\python35\\lib\\site-packages\\sklearn\\linear_model\\coordinate_descent.py:492: ConvergenceWarning: Objective did not converge. You might want to increase the number of iterations. Fitting data with very small alpha may cause precision problems.\n",
      "  ConvergenceWarning)\n"
     ]
    },
    {
     "name": "stdout",
     "output_type": "stream",
     "text": [
      "DD change is 0.006293 and step is 99\n"
     ]
    },
    {
     "name": "stderr",
     "output_type": "stream",
     "text": [
      "C:\\Users\\mengh\\Anaconda3\\envs\\python35\\lib\\site-packages\\sklearn\\linear_model\\coordinate_descent.py:492: ConvergenceWarning: Objective did not converge. You might want to increase the number of iterations. Fitting data with very small alpha may cause precision problems.\n",
      "  ConvergenceWarning)\n",
      "C:\\Users\\mengh\\Anaconda3\\envs\\python35\\lib\\site-packages\\sklearn\\linear_model\\coordinate_descent.py:492: ConvergenceWarning: Objective did not converge. You might want to increase the number of iterations. Fitting data with very small alpha may cause precision problems.\n",
      "  ConvergenceWarning)\n",
      "C:\\Users\\mengh\\Anaconda3\\envs\\python35\\lib\\site-packages\\sklearn\\linear_model\\coordinate_descent.py:492: ConvergenceWarning: Objective did not converge. You might want to increase the number of iterations. Fitting data with very small alpha may cause precision problems.\n",
      "  ConvergenceWarning)\n",
      "C:\\Users\\mengh\\Anaconda3\\envs\\python35\\lib\\site-packages\\sklearn\\linear_model\\coordinate_descent.py:492: ConvergenceWarning: Objective did not converge. You might want to increase the number of iterations. Fitting data with very small alpha may cause precision problems.\n",
      "  ConvergenceWarning)\n"
     ]
    },
    {
     "name": "stdout",
     "output_type": "stream",
     "text": [
      "DD change is 0.006281 and step is 100\n"
     ]
    },
    {
     "name": "stderr",
     "output_type": "stream",
     "text": [
      "C:\\Users\\mengh\\Anaconda3\\envs\\python35\\lib\\site-packages\\sklearn\\linear_model\\coordinate_descent.py:492: ConvergenceWarning: Objective did not converge. You might want to increase the number of iterations. Fitting data with very small alpha may cause precision problems.\n",
      "  ConvergenceWarning)\n",
      "C:\\Users\\mengh\\Anaconda3\\envs\\python35\\lib\\site-packages\\sklearn\\linear_model\\coordinate_descent.py:492: ConvergenceWarning: Objective did not converge. You might want to increase the number of iterations. Fitting data with very small alpha may cause precision problems.\n",
      "  ConvergenceWarning)\n",
      "C:\\Users\\mengh\\Anaconda3\\envs\\python35\\lib\\site-packages\\sklearn\\linear_model\\coordinate_descent.py:492: ConvergenceWarning: Objective did not converge. You might want to increase the number of iterations. Fitting data with very small alpha may cause precision problems.\n",
      "  ConvergenceWarning)\n",
      "C:\\Users\\mengh\\Anaconda3\\envs\\python35\\lib\\site-packages\\sklearn\\linear_model\\coordinate_descent.py:492: ConvergenceWarning: Objective did not converge. You might want to increase the number of iterations. Fitting data with very small alpha may cause precision problems.\n",
      "  ConvergenceWarning)\n"
     ]
    },
    {
     "name": "stdout",
     "output_type": "stream",
     "text": [
      "DD change is 0.006270 and step is 101\n",
      "done DD\n"
     ]
    },
    {
     "name": "stderr",
     "output_type": "stream",
     "text": [
      "C:\\Users\\mengh\\Anaconda3\\envs\\python35\\lib\\site-packages\\sklearn\\linear_model\\coordinate_descent.py:492: ConvergenceWarning: Objective did not converge. You might want to increase the number of iterations. Fitting data with very small alpha may cause precision problems.\n",
      "  ConvergenceWarning)\n"
     ]
    },
    {
     "ename": "TypeError",
     "evalue": "'map' object is not subscriptable",
     "output_type": "error",
     "traceback": [
      "\u001b[1;31m---------------------------------------------------------------------------\u001b[0m",
      "\u001b[1;31mTypeError\u001b[0m                                 Traceback (most recent call last)",
      "\u001b[1;32m<ipython-input-58-53081b52c93d>\u001b[0m in \u001b[0;36m<module>\u001b[1;34m\u001b[0m\n\u001b[0;32m     47\u001b[0m     \u001b[0mx_predict\u001b[0m \u001b[1;33m=\u001b[0m \u001b[0msc\u001b[0m\u001b[1;33m.\u001b[0m\u001b[0mpredict\u001b[0m\u001b[1;33m(\u001b[0m\u001b[0mA_last\u001b[0m\u001b[1;33m,\u001b[0m\u001b[0mB_list\u001b[0m\u001b[1;33m)\u001b[0m\u001b[1;33m\u001b[0m\u001b[1;33m\u001b[0m\u001b[0m\n\u001b[0;32m     48\u001b[0m     \u001b[0mx_predict_sum\u001b[0m \u001b[1;33m=\u001b[0m \u001b[0msum\u001b[0m\u001b[1;33m(\u001b[0m\u001b[0mx_predict\u001b[0m\u001b[1;33m)\u001b[0m\u001b[1;33m\u001b[0m\u001b[1;33m\u001b[0m\u001b[0m\n\u001b[1;32m---> 49\u001b[1;33m     \u001b[0mprint\u001b[0m\u001b[1;33m(\u001b[0m\u001b[1;34m\"the shape of the first predicted appliances is :%s\"\u001b[0m \u001b[1;33m%\u001b[0m\u001b[1;33m(\u001b[0m\u001b[0mx_predict\u001b[0m\u001b[1;33m[\u001b[0m\u001b[1;36m0\u001b[0m\u001b[1;33m]\u001b[0m\u001b[1;33m.\u001b[0m\u001b[0mshape\u001b[0m\u001b[1;33m,\u001b[0m\u001b[1;33m)\u001b[0m\u001b[1;33m)\u001b[0m\u001b[1;33m\u001b[0m\u001b[1;33m\u001b[0m\u001b[0m\n\u001b[0m\u001b[0;32m     50\u001b[0m     \u001b[1;31m# energy disaggregation accuracy\u001b[0m\u001b[1;33m\u001b[0m\u001b[1;33m\u001b[0m\u001b[1;33m\u001b[0m\u001b[0m\n\u001b[0;32m     51\u001b[0m     \u001b[0macc\u001b[0m \u001b[1;33m=\u001b[0m \u001b[0msc\u001b[0m\u001b[1;33m.\u001b[0m\u001b[0maccuracy\u001b[0m\u001b[1;33m(\u001b[0m\u001b[0mx_train\u001b[0m\u001b[1;33m.\u001b[0m\u001b[0mvalues\u001b[0m\u001b[1;33m(\u001b[0m\u001b[1;33m)\u001b[0m\u001b[1;33m,\u001b[0m\u001b[0mtrain_sum\u001b[0m\u001b[1;33m,\u001b[0m\u001b[0mB_list\u001b[0m\u001b[1;33m,\u001b[0m\u001b[0mA_last\u001b[0m\u001b[1;33m)\u001b[0m\u001b[1;33m\u001b[0m\u001b[1;33m\u001b[0m\u001b[0m\n",
      "\u001b[1;31mTypeError\u001b[0m: 'map' object is not subscriptable"
     ]
    }
   ],
   "source": [
    "factor_n_t = 5 # heuristically determined\n",
    "\n",
    "timeframes = [14,30,60]\n",
    "timeframes = [48]\n",
    "#timeframes = [x*24 for x in timeframes]\n",
    "alphas = [0.0001]\n",
    "#alphas = [0.0001, 0.00001, 0.000001]\n",
    "portion = 0.5\n",
    "# Good values (t,n,alpha)\n",
    "# (14,40, alpha = 0.0001)\n",
    "# (336,800, alpha = 0.00001)\n",
    "# (720,,1400, alpha = )\n",
    "for timeframe, alpha in zip(timeframes,alphas):\n",
    "    n = int(factor_n_t*timeframe)\n",
    "    x_train, x_test = split(d,portion,timeframe,portion_houses=None)\n",
    "# use in whole house disaggregation step\n",
    "    x_train_use = x_train.pop('use',None)\n",
    "    x_test_use = x_test.pop('use',None)\n",
    "    x_train_localhour = x_train.pop('localhour',None)\n",
    "    x_test_localhour = x_test.pop('localhour',None)\n",
    "# algorithm starts\n",
    "\n",
    "    # parameters\n",
    "    train_set = x_train\n",
    "    test_set = x_test\n",
    "    train_sum = sum(x_train.values())\n",
    "    k = len(x_train.keys())\n",
    "    T,m = x_train[list(x_train.keys())[0]].shape\n",
    "    rp = 0.0005\n",
    "    epsilon = 0.001\n",
    "    alpha = 0.0001\n",
    "    steps = 100 # steps must be higher than k\n",
    "    # get data\n",
    "    n_components = n\n",
    "\n",
    "    # Sparse Coding pre_training\n",
    "    sc = DDSC(train_set,train_sum,alpha,epsilon,rp,steps,n_components,m,T,k)\n",
    "    print(\"started the pre-training\")\n",
    "    A_list,B_list = sc.pre_training(x_train.values())\n",
    "    print(\"done pre_training\")\n",
    "    # Discriminative Disaggregation training\n",
    "    B_cat = sc.DD(x_train_use.values,B_list,A_list)\n",
    "    print(\"done DD\")\n",
    "    # Given test examples x_test\n",
    "    A_prime = sc.F(x_test_use.values,B_cat,A=np.vstack(A_list))\n",
    "    A_last = np.split(A_prime,k,axis=0)\n",
    "    x_predict = sc.predict(A_last,B_list)\n",
    "    x_predict_sum = sum(x_predict)\n",
    "    print(\"the shape of the first predicted appliances is :%s\" %(x_predict[0].shape,))\n",
    "    # energy disaggregation accuracy\n",
    "    acc = sc.accuracy(x_train.values(),train_sum,B_list,A_last)\n",
    "    # energy disaggregation error\n",
    "    error, error_star = sc.error(x_train.values(),train_sum,B_list,A_list)\n",
    "    print(\"error: %s, error_star: %s\" % (sum(error),sum(error_star)))\n",
    "    acc_nnsc, acc_ddsc = sc.get_accuracy_plot()\n",
    "    err_nnsc, err_ddsc = sc.get_error_plot()\n",
    "    # plotting acc/err\n",
    "    a_nnsc, a_ddsc = sc.get_a()\n",
    "    b_nnsc, b_ddsc = sc.get_b()"
   ]
  },
  {
   "cell_type": "code",
   "execution_count": null,
   "metadata": {},
   "outputs": [],
   "source": []
  }
 ],
 "metadata": {
  "kernelspec": {
   "display_name": "Python 3",
   "language": "python",
   "name": "python3"
  },
  "language_info": {
   "codemirror_mode": {
    "name": "ipython",
    "version": 3
   },
   "file_extension": ".py",
   "mimetype": "text/x-python",
   "name": "python",
   "nbconvert_exporter": "python",
   "pygments_lexer": "ipython3",
   "version": "3.6.7"
  }
 },
 "nbformat": 4,
 "nbformat_minor": 2
}
