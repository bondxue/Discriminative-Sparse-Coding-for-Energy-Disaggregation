{
 "cells": [
  {
   "cell_type": "markdown",
   "metadata": {},
   "source": [
    "# Dataprocessing the Pecan dataset using pandas"
   ]
  },
  {
   "cell_type": "markdown",
   "metadata": {},
   "source": [
    "### Importing libraries"
   ]
  },
  {
   "cell_type": "code",
   "execution_count": 114,
   "metadata": {},
   "outputs": [
    {
     "data": {
      "text/plain": [
       "<Figure size 1152x864 with 0 Axes>"
      ]
     },
     "execution_count": 114,
     "metadata": {},
     "output_type": "execute_result"
    },
    {
     "data": {
      "text/plain": [
       "<Figure size 1152x864 with 0 Axes>"
      ]
     },
     "metadata": {},
     "output_type": "display_data"
    }
   ],
   "source": [
    "%matplotlib inline\n",
    "\n",
    "import pandas as pd\n",
    "import numpy as np\n",
    "import matplotlib.pylab as plt\n",
    "import datetime\n",
    "plt.style.use('ggplot')\n",
    "import matplotlib.dates as dates\n",
    "\n",
    "# plots directory\n",
    "figure_directory= 'Discriminative-Sparse-Coding-for-Energy-Disaggregation/figures/'\n",
    "# change so that all figures have font size defulat as 22\n",
    "plt.rcParams.update({'font.size': 18})\n",
    "# figure size always the same\n",
    "plt.figure(figsize=(16,12))"
   ]
  },
  {
   "cell_type": "code",
   "execution_count": 4,
   "metadata": {},
   "outputs": [],
   "source": [
    "import os\n",
    "import sys\n",
    "import pandas as pd\n",
    "from collections import defaultdict"
   ]
  },
  {
   "cell_type": "code",
   "execution_count": 217,
   "metadata": {},
   "outputs": [
    {
     "name": "stdout",
     "output_type": "stream",
     "text": [
      "8759\n",
      "8759\n",
      "8759\n",
      "8759\n"
     ]
    },
    {
     "data": {
      "text/html": [
       "<div>\n",
       "<style scoped>\n",
       "    .dataframe tbody tr th:only-of-type {\n",
       "        vertical-align: middle;\n",
       "    }\n",
       "\n",
       "    .dataframe tbody tr th {\n",
       "        vertical-align: top;\n",
       "    }\n",
       "\n",
       "    .dataframe thead th {\n",
       "        text-align: right;\n",
       "    }\n",
       "</style>\n",
       "<table border=\"1\" class=\"dataframe\">\n",
       "  <thead>\n",
       "    <tr style=\"text-align: right;\">\n",
       "      <th></th>\n",
       "      <th>localhour</th>\n",
       "      <th>use</th>\n",
       "      <th>air1</th>\n",
       "      <th>furnace1</th>\n",
       "      <th>dishwasher1</th>\n",
       "      <th>regrigerator1</th>\n",
       "      <th>other</th>\n",
       "    </tr>\n",
       "    <tr>\n",
       "      <th>house</th>\n",
       "      <th></th>\n",
       "      <th></th>\n",
       "      <th></th>\n",
       "      <th></th>\n",
       "      <th></th>\n",
       "      <th></th>\n",
       "      <th></th>\n",
       "    </tr>\n",
       "  </thead>\n",
       "  <tbody>\n",
       "    <tr>\n",
       "      <th>135</th>\n",
       "      <td>2014-01-01 01:00:00</td>\n",
       "      <td>0.158</td>\n",
       "      <td>0.000</td>\n",
       "      <td>0.009</td>\n",
       "      <td>0.0</td>\n",
       "      <td>0.0</td>\n",
       "      <td>0.149</td>\n",
       "    </tr>\n",
       "    <tr>\n",
       "      <th>135</th>\n",
       "      <td>2014-01-01 02:00:00</td>\n",
       "      <td>1.097</td>\n",
       "      <td>0.759</td>\n",
       "      <td>0.060</td>\n",
       "      <td>0.0</td>\n",
       "      <td>0.0</td>\n",
       "      <td>0.278</td>\n",
       "    </tr>\n",
       "    <tr>\n",
       "      <th>135</th>\n",
       "      <td>2014-01-01 03:00:00</td>\n",
       "      <td>0.715</td>\n",
       "      <td>0.522</td>\n",
       "      <td>0.045</td>\n",
       "      <td>0.0</td>\n",
       "      <td>0.0</td>\n",
       "      <td>0.148</td>\n",
       "    </tr>\n",
       "    <tr>\n",
       "      <th>135</th>\n",
       "      <td>2014-01-01 04:00:00</td>\n",
       "      <td>0.111</td>\n",
       "      <td>0.000</td>\n",
       "      <td>0.009</td>\n",
       "      <td>0.0</td>\n",
       "      <td>0.0</td>\n",
       "      <td>0.102</td>\n",
       "    </tr>\n",
       "    <tr>\n",
       "      <th>135</th>\n",
       "      <td>2014-01-01 05:00:00</td>\n",
       "      <td>0.712</td>\n",
       "      <td>0.555</td>\n",
       "      <td>0.043</td>\n",
       "      <td>0.0</td>\n",
       "      <td>0.0</td>\n",
       "      <td>0.114</td>\n",
       "    </tr>\n",
       "  </tbody>\n",
       "</table>\n",
       "</div>"
      ],
      "text/plain": [
       "                localhour    use   air1  furnace1  dishwasher1  regrigerator1  \\\n",
       "house                                                                           \n",
       "135   2014-01-01 01:00:00  0.158  0.000     0.009          0.0            0.0   \n",
       "135   2014-01-01 02:00:00  1.097  0.759     0.060          0.0            0.0   \n",
       "135   2014-01-01 03:00:00  0.715  0.522     0.045          0.0            0.0   \n",
       "135   2014-01-01 04:00:00  0.111  0.000     0.009          0.0            0.0   \n",
       "135   2014-01-01 05:00:00  0.712  0.555     0.043          0.0            0.0   \n",
       "\n",
       "       other  \n",
       "house         \n",
       "135    0.149  \n",
       "135    0.278  \n",
       "135    0.148  \n",
       "135    0.102  \n",
       "135    0.114  "
      ]
     },
     "execution_count": 217,
     "metadata": {},
     "output_type": "execute_result"
    }
   ],
   "source": [
    "def read_data():\n",
    "    houses = [135, 275, 580, 898]\n",
    "    df = pd.DataFrame()\n",
    "    for house in houses:\n",
    "        house_df = pd.read_csv('datasets/{}.csv'.format(str(house)))\n",
    "        house_df['DateTime'] = pd.to_datetime(house_df['DateTime'])\n",
    "        house_df = house_df.set_index('DateTime')\n",
    "        house_df = house_df.resample('1H').first()  # resample from 15 mins to 1 hour \n",
    "        house_df = house_df.reset_index(drop=False) \n",
    "        print(len(house_df))\n",
    "               \n",
    "        house_df.columns = ['localhour', 'use', 'air1', 'furnace1', 'dishwasher1', 'regrigerator1']  \n",
    "        appliances_sum = house_df[['air1', 'furnace1', 'dishwasher1', 'regrigerator1']].sum(axis=1)\n",
    "        house_df['other'] = house_df['use'].subtract(appliances_sum)\n",
    "        house_df['house'] = house\n",
    "        house_df = house_df.set_index('house')\n",
    "        df = pd.concat([df, house_df])\n",
    "                               \n",
    "    return df\n",
    "\n",
    "df = read_data()\n",
    "df.head()"
   ]
  },
  {
   "cell_type": "code",
   "execution_count": 181,
   "metadata": {},
   "outputs": [
    {
     "data": {
      "text/html": [
       "<div>\n",
       "<style scoped>\n",
       "    .dataframe tbody tr th:only-of-type {\n",
       "        vertical-align: middle;\n",
       "    }\n",
       "\n",
       "    .dataframe tbody tr th {\n",
       "        vertical-align: top;\n",
       "    }\n",
       "\n",
       "    .dataframe thead th {\n",
       "        text-align: right;\n",
       "    }\n",
       "</style>\n",
       "<table border=\"1\" class=\"dataframe\">\n",
       "  <thead>\n",
       "    <tr style=\"text-align: right;\">\n",
       "      <th></th>\n",
       "      <th>use</th>\n",
       "      <th>air1</th>\n",
       "      <th>furnace1</th>\n",
       "      <th>dishwasher1</th>\n",
       "      <th>regrigerator1</th>\n",
       "      <th>other</th>\n",
       "    </tr>\n",
       "  </thead>\n",
       "  <tbody>\n",
       "    <tr>\n",
       "      <th>count</th>\n",
       "      <td>35032.000000</td>\n",
       "      <td>35032.000000</td>\n",
       "      <td>35032.000000</td>\n",
       "      <td>35032.000000</td>\n",
       "      <td>35032.000000</td>\n",
       "      <td>35032.000000</td>\n",
       "    </tr>\n",
       "    <tr>\n",
       "      <th>mean</th>\n",
       "      <td>0.643213</td>\n",
       "      <td>0.210109</td>\n",
       "      <td>0.087802</td>\n",
       "      <td>0.005515</td>\n",
       "      <td>0.053859</td>\n",
       "      <td>0.285929</td>\n",
       "    </tr>\n",
       "    <tr>\n",
       "      <th>std</th>\n",
       "      <td>0.785328</td>\n",
       "      <td>0.511516</td>\n",
       "      <td>0.290864</td>\n",
       "      <td>0.054339</td>\n",
       "      <td>0.058323</td>\n",
       "      <td>0.332453</td>\n",
       "    </tr>\n",
       "    <tr>\n",
       "      <th>min</th>\n",
       "      <td>0.000000</td>\n",
       "      <td>0.000000</td>\n",
       "      <td>0.000000</td>\n",
       "      <td>0.000000</td>\n",
       "      <td>0.000000</td>\n",
       "      <td>-0.055000</td>\n",
       "    </tr>\n",
       "    <tr>\n",
       "      <th>25%</th>\n",
       "      <td>0.151000</td>\n",
       "      <td>0.000000</td>\n",
       "      <td>0.007000</td>\n",
       "      <td>0.000000</td>\n",
       "      <td>0.000000</td>\n",
       "      <td>0.064000</td>\n",
       "    </tr>\n",
       "    <tr>\n",
       "      <th>50%</th>\n",
       "      <td>0.321000</td>\n",
       "      <td>0.000000</td>\n",
       "      <td>0.011000</td>\n",
       "      <td>0.000000</td>\n",
       "      <td>0.040000</td>\n",
       "      <td>0.192000</td>\n",
       "    </tr>\n",
       "    <tr>\n",
       "      <th>75%</th>\n",
       "      <td>0.836000</td>\n",
       "      <td>0.002000</td>\n",
       "      <td>0.051000</td>\n",
       "      <td>0.000000</td>\n",
       "      <td>0.090000</td>\n",
       "      <td>0.375000</td>\n",
       "    </tr>\n",
       "    <tr>\n",
       "      <th>max</th>\n",
       "      <td>7.447000</td>\n",
       "      <td>3.468000</td>\n",
       "      <td>5.165000</td>\n",
       "      <td>1.125000</td>\n",
       "      <td>0.750000</td>\n",
       "      <td>4.802000</td>\n",
       "    </tr>\n",
       "  </tbody>\n",
       "</table>\n",
       "</div>"
      ],
      "text/plain": [
       "                use          air1      furnace1   dishwasher1  regrigerator1  \\\n",
       "count  35032.000000  35032.000000  35032.000000  35032.000000   35032.000000   \n",
       "mean       0.643213      0.210109      0.087802      0.005515       0.053859   \n",
       "std        0.785328      0.511516      0.290864      0.054339       0.058323   \n",
       "min        0.000000      0.000000      0.000000      0.000000       0.000000   \n",
       "25%        0.151000      0.000000      0.007000      0.000000       0.000000   \n",
       "50%        0.321000      0.000000      0.011000      0.000000       0.040000   \n",
       "75%        0.836000      0.002000      0.051000      0.000000       0.090000   \n",
       "max        7.447000      3.468000      5.165000      1.125000       0.750000   \n",
       "\n",
       "              other  \n",
       "count  35032.000000  \n",
       "mean       0.285929  \n",
       "std        0.332453  \n",
       "min       -0.055000  \n",
       "25%        0.064000  \n",
       "50%        0.192000  \n",
       "75%        0.375000  \n",
       "max        4.802000  "
      ]
     },
     "execution_count": 181,
     "metadata": {},
     "output_type": "execute_result"
    }
   ],
   "source": [
    "df.describe()"
   ]
  },
  {
   "cell_type": "code",
   "execution_count": 190,
   "metadata": {},
   "outputs": [
    {
     "data": {
      "text/html": [
       "<div>\n",
       "<style scoped>\n",
       "    .dataframe tbody tr th:only-of-type {\n",
       "        vertical-align: middle;\n",
       "    }\n",
       "\n",
       "    .dataframe tbody tr th {\n",
       "        vertical-align: top;\n",
       "    }\n",
       "\n",
       "    .dataframe thead th {\n",
       "        text-align: right;\n",
       "    }\n",
       "</style>\n",
       "<table border=\"1\" class=\"dataframe\">\n",
       "  <thead>\n",
       "    <tr style=\"text-align: right;\">\n",
       "      <th></th>\n",
       "      <th>135</th>\n",
       "      <th>275</th>\n",
       "      <th>580</th>\n",
       "      <th>898</th>\n",
       "    </tr>\n",
       "  </thead>\n",
       "  <tbody>\n",
       "    <tr>\n",
       "      <th>0</th>\n",
       "      <td>0.158</td>\n",
       "      <td>1.414</td>\n",
       "      <td>0.102</td>\n",
       "      <td>0.488</td>\n",
       "    </tr>\n",
       "    <tr>\n",
       "      <th>1</th>\n",
       "      <td>1.097</td>\n",
       "      <td>1.090</td>\n",
       "      <td>0.101</td>\n",
       "      <td>0.531</td>\n",
       "    </tr>\n",
       "    <tr>\n",
       "      <th>2</th>\n",
       "      <td>0.715</td>\n",
       "      <td>0.976</td>\n",
       "      <td>0.101</td>\n",
       "      <td>0.222</td>\n",
       "    </tr>\n",
       "    <tr>\n",
       "      <th>3</th>\n",
       "      <td>0.111</td>\n",
       "      <td>1.004</td>\n",
       "      <td>5.169</td>\n",
       "      <td>0.222</td>\n",
       "    </tr>\n",
       "    <tr>\n",
       "      <th>4</th>\n",
       "      <td>0.712</td>\n",
       "      <td>0.826</td>\n",
       "      <td>2.633</td>\n",
       "      <td>0.193</td>\n",
       "    </tr>\n",
       "  </tbody>\n",
       "</table>\n",
       "</div>"
      ],
      "text/plain": [
       "     135    275    580    898\n",
       "0  0.158  1.414  0.102  0.488\n",
       "1  1.097  1.090  0.101  0.531\n",
       "2  0.715  0.976  0.101  0.222\n",
       "3  0.111  1.004  5.169  0.222\n",
       "4  0.712  0.826  2.633  0.193"
      ]
     },
     "execution_count": 190,
     "metadata": {},
     "output_type": "execute_result"
    }
   ],
   "source": [
    "def format_data(df):\n",
    "    '''\n",
    "    Parameters: df dataframe of the apppliacnes\n",
    "    Return: X^T x m\n",
    "    '''\n",
    "    d = {}\n",
    "    houses = [135, 275, 580,  898]\n",
    "    for appliance in df.columns.tolist():\n",
    "        started = 0\n",
    "        for i in houses:\n",
    "\n",
    "            if started == 0:\n",
    "\n",
    "                d[str(appliance)] = df[[str(appliance)]][df[str(appliance)].index == i]\n",
    "                started = 1\n",
    "                dfindex = d[str(appliance)].index\n",
    "            else:\n",
    "\n",
    "                d[str(appliance)][str(i)] = pd.Series(df[str(appliance)][df[str(appliance)].index == i].values,index=dfindex)\n",
    "\n",
    "        d[str(appliance)]=d[str(appliance)].rename(columns = {str(appliance):str(dfindex[0])})\n",
    "        d[str(appliance)].reset_index(drop=True, inplace=True)\n",
    "    return d\n",
    "    \n",
    "dic = format_data(df)\n",
    "dic['use'].head(5)"
   ]
  },
  {
   "cell_type": "code",
   "execution_count": 208,
   "metadata": {},
   "outputs": [
    {
     "data": {
      "text/plain": [
       "['localtime',\n",
       " 'use',\n",
       " 'air1',\n",
       " 'furnace1',\n",
       " 'dishwasher1',\n",
       " 'regrigerator1',\n",
       " 'other']"
      ]
     },
     "execution_count": 208,
     "metadata": {},
     "output_type": "execute_result"
    }
   ],
   "source": [
    "key = list(dic.keys())\n",
    "key\n",
    "# columns = dic[key].columns.tolist()"
   ]
  },
  {
   "cell_type": "code",
   "execution_count": 209,
   "metadata": {},
   "outputs": [],
   "source": [
    "def split(d,portion,timeframe, portion_houses=None, option=None):\n",
    "    '''\n",
    "    Parameters: d = dictionary, portion 0.5 - 0.9, timeframe 1-8760\n",
    "\n",
    "    Return: x_train,x_test dictionarys containing dataframes of all the appliances within the timeframe.\n",
    "    '''\n",
    "\n",
    "    x_train = {}\n",
    "    x_test = {}\n",
    "    timeframe = range(timeframe)\n",
    "    columns = list(dic.keys())\n",
    "    train_list  = timeframe[int(len(timeframe) * 0.0):int(len(timeframe) * portion)]\n",
    "    test_list = timeframe[int(len(timeframe) * portion):int(len(timeframe) * 1.0)]\n",
    "    '''\n",
    "    start_day_2014 = 3 # thursday\n",
    "    if option == 'week':\n",
    "        for key in d.keys():\n",
    "            x_train[key] = d[key].loc\n",
    "    '''\n",
    "    if portion_houses != None:\n",
    "        houses  = columns[int(len(columns) * 0.0): int(len(columns) * portion_houses)]\n",
    "\n",
    "    for key in d.keys():\n",
    "\n",
    "        if portion_houses != None:\n",
    "            x_train[key] = d[key].loc[train_list,houses]\n",
    "            x_test[key] = d[key].loc[test_list,houses]\n",
    "        else:\n",
    "            x_train[key] = d[key].loc[train_list,:]\n",
    "            x_test[key] = d[key].loc[test_list,:]\n",
    "\n",
    "    return x_train,x_test"
   ]
  },
  {
   "cell_type": "code",
   "execution_count": 215,
   "metadata": {},
   "outputs": [
    {
     "data": {
      "text/plain": [
       "{'localtime':                    135                 275                 580  \\\n",
       " 6  2014-01-01 07:00:00 2014-01-01 07:00:00 2014-01-01 07:00:00   \n",
       " 7  2014-01-01 08:00:00 2014-01-01 08:00:00 2014-01-01 08:00:00   \n",
       " 8  2014-01-01 09:00:00 2014-01-01 09:00:00 2014-01-01 09:00:00   \n",
       " 9  2014-01-01 10:00:00 2014-01-01 10:00:00 2014-01-01 10:00:00   \n",
       " 10 2014-01-01 11:00:00 2014-01-01 11:00:00 2014-01-01 11:00:00   \n",
       " 11 2014-01-01 12:00:00 2014-01-01 12:00:00 2014-01-01 12:00:00   \n",
       " \n",
       "                    898  \n",
       " 6  2014-01-01 07:00:00  \n",
       " 7  2014-01-01 08:00:00  \n",
       " 8  2014-01-01 09:00:00  \n",
       " 9  2014-01-01 10:00:00  \n",
       " 10 2014-01-01 11:00:00  \n",
       " 11 2014-01-01 12:00:00  , 'use':       135    275    580    898\n",
       " 6   0.139  0.903  1.095  0.051\n",
       " 7   1.083  0.997  0.103  0.220\n",
       " 8   0.104  0.918  1.290  0.250\n",
       " 9   1.184  0.726  0.112  0.089\n",
       " 10  0.229  0.513  0.152  0.640\n",
       " 11  0.225  0.615  3.283  2.059, 'air1':       135  275    580    898\n",
       " 6   0.000  0.0  0.004  0.000\n",
       " 7   0.913  0.0  0.000  0.001\n",
       " 8   0.000  0.0  0.005  0.001\n",
       " 9   0.000  0.0  0.000  0.000\n",
       " 10  0.000  0.0  0.000  0.002\n",
       " 11  0.000  0.0  0.013  0.004, 'furnace1':       135    275    580    898\n",
       " 6   0.009  0.152  1.006  0.011\n",
       " 7   0.064  0.317  0.005  0.198\n",
       " 8   0.010  0.309  1.198  0.232\n",
       " 9   0.010  0.265  0.005  0.011\n",
       " 10  0.010  0.052  0.005  0.174\n",
       " 11  0.010  0.006  3.000  0.011, 'dishwasher1':       135  275  580  898\n",
       " 6   0.000  0.0  0.0  0.0\n",
       " 7   0.000  0.0  0.0  0.0\n",
       " 8   0.000  0.0  0.0  0.0\n",
       " 9   0.001  0.0  0.0  0.0\n",
       " 10  0.000  0.0  0.0  0.0\n",
       " 11  0.000  0.0  0.0  0.0, 'regrigerator1':     135    275    580    898\n",
       " 6   0.0  0.101  0.023  0.000\n",
       " 7   0.0  0.138  0.021  0.000\n",
       " 8   0.0  0.140  0.032  0.000\n",
       " 9   0.0  0.119  0.038  0.038\n",
       " 10  0.0  0.136  0.046  0.004\n",
       " 11  0.0  0.136  0.053  0.049, 'other':       135    275    580    898\n",
       " 6   0.130  0.650  0.062  0.040\n",
       " 7   0.106  0.542  0.077  0.021\n",
       " 8   0.094  0.469  0.055  0.017\n",
       " 9   1.173  0.342  0.069  0.040\n",
       " 10  0.219  0.325  0.101  0.460\n",
       " 11  0.215  0.473  0.217  1.995}"
      ]
     },
     "execution_count": 215,
     "metadata": {},
     "output_type": "execute_result"
    }
   ],
   "source": [
    "x_train,x_test = split(dic, 0.5, 12)\n",
    "x_test"
   ]
  },
  {
   "cell_type": "markdown",
   "metadata": {},
   "source": [
    "### Data Exploration"
   ]
  },
  {
   "cell_type": "code",
   "execution_count": 218,
   "metadata": {},
   "outputs": [],
   "source": [
    "local = df['localhour'].tolist()\n",
    "import datetime, re\n",
    "xticks = map(lambda x: re.split('\\s',x)[0],local)"
   ]
  },
  {
   "cell_type": "markdown",
   "metadata": {},
   "source": [
    "### Usage for texas is like a poisson distribution, could be used in future research"
   ]
  },
  {
   "cell_type": "code",
   "execution_count": 232,
   "metadata": {},
   "outputs": [
    {
     "name": "stderr",
     "output_type": "stream",
     "text": [
      "C:\\Users\\mengh\\Anaconda3\\envs\\python35\\lib\\site-packages\\ipykernel_launcher.py:7: RuntimeWarning: invalid value encountered in less\n",
      "  import sys\n"
     ]
    },
    {
     "name": "stdout",
     "output_type": "stream",
     "text": [
      "0.6225032106943045 1.4404967893056937\n"
     ]
    },
    {
     "name": "stderr",
     "output_type": "stream",
     "text": [
      "C:\\Users\\mengh\\Anaconda3\\envs\\python35\\lib\\site-packages\\ipykernel_launcher.py:21: DeprecationWarning: `factorial` is deprecated!\n",
      "Importing `factorial` from scipy.misc is deprecated in scipy 1.0.0. Use `scipy.special.factorial` instead.\n",
      "C:\\Users\\mengh\\Anaconda3\\envs\\python35\\lib\\site-packages\\ipykernel_launcher.py:21: RuntimeWarning: invalid value encountered in power\n"
     ]
    },
    {
     "data": {
      "text/plain": [
       "<matplotlib.legend.Legend at 0x2541eb140b8>"
      ]
     },
     "execution_count": 232,
     "metadata": {},
     "output_type": "execute_result"
    },
    {
     "data": {
      "image/png": "[encoded data removed]",
      "text/plain": [
       "<Figure size 1152x864 with 1 Axes>"
      ]
     },
     "metadata": {},
     "output_type": "display_data"
    }
   ],
   "source": [
    "from scipy.optimize import curve_fit\n",
    "from scipy.misc import factorial\n",
    "from scipy import stats\n",
    "plt.figure(figsize=(16,12))\n",
    "\n",
    "#df_plot = np.where(df['use'].values < 6)\n",
    "df_plot = df['use'].values[np.where(df['use'].values < 6)]\n",
    "#entries, bin_edges, patches = df_plot[df_plot < 6].hist(bins=1000, figsize=(16,12),normed=True)\n",
    "# get poisson deviated random numbers\n",
    "data = np.random.poisson(2, 1000)\n",
    "entries, bin_edges, patches = plt.hist(df_plot,bins=1000,normed=True,label='Household energy usage', alpha=0.4)\n",
    "\n",
    "# the bins should be of integer width, because poisson is an integer distribution\n",
    "#entries, bin_edges, patches = plt.hist(data, bins=11, range=[-0.5, 10.5], normed=True)\n",
    "\n",
    "# calculate binmiddles\n",
    "bin_middles = 0.5*(bin_edges[1:] + bin_edges[:-1])\n",
    "\n",
    "# poisson function, parameter lamb is the fit parameter\n",
    "def poisson(k, lamb):\n",
    "    return (lamb**k/factorial(k)) * np.exp(-lamb)\n",
    "\n",
    "def weib(x,n,a):\n",
    "    return (a / n) * (x / n)**(a - 1) * np.exp(-(x / n)**a)\n",
    "\n",
    "(loc, scale) = stats.exponweib.fit_loc_scale(data, 1, 1)\n",
    "print(loc, scale)\n",
    "\n",
    "# fit with curve_fit\n",
    "parameters, cov_matrix = curve_fit(poisson, bin_middles, entries) \n",
    "\n",
    "# plot poisson-deviation with fitted parameter\n",
    "x_plot = np.linspace(0, 6, 1000)\n",
    "\n",
    "# plt.plot(x, weib(x, loc, scale))\n",
    "# plt.hist(data, data.max(), normed=True)\n",
    "curve = plt.plot(x_plot, poisson(x_plot, *parameters), 'r-', lw=2,label='Fitted poisson distribution')\n",
    "\n",
    "plt.title('Histogram of the whole-home usage for the Pecan dataset')\n",
    "plt.xlabel('kW')\n",
    "plt.legend()\n",
    "\n",
    "# plt.savefig(figure_directory+'histusage.png')"
   ]
  },
  {
   "cell_type": "code",
   "execution_count": 235,
   "metadata": {},
   "outputs": [
    {
     "name": "stderr",
     "output_type": "stream",
     "text": [
      "C:\\Users\\mengh\\Anaconda3\\envs\\python35\\lib\\site-packages\\ipykernel_launcher.py:5: RuntimeWarning: invalid value encountered in less\n",
      "  \"\"\"\n"
     ]
    },
    {
     "data": {
      "text/plain": [
       "<matplotlib.legend.Legend at 0x254215390f0>"
      ]
     },
     "execution_count": 235,
     "metadata": {},
     "output_type": "execute_result"
    },
    {
     "data": {
      "image/png": "[encoded data removed]",
      "text/plain": [
       "<Figure size 1152x864 with 1 Axes>"
      ]
     },
     "metadata": {},
     "output_type": "display_data"
    }
   ],
   "source": [
    "from scipy import stats\n",
    "plt.figure(figsize=(16,12))\n",
    "x_plot = np.linspace(0, 6, 1000)\n",
    "#df_plot = np.where(df['use'].values < 6)\n",
    "df_plot = df['use'].values[np.where(df['use'].values < 6)]\n",
    "plt.plot(x_plot, stats.exponweib.pdf(x_plot, *stats.exponweib.fit(df_plot, 1, 1, scale=0.2, loc=0)),lw=2,label='Fitted weibull distribution')\n",
    "_ = plt.hist(df_plot, bins=1000, normed=True, alpha=0.5, label='Household energy usage');\n",
    "\n",
    "plt.title('Histogram of the whole-home usage for the Pecan dataset')\n",
    "plt.xlabel('kW')\n",
    "plt.legend()\n",
    "\n",
    "# plt.savefig(figure_directory+'new_histusage.png')"
   ]
  },
  {
   "cell_type": "code",
   "execution_count": null,
   "metadata": {},
   "outputs": [],
   "source": []
  }
 ],
 "metadata": {
  "kernelspec": {
   "display_name": "Python 3",
   "language": "python",
   "name": "python3"
  },
  "language_info": {
   "codemirror_mode": {
    "name": "ipython",
    "version": 3
   },
   "file_extension": ".py",
   "mimetype": "text/x-python",
   "name": "python",
   "nbconvert_exporter": "python",
   "pygments_lexer": "ipython3",
   "version": "3.6.7"
  }
 },
 "nbformat": 4,
 "nbformat_minor": 2
}
